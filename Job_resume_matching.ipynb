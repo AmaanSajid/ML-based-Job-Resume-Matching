{
  "nbformat": 4,
  "nbformat_minor": 0,
  "metadata": {
    "colab": {
      "provenance": [],
      "gpuType": "T4"
    },
    "kernelspec": {
      "name": "python3",
      "display_name": "Python 3"
    },
    "language_info": {
      "name": "python"
    },
    "accelerator": "GPU",
    "gpuClass": "standard"
  },
  "cells": [
    {
      "cell_type": "code",
      "source": [
        "!pip install pdfplumber -q"
      ],
      "metadata": {
        "id": "1p3GuDN4tnKi"
      },
      "execution_count": 4,
      "outputs": []
    },
    {
      "cell_type": "code",
      "source": [
        "!pip install ftfy"
      ],
      "metadata": {
        "colab": {
          "base_uri": "https://localhost:8080/"
        },
        "id": "G_I72HAouN-Z",
        "outputId": "1e20a2b2-0fae-4792-9f70-36f4eb62f447"
      },
      "execution_count": 5,
      "outputs": [
        {
          "output_type": "stream",
          "name": "stdout",
          "text": [
            "Looking in indexes: https://pypi.org/simple, https://us-python.pkg.dev/colab-wheels/public/simple/\n",
            "Requirement already satisfied: ftfy in /usr/local/lib/python3.10/dist-packages (6.1.1)\n",
            "Requirement already satisfied: wcwidth>=0.2.5 in /usr/local/lib/python3.10/dist-packages (from ftfy) (0.2.6)\n"
          ]
        }
      ]
    },
    {
      "cell_type": "code",
      "source": [
        "!pip install fuzzywuzzy"
      ],
      "metadata": {
        "colab": {
          "base_uri": "https://localhost:8080/"
        },
        "id": "r3yoRFLZuXBo",
        "outputId": "28ba4214-357f-46ac-fd2e-d9fd682504d4"
      },
      "execution_count": 6,
      "outputs": [
        {
          "output_type": "stream",
          "name": "stdout",
          "text": [
            "Looking in indexes: https://pypi.org/simple, https://us-python.pkg.dev/colab-wheels/public/simple/\n",
            "Requirement already satisfied: fuzzywuzzy in /usr/local/lib/python3.10/dist-packages (0.18.0)\n"
          ]
        }
      ]
    },
    {
      "cell_type": "code",
      "execution_count": 7,
      "metadata": {
        "colab": {
          "base_uri": "https://localhost:8080/"
        },
        "id": "gSipnJAhtIsA",
        "outputId": "844df7b1-47ff-4d62-c7e4-a57eb5252c98"
      },
      "outputs": [
        {
          "output_type": "stream",
          "name": "stderr",
          "text": [
            "/usr/local/lib/python3.10/dist-packages/fuzzywuzzy/fuzz.py:11: UserWarning: Using slow pure-python SequenceMatcher. Install python-Levenshtein to remove this warning\n",
            "  warnings.warn('Using slow pure-python SequenceMatcher. Install python-Levenshtein to remove this warning')\n"
          ]
        }
      ],
      "source": [
        "import numpy as np\n",
        "import pandas as pd\n",
        "import matplotlib.pyplot as plt\n",
        "import seaborn as sns\n",
        "import pdfplumber\n",
        "import re\n",
        "from nltk.stem import WordNetLemmatizer\n",
        "from nltk.corpus import stopwords\n",
        "from fuzzywuzzy import fuzz\n",
        "from sklearn.feature_extraction.text import CountVectorizer\n",
        "from scipy import stats\n",
        "from gensim.models import Word2Vec\n",
        "from gensim.models import KeyedVectors\n",
        "from tqdm import tqdm"
      ]
    },
    {
      "cell_type": "code",
      "source": [
        "def pdf2Text(filename):\n",
        "    ''' load pdf and return the text'''\n",
        "    text = ''\n",
        "    # open the pdf file\n",
        "    with pdfplumber.open(filename) as pdfObj:\n",
        "        # loop over each page\n",
        "        for page in pdfObj.pages:\n",
        "            # get text from the page and concat\n",
        "            text += page.extract_text()\n",
        "    # return all texts\n",
        "    return text"
      ],
      "metadata": {
        "id": "0N8LVp6BtQgK"
      },
      "execution_count": 8,
      "outputs": []
    },
    {
      "cell_type": "code",
      "source": [
        "jd = pdf2Text('/content/drive/MyDrive/Colab Notebooks/DATASET/dataset/Job description.pdf')\n",
        "print(jd)"
      ],
      "metadata": {
        "colab": {
          "base_uri": "https://localhost:8080/"
        },
        "id": "uBAMiWw0vwYU",
        "outputId": "852e51fb-5886-4a92-d474-9f362a4957c6"
      },
      "execution_count": 9,
      "outputs": [
        {
          "output_type": "stream",
          "name": "stdout",
          "text": [
            "Machine Learning Engineering\n",
            "13585ABC\n",
            "Knowledge and Innovation\n",
            "What you’ll do\n",
            "You will focus on researching, building, and designing self-running artificial intelligence (AI)\n",
            "systems to automate predictive models. You are responsible to design and create the AI\n",
            "algorithms capable of learning and making predictions that define machine learning (ML).\n",
            "Experience and qualifications\n",
            "● Bachelor's or Master's degree (mention the course as per requirement)\n",
            "● 0-2 years of work experience providing analytics solutions in a commercial setting\n",
            "Technical expertise\n",
            "Must have\n",
            "● Machine Learning, Clustering, Logistic Regression, Classification\n",
            "● Different libraries such as SciKit Learn, NumPy, Pandas, Matplotlib, Seaborn\n",
            "● Deep learning frameworks such as Tensorflow, Keras, PyTorch and application of Neural\n",
            "Networks and models. CNN, RNN, GANs\n",
            "● Familiar with Natural Language Processing and associated libraries like NLTK, SpaCy,\n",
            "Beautiful Soup\n",
            "● PySpark, Hadoop, and Big Data Pipelines\n",
            "● Data science methodology from exploratory data analysis, feature engineering, model\n",
            "selection, deployment of the model at scale, and model evaluation\n",
            "● Deploying NLP architectures and Computer Vision Models in production\n",
            "Considered as a plus\n",
            "● Transformers and other advance techniques in NLP\n",
            "● Familiar with Computer Vision models and object detection, OCR, OpenCV\n",
            "● Analytical Tools as it will reduce any medium for data transfers● Web frameworks like Django and databases like MongoDB, NoSQL, GraphQL\n",
            "● SQL, Firebase, AWS, Azure, Google Cloud Platform\n",
            "Your job type\n",
            "Full time\n"
          ]
        }
      ]
    },
    {
      "cell_type": "code",
      "source": [
        "csvData = pd.read_csv('/content/drive/MyDrive/Colab Notebooks/DATASET/dataset/train.csv')"
      ],
      "metadata": {
        "id": "3LpntlH9v5MW"
      },
      "execution_count": 10,
      "outputs": []
    },
    {
      "cell_type": "code",
      "source": [
        "csvData.shape"
      ],
      "metadata": {
        "colab": {
          "base_uri": "https://localhost:8080/"
        },
        "id": "eo9uD6i_wcSu",
        "outputId": "34fe399a-493b-4622-e8d9-fb4c392a9831"
      },
      "execution_count": 11,
      "outputs": [
        {
          "output_type": "execute_result",
          "data": {
            "text/plain": [
              "(90, 2)"
            ]
          },
          "metadata": {},
          "execution_count": 11
        }
      ]
    },
    {
      "cell_type": "code",
      "source": [
        "csvData.columns"
      ],
      "metadata": {
        "colab": {
          "base_uri": "https://localhost:8080/"
        },
        "id": "1CSmj0dYwfZ2",
        "outputId": "a3d0365d-653e-4c4b-bea4-cf7baf95fef8"
      },
      "execution_count": 12,
      "outputs": [
        {
          "output_type": "execute_result",
          "data": {
            "text/plain": [
              "Index(['CandidateID', 'Match Percentage'], dtype='object')"
            ]
          },
          "metadata": {},
          "execution_count": 12
        }
      ]
    },
    {
      "cell_type": "code",
      "source": [
        "csvData.info()"
      ],
      "metadata": {
        "colab": {
          "base_uri": "https://localhost:8080/"
        },
        "id": "agySUXthwhe_",
        "outputId": "71da1f59-5479-4f03-ed24-c717d79c749f"
      },
      "execution_count": 13,
      "outputs": [
        {
          "output_type": "stream",
          "name": "stdout",
          "text": [
            "<class 'pandas.core.frame.DataFrame'>\n",
            "RangeIndex: 90 entries, 0 to 89\n",
            "Data columns (total 2 columns):\n",
            " #   Column            Non-Null Count  Dtype  \n",
            "---  ------            --------------  -----  \n",
            " 0   CandidateID       90 non-null     object \n",
            " 1   Match Percentage  90 non-null     float64\n",
            "dtypes: float64(1), object(1)\n",
            "memory usage: 1.5+ KB\n"
          ]
        }
      ]
    },
    {
      "cell_type": "code",
      "source": [
        "print(csvData.duplicated().sum())"
      ],
      "metadata": {
        "colab": {
          "base_uri": "https://localhost:8080/"
        },
        "id": "DFLBo4T3wkFG",
        "outputId": "2369da7a-dd24-4e37-f472-8f84516faa98"
      },
      "execution_count": 14,
      "outputs": [
        {
          "output_type": "stream",
          "name": "stdout",
          "text": [
            "0\n"
          ]
        }
      ]
    },
    {
      "cell_type": "code",
      "source": [
        "sns.kdeplot(csvData['Match Percentage'].values)\n",
        "plt.title('PDF of Match Percentage')\n",
        "plt.show()"
      ],
      "metadata": {
        "colab": {
          "base_uri": "https://localhost:8080/",
          "height": 452
        },
        "id": "3iUTloIzwoTD",
        "outputId": "cd7f7156-f332-41d2-ad36-c39edd965008"
      },
      "execution_count": 15,
      "outputs": [
        {
          "output_type": "display_data",
          "data": {
            "text/plain": [
              "<Figure size 640x480 with 1 Axes>"
            ],
            "image/png": "[encoded data removed]"
          },
          "metadata": {}
        }
      ]
    },
    {
      "cell_type": "code",
      "source": [
        "for sampleResume in csvData.CandidateID.head().values:\n",
        "    # load resume pdf\n",
        "    print(pdf2Text('/content/drive/MyDrive/Colab Notebooks/DATASET/dataset/trainResumes/'+sampleResume+'.pdf'))\n",
        "    print('\\n\\n'+'*'*80+'\\n\\n')"
      ],
      "metadata": {
        "colab": {
          "base_uri": "https://localhost:8080/"
        },
        "id": "jAEYan7_w4A3",
        "outputId": "811417d3-67f9-4379-d003-18a6cd176dc4"
      },
      "execution_count": 16,
      "outputs": [
        {
          "output_type": "stream",
          "name": "stdout",
          "text": [
            "L I A M A N D R E W S\n",
            "FRESHER\n",
            "EXECUTIVE WORK EXPERIENCE\n",
            "SUMMARY\n",
            "DICTIS\n",
            "Fresher with strong statistical and Intern Trainee, Jan 2020 to Apr 2020\n",
            "analytic capabilities. Someone who\n",
            "Responsible for performing and helping in decision\n",
            "is driven by the passion for\n",
            "making.\n",
            "problem solving. Though I am from\n",
            "Civil Engineering background I\n",
            "have always been fascinated with\n",
            "data and how Machine Learning is\n",
            "evolving with iit.\n",
            "PERSONAL\n",
            "SKILLS\n",
            "Data Analyst, Data Mining, Data\n",
            "Visualization, Machine Learning,\n",
            "Linear Regression, Statistical\n",
            "Modeling, Predictive Modeling, SQL\n",
            "ACADEMIC PROFILE\n",
            "Server, Oracle, Python.\n",
            "PROJECTS\n",
            "B.Tech(Civil) Garodia Institute of Technosciences,\n",
            "Railway Signals Determiner using\n",
            "2020\n",
            "relay weight system.\n",
            "EXTRA-CURRICULARS\n",
            "Data Preprocessing with Python\n",
            "Data Visualization with Power BI\n",
            "\n",
            "\n",
            "********************************************************************************\n",
            "\n",
            "\n",
            "Ellie Mackey\n",
            "FRESHER INTERN\n",
            "Executive Profile Work Experience\n",
            "Actively seeking job. An enthusiast, with a BB House of Developers\n",
            "Master's degree in Electronics & Intern Trainee, Nov 2019 - Feb 2020\n",
            "Telecommunication, very keen to learn &\n",
            "eagerly looking for opportunities. Learned the in's and out's of software development of machine\n",
            "learning projects.\n",
            "Skills\n",
            "Education\n",
            "Data science, Deep learning, Neural\n",
            "Networks, Artificial Intelligence, Natural B.CA St. Subhash College, Hyderabad 2020.\n",
            "Language Processing, Pattern Recognition,\n",
            "Machine Learning, Predictive Analytics,\n",
            "Logistic regression.\n",
            "Other Activities\n",
            "MACHINE LEARNING with Python.\n",
            "Projects\n",
            "Mine and analyze data from databases to\n",
            "drive optimization and improvement of\n",
            "product development, marketing\n",
            "techniques and business strategies.\n",
            "\n",
            "\n",
            "********************************************************************************\n",
            "\n",
            "\n",
            "FELIX WINSTON\n",
            "FRESHER\n",
            "ABOUT\n",
            "Fresher having knowledge in machine learning and natural language processing. Looking to join a role where I can learn\n",
            "from an well informed environment, experiment and produce promising results and work with different kinds of data.\n",
            "SKILLS\n",
            "Data Analyst, Machine Learning, Data Mining, Data Science, Natural Language Processing, Data Visualization, Data\n",
            "Analysis.\n",
            "PROJECTS WORK EXPERIENCE\n",
            "Data Management Using Automated ML scripts. Telco\n",
            "Trainee Intern, May 2018 - Dec 2018\n",
            "ACTIVITES\n",
            "Data Handling for clients and giving them insights\n",
            "and reports based on that.\n",
            "Understanding Neural Networks Nanyang University.\n",
            "EDUCATION\n",
            "B.Tech(Bio-Tech) Sai Charan Singh University,\n",
            "Ludhiana, 2017\n",
            "M.Tech(Data Science) Sai Charan Singh University,\n",
            "Ludhiana, 2019\n",
            "\n",
            "\n",
            "********************************************************************************\n",
            "\n",
            "\n",
            "JIMMY GARTNER\n",
            "DA T A M A N A G E R\n",
            "PROFESSIONAL PROFILE EMPLOYMENT HISTORY\n",
            "I am looking for an opportunity to work as E Express\n",
            "a Data Scientist. Possessing right and\n",
            "Associate Data Scientist, Aug 2020 to Till Date\n",
            "accurate skills at collecting, analyzing,\n",
            "interpreting large datasets and Pricing Engine, Vehicle Allocation Problem, Optimising Route\n",
            "performing data management tasks. Mechanism development with the help of big data analytics.\n",
            "Under the guidance of company's\n",
            "professionals I can contribute to\n",
            "company's success using my extensive\n",
            "analytical skills.\n",
            "PROFICIENT SKILLS\n",
            "Business Analytics, Data Analysis, Machine\n",
            "Learning, SQL, Firebase, AWS, GCP, Cloud\n",
            "Infrastructure, Python, Text Mining,\n",
            "Database Management and Processing,\n",
            "Time Series Analysis, Research Analysis,\n",
            "ACHIEVEMENTS AND EXTRA EDUCATIONAL HISTORY\n",
            "CURRICULARS\n",
            "Lucknow University\n",
            "Firebase Engineer level 2\n",
            "B.Sc (Statistics) in 2019\n",
            "GCP Architect Proficiency 1\n",
            "Big Data Analytics Crash course\n",
            "PROJECTS\n",
            "Video Recommender System\n",
            "NLP text extraction from online scriptures\n",
            "\n",
            "\n",
            "********************************************************************************\n",
            "\n",
            "\n",
            "MASON QUADRADO\n",
            "ASSOCIATE ANALYST\n",
            "ABOUT\n",
            "Certified Data analyst with a degree in Electronics Engineering, I have hands on experience in analyzing & interpreting\n",
            "data with good numerical accuracy.\n",
            "SKILLS\n",
            "Python, Machine Learning, MySQL, Data Mining, Deep Learning, Data Analysis, Computer Vision, Flask API, Predictive\n",
            "Modeling, AWS, Scikit-Learn, Numpy, Statistical Analysis, Multivariate Analysis, Decision Trees, Random Forest, Xgboost,\n",
            "NLP.\n",
            "PROJECT WORK EXPERIENCE\n",
            "Deep Learning based pattern matching. AMZ Loans and Mortgages\n",
            "Auto-Color Grading using Python ERC Analytics, Jun 2019 to till date\n",
            "Handling data of employees and finding retention\n",
            "OTHER QUALIFICATION\n",
            "factors and employee satisfaction. Worked Closely\n",
            "with the HR team to find a balance that was\n",
            "Google Cloud Certified\n",
            "beneficial for both employees and the Company.\n",
            "EDUCATION\n",
            "B.Tech/B.E. (Electronics/Telecommunication) from\n",
            "Nagpur University in 2019\n",
            "\n",
            "\n",
            "********************************************************************************\n",
            "\n",
            "\n"
          ]
        }
      ]
    },
    {
      "cell_type": "markdown",
      "source": [
        "Univariate \n",
        "Univariate analysis focuses on analyzing a single variable in isolation. It helps us understand the distribution\n",
        "Bi-variate Analysis\n",
        "Bivariate analysis involves examining the relationship between two variables in a dataset.\n",
        "By calculating correlation coefficients"
      ],
      "metadata": {
        "id": "GwTk93RgdQBs"
      }
    },
    {
      "cell_type": "code",
      "source": [
        "resumeStrLen = []\n",
        "resumeWordLen = []\n",
        "# loop over all resumes\n",
        "for sampleResume in csvData.CandidateID.values:\n",
        "    # get character length of the resume\n",
        "    resumeStrLen.append(len(pdf2Text('/content/drive/MyDrive/Colab Notebooks/DATASET/dataset/trainResumes/'+sampleResume+'.pdf')))\n",
        "    # get word length of the resume\n",
        "    resumeWordLen.append(len(pdf2Text('/content/drive/MyDrive/Colab Notebooks/DATASET/dataset/trainResumes/'+sampleResume+'.pdf').split()))"
      ],
      "metadata": {
        "id": "Kegzlobtbxpl"
      },
      "execution_count": 17,
      "outputs": []
    },
    {
      "cell_type": "code",
      "source": [
        "print('Min resume word length '+str(min(resumeWordLen)))\n",
        "print('Max resume word length '+str(max(resumeWordLen)))\n",
        "sns.kdeplot(resumeWordLen)\n",
        "plt.title('PDF of Resume word length')\n",
        "plt.show()"
      ],
      "metadata": {
        "colab": {
          "base_uri": "https://localhost:8080/",
          "height": 488
        },
        "id": "Y52TZK63dog_",
        "outputId": "93249392-0e4f-40b3-943d-022a389f91ba"
      },
      "execution_count": 18,
      "outputs": [
        {
          "output_type": "stream",
          "name": "stdout",
          "text": [
            "Min resume word length 73\n",
            "Max resume word length 213\n"
          ]
        },
        {
          "output_type": "display_data",
          "data": {
            "text/plain": [
              "<Figure size 640x480 with 1 Axes>"
            ],
            "image/png": "[encoded data removed]"
          },
          "metadata": {}
        }
      ]
    },
    {
      "cell_type": "code",
      "source": [
        "print('Spearman Rank Correlation Coefficient is', stats.spearmanr(resumeStrLen, csvData['Match Percentage']).correlation)\n",
        "plt.scatter(resumeStrLen, csvData['Match Percentage'])\n",
        "plt.title('Correlation between Resume character length and Match Percentage')\n",
        "plt.xlabel('Resume character length')\n",
        "plt.ylabel('Match Percentage')\n",
        "plt.show()"
      ],
      "metadata": {
        "colab": {
          "base_uri": "https://localhost:8080/",
          "height": 490
        },
        "id": "yng3e4wweLOB",
        "outputId": "8babd766-2d94-4490-b73a-2c9e0e8d0424"
      },
      "execution_count": 19,
      "outputs": [
        {
          "output_type": "stream",
          "name": "stdout",
          "text": [
            "Spearman Rank Correlation Coefficient is 0.19467413002037587\n"
          ]
        },
        {
          "output_type": "display_data",
          "data": {
            "text/plain": [
              "<Figure size 640x480 with 1 Axes>"
            ],
            "image/png": "[encoded data removed]"
          },
          "metadata": {}
        }
      ]
    },
    {
      "cell_type": "markdown",
      "source": [
        "There is very weak correlation between Resume character length and Match Percentage.\n",
        "There is very weak correlation between Resume word length and Match Percentage but it is better than character length"
      ],
      "metadata": {
        "id": "8EgsCJVVe6lb"
      }
    },
    {
      "cell_type": "markdown",
      "source": [
        "**CLEANING THE DATA**"
      ],
      "metadata": {
        "id": "UqLmNjzHfEs1"
      }
    },
    {
      "cell_type": "code",
      "source": [
        "def concat(s):\n",
        "    '''Concatenate words like \"D A T A  S C I E N C E\" to get \"DATA SCIENCE\"'''\n",
        "    # add spaces at both end for better processing\n",
        "    s = ' '+s+' '\n",
        "    while True:\n",
        "        # search if more than two alphabets are separated by space\n",
        "        x = re.search(r\"(\\s[a-zA-Z]){2,}\\s\", s)\n",
        "        if x==None:\n",
        "            break\n",
        "        # replace to get the concatenation\n",
        "        s = s.replace(x.group(),' '+x.group().replace(' ','')+' ')\n",
        "    return s"
      ],
      "metadata": {
        "id": "8y35ZQxMeVMH"
      },
      "execution_count": 20,
      "outputs": []
    },
    {
      "cell_type": "code",
      "source": [
        "def preprocess_text(x, removeStopWords=False):\n",
        "    # convert to lower case\n",
        "    x = str(x).lower()\n",
        "    # replace unusual quotes with '\n",
        "    x = x.replace(\"′\", \"'\").replace(\"’\", \"'\")\n",
        "    # replace new line with space\n",
        "    x = x.replace(\"\\n\", \" \")\n",
        "    # concatenate\n",
        "    x = concat(x)\n",
        "    # remove links\n",
        "    x = re.sub(r\"http\\S+\", \"\", x)\n",
        "    \n",
        "    # convert education degrees like B.Tech or BTech to a specified form\n",
        "    x = re.sub(r\"\\s+b[.]?[ ]?tech[(. /]{1}\", \" btech bachelor of technology \", x)\n",
        "    x = re.sub(r\"\\s+m[.]?[ ]?tech[(. ]{1}\", \" mtech master of technology \", x)\n",
        "    x = re.sub(r\"\\s+b[.]?[ ]?a[(. ]{1}\", \" ba bachelor of arts \", x)\n",
        "    x = re.sub(r\"\\s+m[.]?[ ]?a[(. ]{1}\", \" ma master of arts \", x)\n",
        "    x = re.sub(r\"\\s+b[.]?[ ]?sc[(. ]{1}\", \" bsc bachelor of science \", x)\n",
        "    x = re.sub(r\"\\s+m[.]?[ ]?sc[(. ]{1}\", \" msc master of science \", x)\n",
        "    x = re.sub(r\"\\s+b[.]?[ ]?e[(. ]{1}\", \" beng bachelor of engineering \", x)\n",
        "    x = re.sub(r\"\\s+m[.]?[ ]?e[(. ]{1}\", \" meng master of engineering \", x)\n",
        "    x = re.sub(r\"\\s+b[.]?[ ]?c[.]?[ ]?a[(. ]{1}\", \" bca bachelor of computer applications \", x)\n",
        "    x = re.sub(r\"\\s+m[.]?[ ]?c[.]?[ ]?a[(. ]{1}\", \" mca master of computer applications \", x)\n",
        "    x = re.sub(r\"\\s+b[.]?[ ]?b[.]?[ ]?a[(. ]{1}\", \" bba bachelor of business administration \", x)\n",
        "    x = re.sub(r\"\\s+m[.]?[ ]?b[.]?[ ]?a[(. ]{1}\", \" mba master of business administration \", x)\n",
        "    \n",
        "    # convert skills with special symbols to words\n",
        "    x = x.replace(\"c++\", \"cplusplus\")\n",
        "    x = x.replace(\"c#\", \"csharp\")\n",
        "    x = x.replace(\".net\", \"dotnet\")\n",
        "    \n",
        "    # replace non alpha numeric character with space\n",
        "    x = re.sub('\\W', ' ', x)\n",
        "    \n",
        "    # if remove stop words flag set then remove them\n",
        "    z = []\n",
        "    for i in x.split():\n",
        "        if not (removeStopWords and i in stopwords.words('english')):\n",
        "            # use lemmatizer to reduce the inflections\n",
        "            lemmatizer = WordNetLemmatizer()\n",
        "            i = lemmatizer.lemmatize(i)\n",
        "            z.append(i)\n",
        "    z = ' '.join(z)\n",
        "    \n",
        "    # strip white spaces\n",
        "    z = z.strip()\n",
        "    return z"
      ],
      "metadata": {
        "id": "XAHOA0PufNGn"
      },
      "execution_count": 21,
      "outputs": []
    },
    {
      "cell_type": "code",
      "source": [
        "import nltk\n",
        "nltk.download('all')"
      ],
      "metadata": {
        "colab": {
          "base_uri": "https://localhost:8080/"
        },
        "id": "_VEG83ysfuh9",
        "outputId": "fa2a1af5-a813-46db-f328-f086cd70fe42"
      },
      "execution_count": 22,
      "outputs": [
        {
          "output_type": "stream",
          "name": "stderr",
          "text": [
            "[nltk_data] Downloading collection 'all'\n",
            "[nltk_data]    | \n",
            "[nltk_data]    | Downloading package abc to /root/nltk_data...\n",
            "[nltk_data]    |   Package abc is already up-to-date!\n",
            "[nltk_data]    | Downloading package alpino to /root/nltk_data...\n",
            "[nltk_data]    |   Package alpino is already up-to-date!\n",
            "[nltk_data]    | Downloading package averaged_perceptron_tagger to\n",
            "[nltk_data]    |     /root/nltk_data...\n",
            "[nltk_data]    |   Package averaged_perceptron_tagger is already up-\n",
            "[nltk_data]    |       to-date!\n",
            "[nltk_data]    | Downloading package averaged_perceptron_tagger_ru to\n",
            "[nltk_data]    |     /root/nltk_data...\n",
            "[nltk_data]    |   Package averaged_perceptron_tagger_ru is already\n",
            "[nltk_data]    |       up-to-date!\n",
            "[nltk_data]    | Downloading package basque_grammars to\n",
            "[nltk_data]    |     /root/nltk_data...\n",
            "[nltk_data]    |   Package basque_grammars is already up-to-date!\n",
            "[nltk_data]    | Downloading package bcp47 to /root/nltk_data...\n",
            "[nltk_data]    |   Package bcp47 is already up-to-date!\n",
            "[nltk_data]    | Downloading package biocreative_ppi to\n",
            "[nltk_data]    |     /root/nltk_data...\n",
            "[nltk_data]    |   Package biocreative_ppi is already up-to-date!\n",
            "[nltk_data]    | Downloading package bllip_wsj_no_aux to\n",
            "[nltk_data]    |     /root/nltk_data...\n",
            "[nltk_data]    |   Package bllip_wsj_no_aux is already up-to-date!\n",
            "[nltk_data]    | Downloading package book_grammars to\n",
            "[nltk_data]    |     /root/nltk_data...\n",
            "[nltk_data]    |   Package book_grammars is already up-to-date!\n",
            "[nltk_data]    | Downloading package brown to /root/nltk_data...\n",
            "[nltk_data]    |   Package brown is already up-to-date!\n",
            "[nltk_data]    | Downloading package brown_tei to /root/nltk_data...\n",
            "[nltk_data]    |   Package brown_tei is already up-to-date!\n",
            "[nltk_data]    | Downloading package cess_cat to /root/nltk_data...\n",
            "[nltk_data]    |   Package cess_cat is already up-to-date!\n",
            "[nltk_data]    | Downloading package cess_esp to /root/nltk_data...\n",
            "[nltk_data]    |   Package cess_esp is already up-to-date!\n",
            "[nltk_data]    | Downloading package chat80 to /root/nltk_data...\n",
            "[nltk_data]    |   Package chat80 is already up-to-date!\n",
            "[nltk_data]    | Downloading package city_database to\n",
            "[nltk_data]    |     /root/nltk_data...\n",
            "[nltk_data]    |   Package city_database is already up-to-date!\n",
            "[nltk_data]    | Downloading package cmudict to /root/nltk_data...\n",
            "[nltk_data]    |   Package cmudict is already up-to-date!\n",
            "[nltk_data]    | Downloading package comparative_sentences to\n",
            "[nltk_data]    |     /root/nltk_data...\n",
            "[nltk_data]    |   Package comparative_sentences is already up-to-\n",
            "[nltk_data]    |       date!\n",
            "[nltk_data]    | Downloading package comtrans to /root/nltk_data...\n",
            "[nltk_data]    |   Package comtrans is already up-to-date!\n",
            "[nltk_data]    | Downloading package conll2000 to /root/nltk_data...\n",
            "[nltk_data]    |   Package conll2000 is already up-to-date!\n",
            "[nltk_data]    | Downloading package conll2002 to /root/nltk_data...\n",
            "[nltk_data]    |   Package conll2002 is already up-to-date!\n",
            "[nltk_data]    | Downloading package conll2007 to /root/nltk_data...\n",
            "[nltk_data]    |   Package conll2007 is already up-to-date!\n",
            "[nltk_data]    | Downloading package crubadan to /root/nltk_data...\n",
            "[nltk_data]    |   Package crubadan is already up-to-date!\n",
            "[nltk_data]    | Downloading package dependency_treebank to\n",
            "[nltk_data]    |     /root/nltk_data...\n",
            "[nltk_data]    |   Package dependency_treebank is already up-to-date!\n",
            "[nltk_data]    | Downloading package dolch to /root/nltk_data...\n",
            "[nltk_data]    |   Package dolch is already up-to-date!\n",
            "[nltk_data]    | Downloading package europarl_raw to\n",
            "[nltk_data]    |     /root/nltk_data...\n",
            "[nltk_data]    |   Package europarl_raw is already up-to-date!\n",
            "[nltk_data]    | Downloading package extended_omw to\n",
            "[nltk_data]    |     /root/nltk_data...\n",
            "[nltk_data]    |   Package extended_omw is already up-to-date!\n",
            "[nltk_data]    | Downloading package floresta to /root/nltk_data...\n",
            "[nltk_data]    |   Package floresta is already up-to-date!\n",
            "[nltk_data]    | Downloading package framenet_v15 to\n",
            "[nltk_data]    |     /root/nltk_data...\n",
            "[nltk_data]    |   Package framenet_v15 is already up-to-date!\n",
            "[nltk_data]    | Downloading package framenet_v17 to\n",
            "[nltk_data]    |     /root/nltk_data...\n",
            "[nltk_data]    |   Package framenet_v17 is already up-to-date!\n",
            "[nltk_data]    | Downloading package gazetteers to /root/nltk_data...\n",
            "[nltk_data]    |   Package gazetteers is already up-to-date!\n",
            "[nltk_data]    | Downloading package genesis to /root/nltk_data...\n",
            "[nltk_data]    |   Package genesis is already up-to-date!\n",
            "[nltk_data]    | Downloading package gutenberg to /root/nltk_data...\n",
            "[nltk_data]    |   Package gutenberg is already up-to-date!\n",
            "[nltk_data]    | Downloading package ieer to /root/nltk_data...\n",
            "[nltk_data]    |   Package ieer is already up-to-date!\n",
            "[nltk_data]    | Downloading package inaugural to /root/nltk_data...\n",
            "[nltk_data]    |   Package inaugural is already up-to-date!\n",
            "[nltk_data]    | Downloading package indian to /root/nltk_data...\n",
            "[nltk_data]    |   Package indian is already up-to-date!\n",
            "[nltk_data]    | Downloading package jeita to /root/nltk_data...\n",
            "[nltk_data]    |   Package jeita is already up-to-date!\n",
            "[nltk_data]    | Downloading package kimmo to /root/nltk_data...\n",
            "[nltk_data]    |   Package kimmo is already up-to-date!\n",
            "[nltk_data]    | Downloading package knbc to /root/nltk_data...\n",
            "[nltk_data]    |   Package knbc is already up-to-date!\n",
            "[nltk_data]    | Downloading package large_grammars to\n",
            "[nltk_data]    |     /root/nltk_data...\n",
            "[nltk_data]    |   Package large_grammars is already up-to-date!\n",
            "[nltk_data]    | Downloading package lin_thesaurus to\n",
            "[nltk_data]    |     /root/nltk_data...\n",
            "[nltk_data]    |   Package lin_thesaurus is already up-to-date!\n",
            "[nltk_data]    | Downloading package mac_morpho to /root/nltk_data...\n",
            "[nltk_data]    |   Package mac_morpho is already up-to-date!\n",
            "[nltk_data]    | Downloading package machado to /root/nltk_data...\n",
            "[nltk_data]    |   Package machado is already up-to-date!\n",
            "[nltk_data]    | Downloading package masc_tagged to /root/nltk_data...\n",
            "[nltk_data]    |   Package masc_tagged is already up-to-date!\n",
            "[nltk_data]    | Downloading package maxent_ne_chunker to\n",
            "[nltk_data]    |     /root/nltk_data...\n",
            "[nltk_data]    |   Package maxent_ne_chunker is already up-to-date!\n",
            "[nltk_data]    | Downloading package maxent_treebank_pos_tagger to\n",
            "[nltk_data]    |     /root/nltk_data...\n",
            "[nltk_data]    |   Package maxent_treebank_pos_tagger is already up-\n",
            "[nltk_data]    |       to-date!\n",
            "[nltk_data]    | Downloading package moses_sample to\n",
            "[nltk_data]    |     /root/nltk_data...\n",
            "[nltk_data]    |   Package moses_sample is already up-to-date!\n",
            "[nltk_data]    | Downloading package movie_reviews to\n",
            "[nltk_data]    |     /root/nltk_data...\n",
            "[nltk_data]    |   Package movie_reviews is already up-to-date!\n",
            "[nltk_data]    | Downloading package mte_teip5 to /root/nltk_data...\n",
            "[nltk_data]    |   Package mte_teip5 is already up-to-date!\n",
            "[nltk_data]    | Downloading package mwa_ppdb to /root/nltk_data...\n",
            "[nltk_data]    |   Package mwa_ppdb is already up-to-date!\n",
            "[nltk_data]    | Downloading package names to /root/nltk_data...\n",
            "[nltk_data]    |   Package names is already up-to-date!\n",
            "[nltk_data]    | Downloading package nombank.1.0 to /root/nltk_data...\n",
            "[nltk_data]    |   Package nombank.1.0 is already up-to-date!\n",
            "[nltk_data]    | Downloading package nonbreaking_prefixes to\n",
            "[nltk_data]    |     /root/nltk_data...\n",
            "[nltk_data]    |   Package nonbreaking_prefixes is already up-to-date!\n",
            "[nltk_data]    | Downloading package nps_chat to /root/nltk_data...\n",
            "[nltk_data]    |   Package nps_chat is already up-to-date!\n",
            "[nltk_data]    | Downloading package omw to /root/nltk_data...\n",
            "[nltk_data]    |   Package omw is already up-to-date!\n",
            "[nltk_data]    | Downloading package omw-1.4 to /root/nltk_data...\n",
            "[nltk_data]    |   Package omw-1.4 is already up-to-date!\n",
            "[nltk_data]    | Downloading package opinion_lexicon to\n",
            "[nltk_data]    |     /root/nltk_data...\n",
            "[nltk_data]    |   Package opinion_lexicon is already up-to-date!\n",
            "[nltk_data]    | Downloading package panlex_swadesh to\n",
            "[nltk_data]    |     /root/nltk_data...\n",
            "[nltk_data]    |   Package panlex_swadesh is already up-to-date!\n",
            "[nltk_data]    | Downloading package paradigms to /root/nltk_data...\n",
            "[nltk_data]    |   Package paradigms is already up-to-date!\n",
            "[nltk_data]    | Downloading package pe08 to /root/nltk_data...\n",
            "[nltk_data]    |   Package pe08 is already up-to-date!\n",
            "[nltk_data]    | Downloading package perluniprops to\n",
            "[nltk_data]    |     /root/nltk_data...\n",
            "[nltk_data]    |   Package perluniprops is already up-to-date!\n",
            "[nltk_data]    | Downloading package pil to /root/nltk_data...\n",
            "[nltk_data]    |   Package pil is already up-to-date!\n",
            "[nltk_data]    | Downloading package pl196x to /root/nltk_data...\n",
            "[nltk_data]    |   Package pl196x is already up-to-date!\n",
            "[nltk_data]    | Downloading package porter_test to /root/nltk_data...\n",
            "[nltk_data]    |   Package porter_test is already up-to-date!\n",
            "[nltk_data]    | Downloading package ppattach to /root/nltk_data...\n",
            "[nltk_data]    |   Package ppattach is already up-to-date!\n",
            "[nltk_data]    | Downloading package problem_reports to\n",
            "[nltk_data]    |     /root/nltk_data...\n",
            "[nltk_data]    |   Package problem_reports is already up-to-date!\n",
            "[nltk_data]    | Downloading package product_reviews_1 to\n",
            "[nltk_data]    |     /root/nltk_data...\n",
            "[nltk_data]    |   Package product_reviews_1 is already up-to-date!\n",
            "[nltk_data]    | Downloading package product_reviews_2 to\n",
            "[nltk_data]    |     /root/nltk_data...\n",
            "[nltk_data]    |   Package product_reviews_2 is already up-to-date!\n",
            "[nltk_data]    | Downloading package propbank to /root/nltk_data...\n",
            "[nltk_data]    |   Package propbank is already up-to-date!\n",
            "[nltk_data]    | Downloading package pros_cons to /root/nltk_data...\n",
            "[nltk_data]    |   Package pros_cons is already up-to-date!\n",
            "[nltk_data]    | Downloading package ptb to /root/nltk_data...\n",
            "[nltk_data]    |   Package ptb is already up-to-date!\n",
            "[nltk_data]    | Downloading package punkt to /root/nltk_data...\n",
            "[nltk_data]    |   Package punkt is already up-to-date!\n",
            "[nltk_data]    | Downloading package qc to /root/nltk_data...\n",
            "[nltk_data]    |   Package qc is already up-to-date!\n",
            "[nltk_data]    | Downloading package reuters to /root/nltk_data...\n",
            "[nltk_data]    |   Package reuters is already up-to-date!\n",
            "[nltk_data]    | Downloading package rslp to /root/nltk_data...\n",
            "[nltk_data]    |   Package rslp is already up-to-date!\n",
            "[nltk_data]    | Downloading package rte to /root/nltk_data...\n",
            "[nltk_data]    |   Package rte is already up-to-date!\n",
            "[nltk_data]    | Downloading package sample_grammars to\n",
            "[nltk_data]    |     /root/nltk_data...\n",
            "[nltk_data]    |   Package sample_grammars is already up-to-date!\n",
            "[nltk_data]    | Downloading package semcor to /root/nltk_data...\n",
            "[nltk_data]    |   Package semcor is already up-to-date!\n",
            "[nltk_data]    | Downloading package senseval to /root/nltk_data...\n",
            "[nltk_data]    |   Package senseval is already up-to-date!\n",
            "[nltk_data]    | Downloading package sentence_polarity to\n",
            "[nltk_data]    |     /root/nltk_data...\n",
            "[nltk_data]    |   Package sentence_polarity is already up-to-date!\n",
            "[nltk_data]    | Downloading package sentiwordnet to\n",
            "[nltk_data]    |     /root/nltk_data...\n",
            "[nltk_data]    |   Package sentiwordnet is already up-to-date!\n",
            "[nltk_data]    | Downloading package shakespeare to /root/nltk_data...\n",
            "[nltk_data]    |   Package shakespeare is already up-to-date!\n",
            "[nltk_data]    | Downloading package sinica_treebank to\n",
            "[nltk_data]    |     /root/nltk_data...\n",
            "[nltk_data]    |   Package sinica_treebank is already up-to-date!\n",
            "[nltk_data]    | Downloading package smultron to /root/nltk_data...\n",
            "[nltk_data]    |   Package smultron is already up-to-date!\n",
            "[nltk_data]    | Downloading package snowball_data to\n",
            "[nltk_data]    |     /root/nltk_data...\n",
            "[nltk_data]    |   Package snowball_data is already up-to-date!\n",
            "[nltk_data]    | Downloading package spanish_grammars to\n",
            "[nltk_data]    |     /root/nltk_data...\n",
            "[nltk_data]    |   Package spanish_grammars is already up-to-date!\n",
            "[nltk_data]    | Downloading package state_union to /root/nltk_data...\n",
            "[nltk_data]    |   Package state_union is already up-to-date!\n",
            "[nltk_data]    | Downloading package stopwords to /root/nltk_data...\n",
            "[nltk_data]    |   Package stopwords is already up-to-date!\n",
            "[nltk_data]    | Downloading package subjectivity to\n",
            "[nltk_data]    |     /root/nltk_data...\n",
            "[nltk_data]    |   Package subjectivity is already up-to-date!\n",
            "[nltk_data]    | Downloading package swadesh to /root/nltk_data...\n",
            "[nltk_data]    |   Package swadesh is already up-to-date!\n",
            "[nltk_data]    | Downloading package switchboard to /root/nltk_data...\n",
            "[nltk_data]    |   Package switchboard is already up-to-date!\n",
            "[nltk_data]    | Downloading package tagsets to /root/nltk_data...\n",
            "[nltk_data]    |   Package tagsets is already up-to-date!\n",
            "[nltk_data]    | Downloading package timit to /root/nltk_data...\n",
            "[nltk_data]    |   Package timit is already up-to-date!\n",
            "[nltk_data]    | Downloading package toolbox to /root/nltk_data...\n",
            "[nltk_data]    |   Package toolbox is already up-to-date!\n",
            "[nltk_data]    | Downloading package treebank to /root/nltk_data...\n",
            "[nltk_data]    |   Package treebank is already up-to-date!\n",
            "[nltk_data]    | Downloading package twitter_samples to\n",
            "[nltk_data]    |     /root/nltk_data...\n",
            "[nltk_data]    |   Package twitter_samples is already up-to-date!\n",
            "[nltk_data]    | Downloading package udhr to /root/nltk_data...\n",
            "[nltk_data]    |   Package udhr is already up-to-date!\n",
            "[nltk_data]    | Downloading package udhr2 to /root/nltk_data...\n",
            "[nltk_data]    |   Package udhr2 is already up-to-date!\n",
            "[nltk_data]    | Downloading package unicode_samples to\n",
            "[nltk_data]    |     /root/nltk_data...\n",
            "[nltk_data]    |   Package unicode_samples is already up-to-date!\n",
            "[nltk_data]    | Downloading package universal_tagset to\n",
            "[nltk_data]    |     /root/nltk_data...\n",
            "[nltk_data]    |   Package universal_tagset is already up-to-date!\n",
            "[nltk_data]    | Downloading package universal_treebanks_v20 to\n",
            "[nltk_data]    |     /root/nltk_data...\n",
            "[nltk_data]    |   Package universal_treebanks_v20 is already up-to-\n",
            "[nltk_data]    |       date!\n",
            "[nltk_data]    | Downloading package vader_lexicon to\n",
            "[nltk_data]    |     /root/nltk_data...\n",
            "[nltk_data]    |   Package vader_lexicon is already up-to-date!\n",
            "[nltk_data]    | Downloading package verbnet to /root/nltk_data...\n",
            "[nltk_data]    |   Package verbnet is already up-to-date!\n",
            "[nltk_data]    | Downloading package verbnet3 to /root/nltk_data...\n",
            "[nltk_data]    |   Package verbnet3 is already up-to-date!\n",
            "[nltk_data]    | Downloading package webtext to /root/nltk_data...\n",
            "[nltk_data]    |   Package webtext is already up-to-date!\n",
            "[nltk_data]    | Downloading package wmt15_eval to /root/nltk_data...\n",
            "[nltk_data]    |   Package wmt15_eval is already up-to-date!\n",
            "[nltk_data]    | Downloading package word2vec_sample to\n",
            "[nltk_data]    |     /root/nltk_data...\n",
            "[nltk_data]    |   Package word2vec_sample is already up-to-date!\n",
            "[nltk_data]    | Downloading package wordnet to /root/nltk_data...\n",
            "[nltk_data]    |   Package wordnet is already up-to-date!\n",
            "[nltk_data]    | Downloading package wordnet2021 to /root/nltk_data...\n",
            "[nltk_data]    |   Package wordnet2021 is already up-to-date!\n",
            "[nltk_data]    | Downloading package wordnet2022 to /root/nltk_data...\n",
            "[nltk_data]    |   Package wordnet2022 is already up-to-date!\n",
            "[nltk_data]    | Downloading package wordnet31 to /root/nltk_data...\n",
            "[nltk_data]    |   Package wordnet31 is already up-to-date!\n",
            "[nltk_data]    | Downloading package wordnet_ic to /root/nltk_data...\n",
            "[nltk_data]    |   Package wordnet_ic is already up-to-date!\n",
            "[nltk_data]    | Downloading package words to /root/nltk_data...\n",
            "[nltk_data]    |   Package words is already up-to-date!\n",
            "[nltk_data]    | Downloading package ycoe to /root/nltk_data...\n",
            "[nltk_data]    |   Package ycoe is already up-to-date!\n",
            "[nltk_data]    | \n",
            "[nltk_data]  Done downloading collection all\n"
          ]
        },
        {
          "output_type": "execute_result",
          "data": {
            "text/plain": [
              "True"
            ]
          },
          "metadata": {},
          "execution_count": 22
        }
      ]
    },
    {
      "cell_type": "code",
      "source": [
        "jd_processed = preprocess_text(jd, removeStopWords=True)\n",
        "print(jd_processed)"
      ],
      "metadata": {
        "colab": {
          "base_uri": "https://localhost:8080/"
        },
        "id": "xQ09l-N6fU_i",
        "outputId": "82040a47-0077-472b-de4c-424acac291cd"
      },
      "execution_count": 23,
      "outputs": [
        {
          "output_type": "stream",
          "name": "stdout",
          "text": [
            "machine learning engineering 13585abc knowledge innovation focus researching building designing self running artificial intelligence ai system automate predictive model responsible design create ai algorithm capable learning making prediction define machine learning ml experience qualification bachelor master degree mention course per requirement 0 2 year work experience providing analytics solution commercial setting technical expertise must machine learning clustering logistic regression classification different library scikit learn numpy panda matplotlib seaborn deep learning framework tensorflow kera pytorch application neural network model cnn rnn gans familiar natural language processing associated library like nltk spacy beautiful soup pyspark hadoop big data pipeline data science methodology exploratory data analysis feature engineering model selection deployment model scale model evaluation deploying nlp architecture computer vision model production considered plus transformer advance technique nlp familiar computer vision model object detection ocr opencv analytical tool reduce medium data transfer web framework like django database like mongodb nosql graphql sql firebase aws azure google cloud platform job type full time\n"
          ]
        }
      ]
    },
    {
      "cell_type": "code",
      "source": [
        "resumes = []\n",
        "for candidateID in csvData.CandidateID.values:\n",
        "    # load resume pdf\n",
        "    resume = pdf2Text('/content/drive/MyDrive/Colab Notebooks/DATASET/dataset/trainResumes/'+candidateID+'.pdf')\n",
        "    # preprocess\n",
        "    resume_processed = preprocess_text(resume, removeStopWords=True)\n",
        "    resumes.append(resume_processed)"
      ],
      "metadata": {
        "id": "w9JRRxhrfc1l"
      },
      "execution_count": 24,
      "outputs": []
    },
    {
      "cell_type": "code",
      "source": [
        "for i in range(5):\n",
        "    print(resumes[i])\n",
        "    print('\\n\\n'+'*'*80+'\\n\\n')"
      ],
      "metadata": {
        "colab": {
          "base_uri": "https://localhost:8080/"
        },
        "id": "A8xYaETNn2u7",
        "outputId": "7eb20a74-e458-41c9-aecb-a2fdd694981b"
      },
      "execution_count": 25,
      "outputs": [
        {
          "output_type": "stream",
          "name": "stdout",
          "text": [
            "liamandrews fresher executive work experience summary dictis fresher strong statistical intern trainee jan 2020 apr 2020 analytic capability someone responsible performing helping decision driven passion making problem solving though civil engineering background always fascinated data machine learning evolving iit personal skill data analyst data mining data visualization machine learning linear regression statistical modeling predictive modeling sql academic profile server oracle python project btech bachelor technology civil garodia institute technosciences railway signal determiner using 2020 relay weight system extra curriculars data preprocessing python data visualization power bi\n",
            "\n",
            "\n",
            "********************************************************************************\n",
            "\n",
            "\n",
            "ellie mackey fresher intern executive profile work experience actively seeking job enthusiast bb house developer master degree electronics intern trainee nov 2019 feb 2020 telecommunication keen learn eagerly looking opportunity learned software development machine learning project skill education data science deep learning neural network artificial intelligence natural bca bachelor computer application st subhash college hyderabad 2020 language processing pattern recognition machine learning predictive analytics logistic regression activity machine learning python project mine analyze data database drive optimization improvement product development marketing technique business strategy\n",
            "\n",
            "\n",
            "********************************************************************************\n",
            "\n",
            "\n",
            "felix winston fresher fresher knowledge machine learning natural language processing looking join role learn well informed environment experiment produce promising result work different kind data skill data analyst machine learning data mining data science natural language processing data visualization data analysis project work experience data management using automated ml script telco trainee intern may 2018 dec 2018 activites data handling client giving insight report based understanding neural network nanyang university education btech bachelor technology bio tech sai charan singh university ludhiana 2017 mtech master technology data science sai charan singh university ludhiana 2019\n",
            "\n",
            "\n",
            "********************************************************************************\n",
            "\n",
            "\n",
            "jimmy gartner da tamanager professional profile employment history looking opportunity work e express data scientist possessing right associate data scientist aug 2020 till date accurate skill collecting analyzing interpreting large datasets pricing engine vehicle allocation problem optimising route performing data management task mechanism development help big data analytics guidance company professional contribute company success using extensive analytical skill proficient skill business analytics data analysis machine learning sql firebase aws gcp cloud infrastructure python text mining database management processing time series analysis research analysis achievement extra educational history curriculars lucknow university firebase engineer level 2 bsc bachelor science statistic 2019 gcp architect proficiency 1 big data analytics crash course project video recommender system nlp text extraction online scripture\n",
            "\n",
            "\n",
            "********************************************************************************\n",
            "\n",
            "\n",
            "mason quadrado associate analyst certified data analyst degree electronics engineering hand experience analyzing interpreting data good numerical accuracy skill python machine learning mysql data mining deep learning data analysis computer vision flask api predictive modeling aws scikit learn numpy statistical analysis multivariate analysis decision tree random forest xgboost nlp project work experience deep learning based pattern matching amz loan mortgage auto color grading using python erc analytics jun 2019 till date handling data employee finding retention qualification factor employee satisfaction worked closely hr team find balance google cloud certified beneficial employee company education btech bachelor technology beng bachelor engineering electronics telecommunication nagpur university 2019\n",
            "\n",
            "\n",
            "********************************************************************************\n",
            "\n",
            "\n"
          ]
        }
      ]
    },
    {
      "cell_type": "code",
      "source": [
        "data = pd.DataFrame({'job_description': [jd_processed]*len(csvData), 'processed_resume': resumes, 'match_percentage': csvData['Match Percentage']})\n"
      ],
      "metadata": {
        "id": "sofNlnMXoH1k"
      },
      "execution_count": 26,
      "outputs": []
    },
    {
      "cell_type": "code",
      "source": [
        "print(data.head())"
      ],
      "metadata": {
        "colab": {
          "base_uri": "https://localhost:8080/"
        },
        "id": "lrvA5wkZoeV5",
        "outputId": "5756d9fc-3697-43f2-e28f-bd52722a329e"
      },
      "execution_count": 27,
      "outputs": [
        {
          "output_type": "stream",
          "name": "stdout",
          "text": [
            "                                     job_description  \\\n",
            "0  machine learning engineering 13585abc knowledg...   \n",
            "1  machine learning engineering 13585abc knowledg...   \n",
            "2  machine learning engineering 13585abc knowledg...   \n",
            "3  machine learning engineering 13585abc knowledg...   \n",
            "4  machine learning engineering 13585abc knowledg...   \n",
            "\n",
            "                                    processed_resume  match_percentage  \n",
            "0  liamandrews fresher executive work experience ...             13.60  \n",
            "1  ellie mackey fresher intern executive profile ...             36.63  \n",
            "2  felix winston fresher fresher knowledge machin...             54.93  \n",
            "3  jimmy gartner da tamanager professional profil...             41.46  \n",
            "4  mason quadrado associate analyst certified dat...             48.91  \n"
          ]
        }
      ]
    },
    {
      "cell_type": "code",
      "source": [
        "reputed_colleges = ['bits', 'iit', 'bhu', 'nit', 'vit', 'anna', 'jadavpur', 'tiet', 'thapar', 'iisc', 'srm', 'dtu', 'iiit']\n",
        "\n",
        "# check if is from reputed college\n",
        "def is_from_reputed_college(x):\n",
        "    x = x.split()\n",
        "    for i in reputed_colleges:\n",
        "        if i in x:\n",
        "            return 1\n",
        "    return 0"
      ],
      "metadata": {
        "id": "trwcIwcSogxP"
      },
      "execution_count": 28,
      "outputs": []
    },
    {
      "cell_type": "code",
      "source": [
        "def feature_extract(data):\n",
        "    '''extract features'''\n",
        "    # number of words in resume\n",
        "    data['resume_word_num'] = data.processed_resume.apply(lambda x: len(x.split()))\n",
        "    # number of unique words in job description and resumes \n",
        "    data['total_unique_word_num'] = data.apply(lambda x: len(set(x.job_description.split()).union(set(x.processed_resume.split()))) ,axis=1)\n",
        "    # number of common words in job description and resumes\n",
        "    data['common_word_num'] = data.apply(lambda x: len(set(x.job_description.split()).intersection(set(x.processed_resume.split()))) ,axis=1)\n",
        "    # number of common words divided by total number of unique words combined in both job description and resumes\n",
        "    data['common_word_ratio'] = data['common_word_num'] / data.apply(lambda x: len(set(x.job_description.split()).union(set(x.processed_resume.split()))) ,axis=1)\n",
        "    # number of common words divided by minimum number of unique words between job description and resumes\n",
        "    data['common_word_ratio_min'] = data['common_word_num'] / data.apply(lambda x: min(len(set(x.job_description.split())), len(set(x.processed_resume.split()))) ,axis=1) \n",
        "    # number of common words divided by maximum number of unique words between job description and resumes\n",
        "    data['common_word_ratio_max'] = data['common_word_num'] / data.apply(lambda x: max(len(set(x.job_description.split())), len(set(x.processed_resume.split()))) ,axis=1) \n",
        "    \n",
        "    # Fuzz WRatio\n",
        "    data[\"fuzz_ratio\"] = data.apply(lambda x: fuzz.WRatio(x.job_description, x.processed_resume), axis=1)\n",
        "    # Fuzz partial ratio\n",
        "    data[\"fuzz_partial_ratio\"] = data.apply(lambda x: fuzz.partial_ratio(x.job_description, x.processed_resume), axis=1)\n",
        "    # Fuzz token set ratio\n",
        "    data[\"fuzz_token_set_ratio\"] = data.apply(lambda x: fuzz.token_set_ratio(x.job_description, x.processed_resume), axis=1)\n",
        "    # Fuzz token sort ratio\n",
        "    data[\"fuzz_token_sort_ratio\"] = data.apply(lambda x: fuzz.token_sort_ratio(x.job_description, x.processed_resume), axis=1)\n",
        "    \n",
        "    # is fresher\n",
        "    data['is_fresher'] = data.processed_resume.apply(lambda x: int('fresher' in x.split()))\n",
        "    # from reputed college\n",
        "    data['from_reputed_college'] = data.processed_resume.apply(lambda x: is_from_reputed_college(x))\n",
        "    \n",
        "    # fill na fields with 0\n",
        "    data.fillna(0, inplace=True)\n",
        "    return data"
      ],
      "metadata": {
        "id": "RSlzCgEuolp2"
      },
      "execution_count": 29,
      "outputs": []
    },
    {
      "cell_type": "code",
      "source": [
        "data_feature = feature_extract(data)"
      ],
      "metadata": {
        "id": "othmOaKdowl0"
      },
      "execution_count": 30,
      "outputs": []
    },
    {
      "cell_type": "code",
      "source": [
        "data_feature.head()"
      ],
      "metadata": {
        "colab": {
          "base_uri": "https://localhost:8080/",
          "height": 530
        },
        "id": "Q8KNRYiooy10",
        "outputId": "92f9980c-a681-4f0c-c583-bbcdb5c38cf6"
      },
      "execution_count": 31,
      "outputs": [
        {
          "output_type": "execute_result",
          "data": {
            "text/plain": [
              "                                     job_description  \\\n",
              "0  machine learning engineering 13585abc knowledg...   \n",
              "1  machine learning engineering 13585abc knowledg...   \n",
              "2  machine learning engineering 13585abc knowledg...   \n",
              "3  machine learning engineering 13585abc knowledg...   \n",
              "4  machine learning engineering 13585abc knowledg...   \n",
              "\n",
              "                                    processed_resume  match_percentage  \\\n",
              "0  liamandrews fresher executive work experience ...             13.60   \n",
              "1  ellie mackey fresher intern executive profile ...             36.63   \n",
              "2  felix winston fresher fresher knowledge machin...             54.93   \n",
              "3  jimmy gartner da tamanager professional profil...             41.46   \n",
              "4  mason quadrado associate analyst certified dat...             48.91   \n",
              "\n",
              "   resume_word_num  total_unique_word_num  common_word_num  common_word_ratio  \\\n",
              "0               86                    191               13           0.068063   \n",
              "1               84                    180               27           0.150000   \n",
              "2               93                    184               18           0.097826   \n",
              "3              117                    209               21           0.100478   \n",
              "4              104                    196               22           0.112245   \n",
              "\n",
              "   common_word_ratio_min  common_word_ratio_max  fuzz_ratio  \\\n",
              "0               0.183099               0.097744          86   \n",
              "1               0.364865               0.203008          86   \n",
              "2               0.260870               0.135338          86   \n",
              "3               0.216495               0.157895          29   \n",
              "4               0.258824               0.165414          86   \n",
              "\n",
              "   fuzz_partial_ratio  fuzz_token_set_ratio  fuzz_token_sort_ratio  \\\n",
              "0                   2                    32                      1   \n",
              "1                  13                    55                      3   \n",
              "2                   2                    43                      3   \n",
              "3                  16                    31                      2   \n",
              "4                  15                    41                      1   \n",
              "\n",
              "   is_fresher  from_reputed_college  \n",
              "0           1                     1  \n",
              "1           1                     0  \n",
              "2           1                     0  \n",
              "3           0                     0  \n",
              "4           0                     0  "
            ],
            "text/html": [
              "\n",
              "  <div id=\"df-b0f7e4aa-36ea-44cd-b475-9fcf5b57c4d8\">\n",
              "    <div class=\"colab-df-container\">\n",
              "      <div>\n",
              "<style scoped>\n",
              "    .dataframe tbody tr th:only-of-type {\n",
              "        vertical-align: middle;\n",
              "    }\n",
              "\n",
              "    .dataframe tbody tr th {\n",
              "        vertical-align: top;\n",
              "    }\n",
              "\n",
              "    .dataframe thead th {\n",
              "        text-align: right;\n",
              "    }\n",
              "</style>\n",
              "<table border=\"1\" class=\"dataframe\">\n",
              "  <thead>\n",
              "    <tr style=\"text-align: right;\">\n",
              "      <th></th>\n",
              "      <th>job_description</th>\n",
              "      <th>processed_resume</th>\n",
              "      <th>match_percentage</th>\n",
              "      <th>resume_word_num</th>\n",
              "      <th>total_unique_word_num</th>\n",
              "      <th>common_word_num</th>\n",
              "      <th>common_word_ratio</th>\n",
              "      <th>common_word_ratio_min</th>\n",
              "      <th>common_word_ratio_max</th>\n",
              "      <th>fuzz_ratio</th>\n",
              "      <th>fuzz_partial_ratio</th>\n",
              "      <th>fuzz_token_set_ratio</th>\n",
              "      <th>fuzz_token_sort_ratio</th>\n",
              "      <th>is_fresher</th>\n",
              "      <th>from_reputed_college</th>\n",
              "    </tr>\n",
              "  </thead>\n",
              "  <tbody>\n",
              "    <tr>\n",
              "      <th>0</th>\n",
              "      <td>machine learning engineering 13585abc knowledg...</td>\n",
              "      <td>liamandrews fresher executive work experience ...</td>\n",
              "      <td>13.60</td>\n",
              "      <td>86</td>\n",
              "      <td>191</td>\n",
              "      <td>13</td>\n",
              "      <td>0.068063</td>\n",
              "      <td>0.183099</td>\n",
              "      <td>0.097744</td>\n",
              "      <td>86</td>\n",
              "      <td>2</td>\n",
              "      <td>32</td>\n",
              "      <td>1</td>\n",
              "      <td>1</td>\n",
              "      <td>1</td>\n",
              "    </tr>\n",
              "    <tr>\n",
              "      <th>1</th>\n",
              "      <td>machine learning engineering 13585abc knowledg...</td>\n",
              "      <td>ellie mackey fresher intern executive profile ...</td>\n",
              "      <td>36.63</td>\n",
              "      <td>84</td>\n",
              "      <td>180</td>\n",
              "      <td>27</td>\n",
              "      <td>0.150000</td>\n",
              "      <td>0.364865</td>\n",
              "      <td>0.203008</td>\n",
              "      <td>86</td>\n",
              "      <td>13</td>\n",
              "      <td>55</td>\n",
              "      <td>3</td>\n",
              "      <td>1</td>\n",
              "      <td>0</td>\n",
              "    </tr>\n",
              "    <tr>\n",
              "      <th>2</th>\n",
              "      <td>machine learning engineering 13585abc knowledg...</td>\n",
              "      <td>felix winston fresher fresher knowledge machin...</td>\n",
              "      <td>54.93</td>\n",
              "      <td>93</td>\n",
              "      <td>184</td>\n",
              "      <td>18</td>\n",
              "      <td>0.097826</td>\n",
              "      <td>0.260870</td>\n",
              "      <td>0.135338</td>\n",
              "      <td>86</td>\n",
              "      <td>2</td>\n",
              "      <td>43</td>\n",
              "      <td>3</td>\n",
              "      <td>1</td>\n",
              "      <td>0</td>\n",
              "    </tr>\n",
              "    <tr>\n",
              "      <th>3</th>\n",
              "      <td>machine learning engineering 13585abc knowledg...</td>\n",
              "      <td>jimmy gartner da tamanager professional profil...</td>\n",
              "      <td>41.46</td>\n",
              "      <td>117</td>\n",
              "      <td>209</td>\n",
              "      <td>21</td>\n",
              "      <td>0.100478</td>\n",
              "      <td>0.216495</td>\n",
              "      <td>0.157895</td>\n",
              "      <td>29</td>\n",
              "      <td>16</td>\n",
              "      <td>31</td>\n",
              "      <td>2</td>\n",
              "      <td>0</td>\n",
              "      <td>0</td>\n",
              "    </tr>\n",
              "    <tr>\n",
              "      <th>4</th>\n",
              "      <td>machine learning engineering 13585abc knowledg...</td>\n",
              "      <td>mason quadrado associate analyst certified dat...</td>\n",
              "      <td>48.91</td>\n",
              "      <td>104</td>\n",
              "      <td>196</td>\n",
              "      <td>22</td>\n",
              "      <td>0.112245</td>\n",
              "      <td>0.258824</td>\n",
              "      <td>0.165414</td>\n",
              "      <td>86</td>\n",
              "      <td>15</td>\n",
              "      <td>41</td>\n",
              "      <td>1</td>\n",
              "      <td>0</td>\n",
              "      <td>0</td>\n",
              "    </tr>\n",
              "  </tbody>\n",
              "</table>\n",
              "</div>\n",
              "      <button class=\"colab-df-convert\" onclick=\"convertToInteractive('df-b0f7e4aa-36ea-44cd-b475-9fcf5b57c4d8')\"\n",
              "              title=\"Convert this dataframe to an interactive table.\"\n",
              "              style=\"display:none;\">\n",
              "        \n",
              "  <svg xmlns=\"http://www.w3.org/2000/svg\" height=\"24px\"viewBox=\"0 0 24 24\"\n",
              "       width=\"24px\">\n",
              "    <path d=\"M0 0h24v24H0V0z\" fill=\"none\"/>\n",
              "    <path d=\"M18.56 5.44l.94 2.06.94-2.06 2.06-.94-2.06-.94-.94-2.06-.94 2.06-2.06.94zm-11 1L8.5 8.5l.94-2.06 2.06-.94-2.06-.94L8.5 2.5l-.94 2.06-2.06.94zm10 10l.94 2.06.94-2.06 2.06-.94-2.06-.94-.94-2.06-.94 2.06-2.06.94z\"/><path d=\"M17.41 7.96l-1.37-1.37c-.4-.4-.92-.59-1.43-.59-.52 0-1.04.2-1.43.59L10.3 9.45l-7.72 7.72c-.78.78-.78 2.05 0 2.83L4 21.41c.39.39.9.59 1.41.59.51 0 1.02-.2 1.41-.59l7.78-7.78 2.81-2.81c.8-.78.8-2.07 0-2.86zM5.41 20L4 18.59l7.72-7.72 1.47 1.35L5.41 20z\"/>\n",
              "  </svg>\n",
              "      </button>\n",
              "      \n",
              "  <style>\n",
              "    .colab-df-container {\n",
              "      display:flex;\n",
              "      flex-wrap:wrap;\n",
              "      gap: 12px;\n",
              "    }\n",
              "\n",
              "    .colab-df-convert {\n",
              "      background-color: #E8F0FE;\n",
              "      border: none;\n",
              "      border-radius: 50%;\n",
              "      cursor: pointer;\n",
              "      display: none;\n",
              "      fill: #1967D2;\n",
              "      height: 32px;\n",
              "      padding: 0 0 0 0;\n",
              "      width: 32px;\n",
              "    }\n",
              "\n",
              "    .colab-df-convert:hover {\n",
              "      background-color: #E2EBFA;\n",
              "      box-shadow: 0px 1px 2px rgba(60, 64, 67, 0.3), 0px 1px 3px 1px rgba(60, 64, 67, 0.15);\n",
              "      fill: #174EA6;\n",
              "    }\n",
              "\n",
              "    [theme=dark] .colab-df-convert {\n",
              "      background-color: #3B4455;\n",
              "      fill: #D2E3FC;\n",
              "    }\n",
              "\n",
              "    [theme=dark] .colab-df-convert:hover {\n",
              "      background-color: #434B5C;\n",
              "      box-shadow: 0px 1px 3px 1px rgba(0, 0, 0, 0.15);\n",
              "      filter: drop-shadow(0px 1px 2px rgba(0, 0, 0, 0.3));\n",
              "      fill: #FFFFFF;\n",
              "    }\n",
              "  </style>\n",
              "\n",
              "      <script>\n",
              "        const buttonEl =\n",
              "          document.querySelector('#df-b0f7e4aa-36ea-44cd-b475-9fcf5b57c4d8 button.colab-df-convert');\n",
              "        buttonEl.style.display =\n",
              "          google.colab.kernel.accessAllowed ? 'block' : 'none';\n",
              "\n",
              "        async function convertToInteractive(key) {\n",
              "          const element = document.querySelector('#df-b0f7e4aa-36ea-44cd-b475-9fcf5b57c4d8');\n",
              "          const dataTable =\n",
              "            await google.colab.kernel.invokeFunction('convertToInteractive',\n",
              "                                                     [key], {});\n",
              "          if (!dataTable) return;\n",
              "\n",
              "          const docLinkHtml = 'Like what you see? Visit the ' +\n",
              "            '<a target=\"_blank\" href=https://colab.research.google.com/notebooks/data_table.ipynb>data table notebook</a>'\n",
              "            + ' to learn more about interactive tables.';\n",
              "          element.innerHTML = '';\n",
              "          dataTable['output_type'] = 'display_data';\n",
              "          await google.colab.output.renderOutput(dataTable, element);\n",
              "          const docLink = document.createElement('div');\n",
              "          docLink.innerHTML = docLinkHtml;\n",
              "          element.appendChild(docLink);\n",
              "        }\n",
              "      </script>\n",
              "    </div>\n",
              "  </div>\n",
              "  "
            ]
          },
          "metadata": {},
          "execution_count": 31
        }
      ]
    },
    {
      "cell_type": "markdown",
      "source": [
        "Univariate Analysis"
      ],
      "metadata": {
        "id": "J_3Pe1bLpBMI"
      }
    },
    {
      "cell_type": "code",
      "source": [
        "temp = np.array(data_feature['resume_word_num'])\n",
        "print('Min = '+str(np.min(temp)))\n",
        "print('Max = '+str(np.max(temp)))\n",
        "print('Mean = '+str(np.mean(temp)))\n",
        "sns.kdeplot(temp)\n",
        "plt.title('PDF of number of words in resumes')\n",
        "plt.show()"
      ],
      "metadata": {
        "colab": {
          "base_uri": "https://localhost:8080/",
          "height": 506
        },
        "id": "zO3VkrpQo5JR",
        "outputId": "73f5e743-ee7c-4cf9-ef57-163ec8113735"
      },
      "execution_count": 32,
      "outputs": [
        {
          "output_type": "stream",
          "name": "stdout",
          "text": [
            "Min = 63\n",
            "Max = 168\n",
            "Mean = 102.17777777777778\n"
          ]
        },
        {
          "output_type": "display_data",
          "data": {
            "text/plain": [
              "<Figure size 640x480 with 1 Axes>"
            ],
            "image/png": "[encoded data removed]"
          },
          "metadata": {}
        }
      ]
    },
    {
      "cell_type": "code",
      "source": [
        "temp = np.array(data_feature['total_unique_word_num'])\n",
        "print('Min = '+str(np.min(temp)))\n",
        "print('Max = '+str(np.max(temp)))\n",
        "print('Mean = '+str(np.mean(temp)))\n",
        "sns.kdeplot(temp)\n",
        "plt.title('PDF of number of unique words in job description and resumes')\n",
        "plt.show()"
      ],
      "metadata": {
        "colab": {
          "base_uri": "https://localhost:8080/",
          "height": 506
        },
        "id": "GpIIR5JypFF-",
        "outputId": "8f7ba5f7-f991-4d90-ce0f-3d20737424d2"
      },
      "execution_count": 33,
      "outputs": [
        {
          "output_type": "stream",
          "name": "stdout",
          "text": [
            "Min = 171\n",
            "Max = 227\n",
            "Mean = 193.8\n"
          ]
        },
        {
          "output_type": "display_data",
          "data": {
            "text/plain": [
              "<Figure size 640x480 with 1 Axes>"
            ],
            "image/png": "[encoded data removed]"
          },
          "metadata": {}
        }
      ]
    },
    {
      "cell_type": "code",
      "source": [
        "print('Spearman Rank Correlation Coefficient is', stats.spearmanr(data_feature['resume_word_num'], data_feature['match_percentage']).correlation)\n",
        "plt.scatter(data_feature['resume_word_num'], data_feature['match_percentage'])\n",
        "plt.title('Correlation between resume_word_num and Match Percentage')\n",
        "plt.xlabel('Number of words in resume')\n",
        "plt.ylabel('Match Percentage')\n",
        "plt.show()"
      ],
      "metadata": {
        "colab": {
          "base_uri": "https://localhost:8080/",
          "height": 490
        },
        "id": "q-LFrZqjpKnY",
        "outputId": "5f57fb88-35a7-4271-fcbd-b731d4ec0910"
      },
      "execution_count": 34,
      "outputs": [
        {
          "output_type": "stream",
          "name": "stdout",
          "text": [
            "Spearman Rank Correlation Coefficient is 0.2759533774129115\n"
          ]
        },
        {
          "output_type": "display_data",
          "data": {
            "text/plain": [
              "<Figure size 640x480 with 1 Axes>"
            ],
            "image/png": "[encoded data removed]"
          },
          "metadata": {}
        }
      ]
    },
    {
      "cell_type": "code",
      "source": [
        "print('Spearman Rank Correlation Coefficient is', stats.spearmanr(data_feature['total_unique_word_num'], data_feature['match_percentage']).correlation)\n",
        "plt.scatter(data_feature['total_unique_word_num'], data_feature['match_percentage'])\n",
        "plt.title('Correlation between total_unique_word_num and Match Percentage')\n",
        "plt.xlabel('Number of unique words in job description and resumes')\n",
        "plt.ylabel('Match Percentage')\n",
        "plt.show()"
      ],
      "metadata": {
        "colab": {
          "base_uri": "https://localhost:8080/",
          "height": 490
        },
        "id": "fMt7o0PypgVo",
        "outputId": "e3428f2a-644b-4470-80bf-95d901483b4c"
      },
      "execution_count": 35,
      "outputs": [
        {
          "output_type": "stream",
          "name": "stdout",
          "text": [
            "Spearman Rank Correlation Coefficient is -0.015769599975427144\n"
          ]
        },
        {
          "output_type": "display_data",
          "data": {
            "text/plain": [
              "<Figure size 640x480 with 1 Axes>"
            ],
            "image/png": "[encoded data removed]"
          },
          "metadata": {}
        }
      ]
    },
    {
      "cell_type": "code",
      "source": [
        "vectorizer = CountVectorizer(ngram_range=(1,3), min_df=4, max_df=.99, binary=True)"
      ],
      "metadata": {
        "id": "hJIdOgrgqLUU"
      },
      "execution_count": 36,
      "outputs": []
    },
    {
      "cell_type": "code",
      "source": [
        "vocab_text = np.unique(np.append(data_feature.processed_resume.values, data_feature.job_description.values))"
      ],
      "metadata": {
        "id": "lGgK6Q3br94D"
      },
      "execution_count": 37,
      "outputs": []
    },
    {
      "cell_type": "code",
      "source": [
        "vectorizer.fit(vocab_text)"
      ],
      "metadata": {
        "colab": {
          "base_uri": "https://localhost:8080/"
        },
        "id": "oAthdQyGsN12",
        "outputId": "1a0676ed-54a4-4867-ee11-fe7ad5c5d7c7"
      },
      "execution_count": 38,
      "outputs": [
        {
          "output_type": "execute_result",
          "data": {
            "text/plain": [
              "CountVectorizer(binary=True, max_df=0.99, min_df=4, ngram_range=(1, 3))"
            ]
          },
          "metadata": {},
          "execution_count": 38
        }
      ]
    },
    {
      "cell_type": "code",
      "source": [
        "print(len(vectorizer.vocabulary_))"
      ],
      "metadata": {
        "colab": {
          "base_uri": "https://localhost:8080/"
        },
        "id": "bP9ZWOcCsQ-c",
        "outputId": "603f8c7a-fa65-4960-88f3-2c96a55a8b51"
      },
      "execution_count": 39,
      "outputs": [
        {
          "output_type": "stream",
          "name": "stdout",
          "text": [
            "712\n"
          ]
        }
      ]
    },
    {
      "cell_type": "code",
      "source": [
        "bow_vocab = np.array(list(vectorizer.vocabulary_.keys()))"
      ],
      "metadata": {
        "id": "krmLR11fsUUR"
      },
      "execution_count": 40,
      "outputs": []
    },
    {
      "cell_type": "code",
      "source": [
        "with open('bow_vocab.npy', 'wb') as f:\n",
        "    np.save(f, bow_vocab, allow_pickle=True)"
      ],
      "metadata": {
        "id": "rkViU78bscrn"
      },
      "execution_count": 41,
      "outputs": []
    },
    {
      "cell_type": "code",
      "source": [
        "bow_resume = vectorizer.transform(data_feature.processed_resume.values).toarray()\n",
        "print(bow_resume.shape)"
      ],
      "metadata": {
        "colab": {
          "base_uri": "https://localhost:8080/"
        },
        "id": "Sl7N3u-TsfZS",
        "outputId": "5b831418-131c-416f-8d73-94898b35e88f"
      },
      "execution_count": 42,
      "outputs": [
        {
          "output_type": "stream",
          "name": "stdout",
          "text": [
            "(90, 712)\n"
          ]
        }
      ]
    },
    {
      "cell_type": "code",
      "source": [
        "with open('bow_resume.npy', 'wb') as f:\n",
        "    np.save(f, bow_resume, allow_pickle=True)\n",
        "bow_jd = vectorizer.transform(data_feature.job_description.values).toarray()\n",
        "print(bow_jd.shape)"
      ],
      "metadata": {
        "colab": {
          "base_uri": "https://localhost:8080/"
        },
        "id": "JeKx7iaoskZn",
        "outputId": "17bc08df-2828-4a69-ffb0-6fad7d6a5b63"
      },
      "execution_count": 43,
      "outputs": [
        {
          "output_type": "stream",
          "name": "stdout",
          "text": [
            "(90, 712)\n"
          ]
        }
      ]
    },
    {
      "cell_type": "code",
      "source": [
        "with open('bow_jd.npy', 'wb') as f:\n",
        "    np.save(f, bow_jd, allow_pickle=True)"
      ],
      "metadata": {
        "id": "jk4iPb1isqMq"
      },
      "execution_count": 44,
      "outputs": []
    },
    {
      "cell_type": "code",
      "source": [
        "def cosine_euclidean(u, v):\n",
        "    return np.array([np.dot(u, v) / (np.linalg.norm(u) * np.linalg.norm(v)), np.linalg.norm(u - v)])\n",
        "cosine_euclidean_data = np.array([cosine_euclidean(bow_jd[i], bow_resume[i]) for i in range(len(bow_resume))])\n",
        "data_feature[[\"cosine_similarity\", \"euclidean_distance\"]] = cosine_euclidean_data"
      ],
      "metadata": {
        "id": "vQDqXupIst7l"
      },
      "execution_count": 45,
      "outputs": []
    },
    {
      "cell_type": "code",
      "source": [
        "cosine_euclidean_data = np.array([cosine_euclidean(bow_jd[i], bow_resume[i]) for i in range(len(bow_resume))])"
      ],
      "metadata": {
        "id": "X9XLf3XcsxOa"
      },
      "execution_count": 46,
      "outputs": []
    },
    {
      "cell_type": "code",
      "source": [
        "data_feature[[\"cosine_similarity\", \"euclidean_distance\"]] = cosine_euclidean_data"
      ],
      "metadata": {
        "id": "tAryW5Pts1RI"
      },
      "execution_count": 47,
      "outputs": []
    },
    {
      "cell_type": "code",
      "source": [
        "data_feature.to_csv('data_feature.csv', index=False)"
      ],
      "metadata": {
        "id": "6lIFU3fEs6Io"
      },
      "execution_count": 48,
      "outputs": []
    },
    {
      "cell_type": "code",
      "source": [
        "data_feature2 = data_feature.drop(columns=['cosine_similarity', 'euclidean_distance'])"
      ],
      "metadata": {
        "id": "6kvnR4c5s9iU"
      },
      "execution_count": 49,
      "outputs": []
    },
    {
      "cell_type": "code",
      "source": [
        "import numpy as np\n",
        "import pandas as pd\n",
        "from sklearn.preprocessing import StandardScaler\n",
        "from sklearn.linear_model import Lasso, Ridge\n",
        "from sklearn.model_selection import train_test_split\n",
        "from sklearn.metrics import mean_squared_error as mse, r2_score, mean_absolute_error as mae\n",
        "import hyperopt\n",
        "from hyperopt import fmin, tpe, hp, STATUS_OK, Trials\n",
        "import warnings\n",
        "from joblib import dump, load\n",
        "from matplotlib import pyplot as plt\n",
        "from sklearn.neighbors import KNeighborsRegressor\n",
        "from sklearn.model_selection import GridSearchCV\n",
        "from sklearn.model_selection import KFold\n",
        "from sklearn.tree import DecisionTreeRegressor\n",
        "import seaborn as sns\n",
        "from sklearn.feature_selection import SequentialFeatureSelector\n",
        "from sklearn.linear_model import LinearRegression\n",
        "from sklearn.svm import SVR\n",
        "from sklearn.ensemble import RandomForestRegressor\n",
        "import xgboost as xgb\n",
        "from prettytable import PrettyTable\n",
        "from sklearn.preprocessing import MinMaxScaler"
      ],
      "metadata": {
        "id": "Z3oOqjQsuBdX"
      },
      "execution_count": 50,
      "outputs": []
    },
    {
      "cell_type": "code",
      "source": [
        "csvData = pd.read_csv('/content/drive/MyDrive/Colab Notebooks/DATASET/dataset/train.csv')"
      ],
      "metadata": {
        "id": "Rh9ioeZUte_f"
      },
      "execution_count": 51,
      "outputs": []
    },
    {
      "cell_type": "code",
      "source": [
        "data_feature = pd.read_csv('data_feature.csv')"
      ],
      "metadata": {
        "id": "pkU2kkxjtj5g"
      },
      "execution_count": 52,
      "outputs": []
    },
    {
      "cell_type": "code",
      "source": [
        "data_feature.head()"
      ],
      "metadata": {
        "colab": {
          "base_uri": "https://localhost:8080/",
          "height": 530
        },
        "id": "bwfrnbvbyHw4",
        "outputId": "fb95687b-a056-400e-ed61-5b084f28e929"
      },
      "execution_count": 53,
      "outputs": [
        {
          "output_type": "execute_result",
          "data": {
            "text/plain": [
              "                                     job_description  \\\n",
              "0  machine learning engineering 13585abc knowledg...   \n",
              "1  machine learning engineering 13585abc knowledg...   \n",
              "2  machine learning engineering 13585abc knowledg...   \n",
              "3  machine learning engineering 13585abc knowledg...   \n",
              "4  machine learning engineering 13585abc knowledg...   \n",
              "\n",
              "                                    processed_resume  match_percentage  \\\n",
              "0  liamandrews fresher executive work experience ...             13.60   \n",
              "1  ellie mackey fresher intern executive profile ...             36.63   \n",
              "2  felix winston fresher fresher knowledge machin...             54.93   \n",
              "3  jimmy gartner da tamanager professional profil...             41.46   \n",
              "4  mason quadrado associate analyst certified dat...             48.91   \n",
              "\n",
              "   resume_word_num  total_unique_word_num  common_word_num  common_word_ratio  \\\n",
              "0               86                    191               13           0.068063   \n",
              "1               84                    180               27           0.150000   \n",
              "2               93                    184               18           0.097826   \n",
              "3              117                    209               21           0.100478   \n",
              "4              104                    196               22           0.112245   \n",
              "\n",
              "   common_word_ratio_min  common_word_ratio_max  fuzz_ratio  \\\n",
              "0               0.183099               0.097744          86   \n",
              "1               0.364865               0.203008          86   \n",
              "2               0.260870               0.135338          86   \n",
              "3               0.216495               0.157895          29   \n",
              "4               0.258824               0.165414          86   \n",
              "\n",
              "   fuzz_partial_ratio  fuzz_token_set_ratio  fuzz_token_sort_ratio  \\\n",
              "0                   2                    32                      1   \n",
              "1                  13                    55                      3   \n",
              "2                   2                    43                      3   \n",
              "3                  16                    31                      2   \n",
              "4                  15                    41                      1   \n",
              "\n",
              "   is_fresher  from_reputed_college  cosine_similarity  euclidean_distance  \n",
              "0           1                     1           0.136678           13.416408  \n",
              "1           1                     0           0.318471           12.288206  \n",
              "2           1                     0           0.241508           12.845233  \n",
              "3           0                     0           0.201306           13.527749  \n",
              "4           0                     0           0.266333           12.884099  "
            ],
            "text/html": [
              "\n",
              "  <div id=\"df-d050f589-6cd4-4cef-bded-6f50ae6caa6e\">\n",
              "    <div class=\"colab-df-container\">\n",
              "      <div>\n",
              "<style scoped>\n",
              "    .dataframe tbody tr th:only-of-type {\n",
              "        vertical-align: middle;\n",
              "    }\n",
              "\n",
              "    .dataframe tbody tr th {\n",
              "        vertical-align: top;\n",
              "    }\n",
              "\n",
              "    .dataframe thead th {\n",
              "        text-align: right;\n",
              "    }\n",
              "</style>\n",
              "<table border=\"1\" class=\"dataframe\">\n",
              "  <thead>\n",
              "    <tr style=\"text-align: right;\">\n",
              "      <th></th>\n",
              "      <th>job_description</th>\n",
              "      <th>processed_resume</th>\n",
              "      <th>match_percentage</th>\n",
              "      <th>resume_word_num</th>\n",
              "      <th>total_unique_word_num</th>\n",
              "      <th>common_word_num</th>\n",
              "      <th>common_word_ratio</th>\n",
              "      <th>common_word_ratio_min</th>\n",
              "      <th>common_word_ratio_max</th>\n",
              "      <th>fuzz_ratio</th>\n",
              "      <th>fuzz_partial_ratio</th>\n",
              "      <th>fuzz_token_set_ratio</th>\n",
              "      <th>fuzz_token_sort_ratio</th>\n",
              "      <th>is_fresher</th>\n",
              "      <th>from_reputed_college</th>\n",
              "      <th>cosine_similarity</th>\n",
              "      <th>euclidean_distance</th>\n",
              "    </tr>\n",
              "  </thead>\n",
              "  <tbody>\n",
              "    <tr>\n",
              "      <th>0</th>\n",
              "      <td>machine learning engineering 13585abc knowledg...</td>\n",
              "      <td>liamandrews fresher executive work experience ...</td>\n",
              "      <td>13.60</td>\n",
              "      <td>86</td>\n",
              "      <td>191</td>\n",
              "      <td>13</td>\n",
              "      <td>0.068063</td>\n",
              "      <td>0.183099</td>\n",
              "      <td>0.097744</td>\n",
              "      <td>86</td>\n",
              "      <td>2</td>\n",
              "      <td>32</td>\n",
              "      <td>1</td>\n",
              "      <td>1</td>\n",
              "      <td>1</td>\n",
              "      <td>0.136678</td>\n",
              "      <td>13.416408</td>\n",
              "    </tr>\n",
              "    <tr>\n",
              "      <th>1</th>\n",
              "      <td>machine learning engineering 13585abc knowledg...</td>\n",
              "      <td>ellie mackey fresher intern executive profile ...</td>\n",
              "      <td>36.63</td>\n",
              "      <td>84</td>\n",
              "      <td>180</td>\n",
              "      <td>27</td>\n",
              "      <td>0.150000</td>\n",
              "      <td>0.364865</td>\n",
              "      <td>0.203008</td>\n",
              "      <td>86</td>\n",
              "      <td>13</td>\n",
              "      <td>55</td>\n",
              "      <td>3</td>\n",
              "      <td>1</td>\n",
              "      <td>0</td>\n",
              "      <td>0.318471</td>\n",
              "      <td>12.288206</td>\n",
              "    </tr>\n",
              "    <tr>\n",
              "      <th>2</th>\n",
              "      <td>machine learning engineering 13585abc knowledg...</td>\n",
              "      <td>felix winston fresher fresher knowledge machin...</td>\n",
              "      <td>54.93</td>\n",
              "      <td>93</td>\n",
              "      <td>184</td>\n",
              "      <td>18</td>\n",
              "      <td>0.097826</td>\n",
              "      <td>0.260870</td>\n",
              "      <td>0.135338</td>\n",
              "      <td>86</td>\n",
              "      <td>2</td>\n",
              "      <td>43</td>\n",
              "      <td>3</td>\n",
              "      <td>1</td>\n",
              "      <td>0</td>\n",
              "      <td>0.241508</td>\n",
              "      <td>12.845233</td>\n",
              "    </tr>\n",
              "    <tr>\n",
              "      <th>3</th>\n",
              "      <td>machine learning engineering 13585abc knowledg...</td>\n",
              "      <td>jimmy gartner da tamanager professional profil...</td>\n",
              "      <td>41.46</td>\n",
              "      <td>117</td>\n",
              "      <td>209</td>\n",
              "      <td>21</td>\n",
              "      <td>0.100478</td>\n",
              "      <td>0.216495</td>\n",
              "      <td>0.157895</td>\n",
              "      <td>29</td>\n",
              "      <td>16</td>\n",
              "      <td>31</td>\n",
              "      <td>2</td>\n",
              "      <td>0</td>\n",
              "      <td>0</td>\n",
              "      <td>0.201306</td>\n",
              "      <td>13.527749</td>\n",
              "    </tr>\n",
              "    <tr>\n",
              "      <th>4</th>\n",
              "      <td>machine learning engineering 13585abc knowledg...</td>\n",
              "      <td>mason quadrado associate analyst certified dat...</td>\n",
              "      <td>48.91</td>\n",
              "      <td>104</td>\n",
              "      <td>196</td>\n",
              "      <td>22</td>\n",
              "      <td>0.112245</td>\n",
              "      <td>0.258824</td>\n",
              "      <td>0.165414</td>\n",
              "      <td>86</td>\n",
              "      <td>15</td>\n",
              "      <td>41</td>\n",
              "      <td>1</td>\n",
              "      <td>0</td>\n",
              "      <td>0</td>\n",
              "      <td>0.266333</td>\n",
              "      <td>12.884099</td>\n",
              "    </tr>\n",
              "  </tbody>\n",
              "</table>\n",
              "</div>\n",
              "      <button class=\"colab-df-convert\" onclick=\"convertToInteractive('df-d050f589-6cd4-4cef-bded-6f50ae6caa6e')\"\n",
              "              title=\"Convert this dataframe to an interactive table.\"\n",
              "              style=\"display:none;\">\n",
              "        \n",
              "  <svg xmlns=\"http://www.w3.org/2000/svg\" height=\"24px\"viewBox=\"0 0 24 24\"\n",
              "       width=\"24px\">\n",
              "    <path d=\"M0 0h24v24H0V0z\" fill=\"none\"/>\n",
              "    <path d=\"M18.56 5.44l.94 2.06.94-2.06 2.06-.94-2.06-.94-.94-2.06-.94 2.06-2.06.94zm-11 1L8.5 8.5l.94-2.06 2.06-.94-2.06-.94L8.5 2.5l-.94 2.06-2.06.94zm10 10l.94 2.06.94-2.06 2.06-.94-2.06-.94-.94-2.06-.94 2.06-2.06.94z\"/><path d=\"M17.41 7.96l-1.37-1.37c-.4-.4-.92-.59-1.43-.59-.52 0-1.04.2-1.43.59L10.3 9.45l-7.72 7.72c-.78.78-.78 2.05 0 2.83L4 21.41c.39.39.9.59 1.41.59.51 0 1.02-.2 1.41-.59l7.78-7.78 2.81-2.81c.8-.78.8-2.07 0-2.86zM5.41 20L4 18.59l7.72-7.72 1.47 1.35L5.41 20z\"/>\n",
              "  </svg>\n",
              "      </button>\n",
              "      \n",
              "  <style>\n",
              "    .colab-df-container {\n",
              "      display:flex;\n",
              "      flex-wrap:wrap;\n",
              "      gap: 12px;\n",
              "    }\n",
              "\n",
              "    .colab-df-convert {\n",
              "      background-color: #E8F0FE;\n",
              "      border: none;\n",
              "      border-radius: 50%;\n",
              "      cursor: pointer;\n",
              "      display: none;\n",
              "      fill: #1967D2;\n",
              "      height: 32px;\n",
              "      padding: 0 0 0 0;\n",
              "      width: 32px;\n",
              "    }\n",
              "\n",
              "    .colab-df-convert:hover {\n",
              "      background-color: #E2EBFA;\n",
              "      box-shadow: 0px 1px 2px rgba(60, 64, 67, 0.3), 0px 1px 3px 1px rgba(60, 64, 67, 0.15);\n",
              "      fill: #174EA6;\n",
              "    }\n",
              "\n",
              "    [theme=dark] .colab-df-convert {\n",
              "      background-color: #3B4455;\n",
              "      fill: #D2E3FC;\n",
              "    }\n",
              "\n",
              "    [theme=dark] .colab-df-convert:hover {\n",
              "      background-color: #434B5C;\n",
              "      box-shadow: 0px 1px 3px 1px rgba(0, 0, 0, 0.15);\n",
              "      filter: drop-shadow(0px 1px 2px rgba(0, 0, 0, 0.3));\n",
              "      fill: #FFFFFF;\n",
              "    }\n",
              "  </style>\n",
              "\n",
              "      <script>\n",
              "        const buttonEl =\n",
              "          document.querySelector('#df-d050f589-6cd4-4cef-bded-6f50ae6caa6e button.colab-df-convert');\n",
              "        buttonEl.style.display =\n",
              "          google.colab.kernel.accessAllowed ? 'block' : 'none';\n",
              "\n",
              "        async function convertToInteractive(key) {\n",
              "          const element = document.querySelector('#df-d050f589-6cd4-4cef-bded-6f50ae6caa6e');\n",
              "          const dataTable =\n",
              "            await google.colab.kernel.invokeFunction('convertToInteractive',\n",
              "                                                     [key], {});\n",
              "          if (!dataTable) return;\n",
              "\n",
              "          const docLinkHtml = 'Like what you see? Visit the ' +\n",
              "            '<a target=\"_blank\" href=https://colab.research.google.com/notebooks/data_table.ipynb>data table notebook</a>'\n",
              "            + ' to learn more about interactive tables.';\n",
              "          element.innerHTML = '';\n",
              "          dataTable['output_type'] = 'display_data';\n",
              "          await google.colab.output.renderOutput(dataTable, element);\n",
              "          const docLink = document.createElement('div');\n",
              "          docLink.innerHTML = docLinkHtml;\n",
              "          element.appendChild(docLink);\n",
              "        }\n",
              "      </script>\n",
              "    </div>\n",
              "  </div>\n",
              "  "
            ]
          },
          "metadata": {},
          "execution_count": 53
        }
      ]
    },
    {
      "cell_type": "code",
      "source": [
        "with open('bow_resume.npy', 'rb') as f:\n",
        "    bow_resume = np.load(f, allow_pickle=True)"
      ],
      "metadata": {
        "id": "45HRZn2x5fyT"
      },
      "execution_count": 54,
      "outputs": []
    },
    {
      "cell_type": "code",
      "source": [
        "with open('bow_jd.npy', 'rb') as f:\n",
        "    bow_jd = np.load(f, allow_pickle=True)"
      ],
      "metadata": {
        "id": "5lBkGBrm5m47"
      },
      "execution_count": 55,
      "outputs": []
    },
    {
      "cell_type": "code",
      "source": [
        "y_bow = data_feature.match_percentage"
      ],
      "metadata": {
        "id": "FUWKyMU45ppG"
      },
      "execution_count": 56,
      "outputs": []
    },
    {
      "cell_type": "code",
      "source": [
        "X_bow_1 = data_feature.drop(columns=['job_description', 'processed_resume', 'match_percentage'])"
      ],
      "metadata": {
        "id": "gCCt8_d05sye"
      },
      "execution_count": 57,
      "outputs": []
    },
    {
      "cell_type": "code",
      "source": [
        "X_bow_1.head(3)"
      ],
      "metadata": {
        "colab": {
          "base_uri": "https://localhost:8080/",
          "height": 207
        },
        "id": "8eYjI0uz5viG",
        "outputId": "208f1bb4-6e1f-4a5b-f4c3-15411cfe16e6"
      },
      "execution_count": 58,
      "outputs": [
        {
          "output_type": "execute_result",
          "data": {
            "text/plain": [
              "   resume_word_num  total_unique_word_num  common_word_num  common_word_ratio  \\\n",
              "0               86                    191               13           0.068063   \n",
              "1               84                    180               27           0.150000   \n",
              "2               93                    184               18           0.097826   \n",
              "\n",
              "   common_word_ratio_min  common_word_ratio_max  fuzz_ratio  \\\n",
              "0               0.183099               0.097744          86   \n",
              "1               0.364865               0.203008          86   \n",
              "2               0.260870               0.135338          86   \n",
              "\n",
              "   fuzz_partial_ratio  fuzz_token_set_ratio  fuzz_token_sort_ratio  \\\n",
              "0                   2                    32                      1   \n",
              "1                  13                    55                      3   \n",
              "2                   2                    43                      3   \n",
              "\n",
              "   is_fresher  from_reputed_college  cosine_similarity  euclidean_distance  \n",
              "0           1                     1           0.136678           13.416408  \n",
              "1           1                     0           0.318471           12.288206  \n",
              "2           1                     0           0.241508           12.845233  "
            ],
            "text/html": [
              "\n",
              "  <div id=\"df-2a2b8e5b-e5dd-4522-bab9-6e40c723ee4b\">\n",
              "    <div class=\"colab-df-container\">\n",
              "      <div>\n",
              "<style scoped>\n",
              "    .dataframe tbody tr th:only-of-type {\n",
              "        vertical-align: middle;\n",
              "    }\n",
              "\n",
              "    .dataframe tbody tr th {\n",
              "        vertical-align: top;\n",
              "    }\n",
              "\n",
              "    .dataframe thead th {\n",
              "        text-align: right;\n",
              "    }\n",
              "</style>\n",
              "<table border=\"1\" class=\"dataframe\">\n",
              "  <thead>\n",
              "    <tr style=\"text-align: right;\">\n",
              "      <th></th>\n",
              "      <th>resume_word_num</th>\n",
              "      <th>total_unique_word_num</th>\n",
              "      <th>common_word_num</th>\n",
              "      <th>common_word_ratio</th>\n",
              "      <th>common_word_ratio_min</th>\n",
              "      <th>common_word_ratio_max</th>\n",
              "      <th>fuzz_ratio</th>\n",
              "      <th>fuzz_partial_ratio</th>\n",
              "      <th>fuzz_token_set_ratio</th>\n",
              "      <th>fuzz_token_sort_ratio</th>\n",
              "      <th>is_fresher</th>\n",
              "      <th>from_reputed_college</th>\n",
              "      <th>cosine_similarity</th>\n",
              "      <th>euclidean_distance</th>\n",
              "    </tr>\n",
              "  </thead>\n",
              "  <tbody>\n",
              "    <tr>\n",
              "      <th>0</th>\n",
              "      <td>86</td>\n",
              "      <td>191</td>\n",
              "      <td>13</td>\n",
              "      <td>0.068063</td>\n",
              "      <td>0.183099</td>\n",
              "      <td>0.097744</td>\n",
              "      <td>86</td>\n",
              "      <td>2</td>\n",
              "      <td>32</td>\n",
              "      <td>1</td>\n",
              "      <td>1</td>\n",
              "      <td>1</td>\n",
              "      <td>0.136678</td>\n",
              "      <td>13.416408</td>\n",
              "    </tr>\n",
              "    <tr>\n",
              "      <th>1</th>\n",
              "      <td>84</td>\n",
              "      <td>180</td>\n",
              "      <td>27</td>\n",
              "      <td>0.150000</td>\n",
              "      <td>0.364865</td>\n",
              "      <td>0.203008</td>\n",
              "      <td>86</td>\n",
              "      <td>13</td>\n",
              "      <td>55</td>\n",
              "      <td>3</td>\n",
              "      <td>1</td>\n",
              "      <td>0</td>\n",
              "      <td>0.318471</td>\n",
              "      <td>12.288206</td>\n",
              "    </tr>\n",
              "    <tr>\n",
              "      <th>2</th>\n",
              "      <td>93</td>\n",
              "      <td>184</td>\n",
              "      <td>18</td>\n",
              "      <td>0.097826</td>\n",
              "      <td>0.260870</td>\n",
              "      <td>0.135338</td>\n",
              "      <td>86</td>\n",
              "      <td>2</td>\n",
              "      <td>43</td>\n",
              "      <td>3</td>\n",
              "      <td>1</td>\n",
              "      <td>0</td>\n",
              "      <td>0.241508</td>\n",
              "      <td>12.845233</td>\n",
              "    </tr>\n",
              "  </tbody>\n",
              "</table>\n",
              "</div>\n",
              "      <button class=\"colab-df-convert\" onclick=\"convertToInteractive('df-2a2b8e5b-e5dd-4522-bab9-6e40c723ee4b')\"\n",
              "              title=\"Convert this dataframe to an interactive table.\"\n",
              "              style=\"display:none;\">\n",
              "        \n",
              "  <svg xmlns=\"http://www.w3.org/2000/svg\" height=\"24px\"viewBox=\"0 0 24 24\"\n",
              "       width=\"24px\">\n",
              "    <path d=\"M0 0h24v24H0V0z\" fill=\"none\"/>\n",
              "    <path d=\"M18.56 5.44l.94 2.06.94-2.06 2.06-.94-2.06-.94-.94-2.06-.94 2.06-2.06.94zm-11 1L8.5 8.5l.94-2.06 2.06-.94-2.06-.94L8.5 2.5l-.94 2.06-2.06.94zm10 10l.94 2.06.94-2.06 2.06-.94-2.06-.94-.94-2.06-.94 2.06-2.06.94z\"/><path d=\"M17.41 7.96l-1.37-1.37c-.4-.4-.92-.59-1.43-.59-.52 0-1.04.2-1.43.59L10.3 9.45l-7.72 7.72c-.78.78-.78 2.05 0 2.83L4 21.41c.39.39.9.59 1.41.59.51 0 1.02-.2 1.41-.59l7.78-7.78 2.81-2.81c.8-.78.8-2.07 0-2.86zM5.41 20L4 18.59l7.72-7.72 1.47 1.35L5.41 20z\"/>\n",
              "  </svg>\n",
              "      </button>\n",
              "      \n",
              "  <style>\n",
              "    .colab-df-container {\n",
              "      display:flex;\n",
              "      flex-wrap:wrap;\n",
              "      gap: 12px;\n",
              "    }\n",
              "\n",
              "    .colab-df-convert {\n",
              "      background-color: #E8F0FE;\n",
              "      border: none;\n",
              "      border-radius: 50%;\n",
              "      cursor: pointer;\n",
              "      display: none;\n",
              "      fill: #1967D2;\n",
              "      height: 32px;\n",
              "      padding: 0 0 0 0;\n",
              "      width: 32px;\n",
              "    }\n",
              "\n",
              "    .colab-df-convert:hover {\n",
              "      background-color: #E2EBFA;\n",
              "      box-shadow: 0px 1px 2px rgba(60, 64, 67, 0.3), 0px 1px 3px 1px rgba(60, 64, 67, 0.15);\n",
              "      fill: #174EA6;\n",
              "    }\n",
              "\n",
              "    [theme=dark] .colab-df-convert {\n",
              "      background-color: #3B4455;\n",
              "      fill: #D2E3FC;\n",
              "    }\n",
              "\n",
              "    [theme=dark] .colab-df-convert:hover {\n",
              "      background-color: #434B5C;\n",
              "      box-shadow: 0px 1px 3px 1px rgba(0, 0, 0, 0.15);\n",
              "      filter: drop-shadow(0px 1px 2px rgba(0, 0, 0, 0.3));\n",
              "      fill: #FFFFFF;\n",
              "    }\n",
              "  </style>\n",
              "\n",
              "      <script>\n",
              "        const buttonEl =\n",
              "          document.querySelector('#df-2a2b8e5b-e5dd-4522-bab9-6e40c723ee4b button.colab-df-convert');\n",
              "        buttonEl.style.display =\n",
              "          google.colab.kernel.accessAllowed ? 'block' : 'none';\n",
              "\n",
              "        async function convertToInteractive(key) {\n",
              "          const element = document.querySelector('#df-2a2b8e5b-e5dd-4522-bab9-6e40c723ee4b');\n",
              "          const dataTable =\n",
              "            await google.colab.kernel.invokeFunction('convertToInteractive',\n",
              "                                                     [key], {});\n",
              "          if (!dataTable) return;\n",
              "\n",
              "          const docLinkHtml = 'Like what you see? Visit the ' +\n",
              "            '<a target=\"_blank\" href=https://colab.research.google.com/notebooks/data_table.ipynb>data table notebook</a>'\n",
              "            + ' to learn more about interactive tables.';\n",
              "          element.innerHTML = '';\n",
              "          dataTable['output_type'] = 'display_data';\n",
              "          await google.colab.output.renderOutput(dataTable, element);\n",
              "          const docLink = document.createElement('div');\n",
              "          docLink.innerHTML = docLinkHtml;\n",
              "          element.appendChild(docLink);\n",
              "        }\n",
              "      </script>\n",
              "    </div>\n",
              "  </div>\n",
              "  "
            ]
          },
          "metadata": {},
          "execution_count": 58
        }
      ]
    },
    {
      "cell_type": "code",
      "source": [
        "X_bow_2 = pd.DataFrame(bow_jd, columns=['bow_jd_'+str(i) for i in range(1, bow_jd.shape[1]+1)])"
      ],
      "metadata": {
        "id": "IO2WfeRI5ywM"
      },
      "execution_count": 59,
      "outputs": []
    },
    {
      "cell_type": "code",
      "source": [
        "X_bow_2.head(3)"
      ],
      "metadata": {
        "colab": {
          "base_uri": "https://localhost:8080/",
          "height": 236
        },
        "id": "HnMrWtZd51xP",
        "outputId": "a3969b1e-52e7-4174-d162-41fe07791a17"
      },
      "execution_count": 60,
      "outputs": [
        {
          "output_type": "execute_result",
          "data": {
            "text/plain": [
              "   bow_jd_1  bow_jd_2  bow_jd_3  bow_jd_4  bow_jd_5  bow_jd_6  bow_jd_7  \\\n",
              "0         0         0         0         0         0         0         0   \n",
              "1         0         0         0         0         0         0         0   \n",
              "2         0         0         0         0         0         0         0   \n",
              "\n",
              "   bow_jd_8  bow_jd_9  bow_jd_10  ...  bow_jd_703  bow_jd_704  bow_jd_705  \\\n",
              "0         0         0          0  ...           0           1           0   \n",
              "1         0         0          0  ...           0           1           0   \n",
              "2         0         0          0  ...           0           1           0   \n",
              "\n",
              "   bow_jd_706  bow_jd_707  bow_jd_708  bow_jd_709  bow_jd_710  bow_jd_711  \\\n",
              "0           0           0           0           0           0           0   \n",
              "1           0           0           0           0           0           0   \n",
              "2           0           0           0           0           0           0   \n",
              "\n",
              "   bow_jd_712  \n",
              "0           1  \n",
              "1           1  \n",
              "2           1  \n",
              "\n",
              "[3 rows x 712 columns]"
            ],
            "text/html": [
              "\n",
              "  <div id=\"df-e5ce20de-948a-4a83-ae71-bc397f27f727\">\n",
              "    <div class=\"colab-df-container\">\n",
              "      <div>\n",
              "<style scoped>\n",
              "    .dataframe tbody tr th:only-of-type {\n",
              "        vertical-align: middle;\n",
              "    }\n",
              "\n",
              "    .dataframe tbody tr th {\n",
              "        vertical-align: top;\n",
              "    }\n",
              "\n",
              "    .dataframe thead th {\n",
              "        text-align: right;\n",
              "    }\n",
              "</style>\n",
              "<table border=\"1\" class=\"dataframe\">\n",
              "  <thead>\n",
              "    <tr style=\"text-align: right;\">\n",
              "      <th></th>\n",
              "      <th>bow_jd_1</th>\n",
              "      <th>bow_jd_2</th>\n",
              "      <th>bow_jd_3</th>\n",
              "      <th>bow_jd_4</th>\n",
              "      <th>bow_jd_5</th>\n",
              "      <th>bow_jd_6</th>\n",
              "      <th>bow_jd_7</th>\n",
              "      <th>bow_jd_8</th>\n",
              "      <th>bow_jd_9</th>\n",
              "      <th>bow_jd_10</th>\n",
              "      <th>...</th>\n",
              "      <th>bow_jd_703</th>\n",
              "      <th>bow_jd_704</th>\n",
              "      <th>bow_jd_705</th>\n",
              "      <th>bow_jd_706</th>\n",
              "      <th>bow_jd_707</th>\n",
              "      <th>bow_jd_708</th>\n",
              "      <th>bow_jd_709</th>\n",
              "      <th>bow_jd_710</th>\n",
              "      <th>bow_jd_711</th>\n",
              "      <th>bow_jd_712</th>\n",
              "    </tr>\n",
              "  </thead>\n",
              "  <tbody>\n",
              "    <tr>\n",
              "      <th>0</th>\n",
              "      <td>0</td>\n",
              "      <td>0</td>\n",
              "      <td>0</td>\n",
              "      <td>0</td>\n",
              "      <td>0</td>\n",
              "      <td>0</td>\n",
              "      <td>0</td>\n",
              "      <td>0</td>\n",
              "      <td>0</td>\n",
              "      <td>0</td>\n",
              "      <td>...</td>\n",
              "      <td>0</td>\n",
              "      <td>1</td>\n",
              "      <td>0</td>\n",
              "      <td>0</td>\n",
              "      <td>0</td>\n",
              "      <td>0</td>\n",
              "      <td>0</td>\n",
              "      <td>0</td>\n",
              "      <td>0</td>\n",
              "      <td>1</td>\n",
              "    </tr>\n",
              "    <tr>\n",
              "      <th>1</th>\n",
              "      <td>0</td>\n",
              "      <td>0</td>\n",
              "      <td>0</td>\n",
              "      <td>0</td>\n",
              "      <td>0</td>\n",
              "      <td>0</td>\n",
              "      <td>0</td>\n",
              "      <td>0</td>\n",
              "      <td>0</td>\n",
              "      <td>0</td>\n",
              "      <td>...</td>\n",
              "      <td>0</td>\n",
              "      <td>1</td>\n",
              "      <td>0</td>\n",
              "      <td>0</td>\n",
              "      <td>0</td>\n",
              "      <td>0</td>\n",
              "      <td>0</td>\n",
              "      <td>0</td>\n",
              "      <td>0</td>\n",
              "      <td>1</td>\n",
              "    </tr>\n",
              "    <tr>\n",
              "      <th>2</th>\n",
              "      <td>0</td>\n",
              "      <td>0</td>\n",
              "      <td>0</td>\n",
              "      <td>0</td>\n",
              "      <td>0</td>\n",
              "      <td>0</td>\n",
              "      <td>0</td>\n",
              "      <td>0</td>\n",
              "      <td>0</td>\n",
              "      <td>0</td>\n",
              "      <td>...</td>\n",
              "      <td>0</td>\n",
              "      <td>1</td>\n",
              "      <td>0</td>\n",
              "      <td>0</td>\n",
              "      <td>0</td>\n",
              "      <td>0</td>\n",
              "      <td>0</td>\n",
              "      <td>0</td>\n",
              "      <td>0</td>\n",
              "      <td>1</td>\n",
              "    </tr>\n",
              "  </tbody>\n",
              "</table>\n",
              "<p>3 rows × 712 columns</p>\n",
              "</div>\n",
              "      <button class=\"colab-df-convert\" onclick=\"convertToInteractive('df-e5ce20de-948a-4a83-ae71-bc397f27f727')\"\n",
              "              title=\"Convert this dataframe to an interactive table.\"\n",
              "              style=\"display:none;\">\n",
              "        \n",
              "  <svg xmlns=\"http://www.w3.org/2000/svg\" height=\"24px\"viewBox=\"0 0 24 24\"\n",
              "       width=\"24px\">\n",
              "    <path d=\"M0 0h24v24H0V0z\" fill=\"none\"/>\n",
              "    <path d=\"M18.56 5.44l.94 2.06.94-2.06 2.06-.94-2.06-.94-.94-2.06-.94 2.06-2.06.94zm-11 1L8.5 8.5l.94-2.06 2.06-.94-2.06-.94L8.5 2.5l-.94 2.06-2.06.94zm10 10l.94 2.06.94-2.06 2.06-.94-2.06-.94-.94-2.06-.94 2.06-2.06.94z\"/><path d=\"M17.41 7.96l-1.37-1.37c-.4-.4-.92-.59-1.43-.59-.52 0-1.04.2-1.43.59L10.3 9.45l-7.72 7.72c-.78.78-.78 2.05 0 2.83L4 21.41c.39.39.9.59 1.41.59.51 0 1.02-.2 1.41-.59l7.78-7.78 2.81-2.81c.8-.78.8-2.07 0-2.86zM5.41 20L4 18.59l7.72-7.72 1.47 1.35L5.41 20z\"/>\n",
              "  </svg>\n",
              "      </button>\n",
              "      \n",
              "  <style>\n",
              "    .colab-df-container {\n",
              "      display:flex;\n",
              "      flex-wrap:wrap;\n",
              "      gap: 12px;\n",
              "    }\n",
              "\n",
              "    .colab-df-convert {\n",
              "      background-color: #E8F0FE;\n",
              "      border: none;\n",
              "      border-radius: 50%;\n",
              "      cursor: pointer;\n",
              "      display: none;\n",
              "      fill: #1967D2;\n",
              "      height: 32px;\n",
              "      padding: 0 0 0 0;\n",
              "      width: 32px;\n",
              "    }\n",
              "\n",
              "    .colab-df-convert:hover {\n",
              "      background-color: #E2EBFA;\n",
              "      box-shadow: 0px 1px 2px rgba(60, 64, 67, 0.3), 0px 1px 3px 1px rgba(60, 64, 67, 0.15);\n",
              "      fill: #174EA6;\n",
              "    }\n",
              "\n",
              "    [theme=dark] .colab-df-convert {\n",
              "      background-color: #3B4455;\n",
              "      fill: #D2E3FC;\n",
              "    }\n",
              "\n",
              "    [theme=dark] .colab-df-convert:hover {\n",
              "      background-color: #434B5C;\n",
              "      box-shadow: 0px 1px 3px 1px rgba(0, 0, 0, 0.15);\n",
              "      filter: drop-shadow(0px 1px 2px rgba(0, 0, 0, 0.3));\n",
              "      fill: #FFFFFF;\n",
              "    }\n",
              "  </style>\n",
              "\n",
              "      <script>\n",
              "        const buttonEl =\n",
              "          document.querySelector('#df-e5ce20de-948a-4a83-ae71-bc397f27f727 button.colab-df-convert');\n",
              "        buttonEl.style.display =\n",
              "          google.colab.kernel.accessAllowed ? 'block' : 'none';\n",
              "\n",
              "        async function convertToInteractive(key) {\n",
              "          const element = document.querySelector('#df-e5ce20de-948a-4a83-ae71-bc397f27f727');\n",
              "          const dataTable =\n",
              "            await google.colab.kernel.invokeFunction('convertToInteractive',\n",
              "                                                     [key], {});\n",
              "          if (!dataTable) return;\n",
              "\n",
              "          const docLinkHtml = 'Like what you see? Visit the ' +\n",
              "            '<a target=\"_blank\" href=https://colab.research.google.com/notebooks/data_table.ipynb>data table notebook</a>'\n",
              "            + ' to learn more about interactive tables.';\n",
              "          element.innerHTML = '';\n",
              "          dataTable['output_type'] = 'display_data';\n",
              "          await google.colab.output.renderOutput(dataTable, element);\n",
              "          const docLink = document.createElement('div');\n",
              "          docLink.innerHTML = docLinkHtml;\n",
              "          element.appendChild(docLink);\n",
              "        }\n",
              "      </script>\n",
              "    </div>\n",
              "  </div>\n",
              "  "
            ]
          },
          "metadata": {},
          "execution_count": 60
        }
      ]
    },
    {
      "cell_type": "code",
      "source": [
        "X_bow_3 = pd.DataFrame(bow_resume, columns=['bow_resume_'+str(i) for i in range(1, bow_resume.shape[1]+1)])"
      ],
      "metadata": {
        "id": "KIoQHBJh57rd"
      },
      "execution_count": 61,
      "outputs": []
    },
    {
      "cell_type": "code",
      "source": [
        "X_bow_3.head(3)"
      ],
      "metadata": {
        "colab": {
          "base_uri": "https://localhost:8080/",
          "height": 236
        },
        "id": "PJ4RmAvH5-bH",
        "outputId": "c8d3686b-da69-4a79-9935-ef7649a4fc21"
      },
      "execution_count": 62,
      "outputs": [
        {
          "output_type": "execute_result",
          "data": {
            "text/plain": [
              "   bow_resume_1  bow_resume_2  bow_resume_3  bow_resume_4  bow_resume_5  \\\n",
              "0             0             0             0             0             0   \n",
              "1             0             0             1             0             0   \n",
              "2             1             1             1             0             0   \n",
              "\n",
              "   bow_resume_6  bow_resume_7  bow_resume_8  bow_resume_9  bow_resume_10  ...  \\\n",
              "0             0             0             0             0              1  ...   \n",
              "1             0             0             0             0              1  ...   \n",
              "2             0             0             0             0              0  ...   \n",
              "\n",
              "   bow_resume_703  bow_resume_704  bow_resume_705  bow_resume_706  \\\n",
              "0               0               1               0               1   \n",
              "1               0               1               0               0   \n",
              "2               0               1               1               0   \n",
              "\n",
              "   bow_resume_707  bow_resume_708  bow_resume_709  bow_resume_710  \\\n",
              "0               0               0               0               0   \n",
              "1               0               0               0               0   \n",
              "2               0               0               0               0   \n",
              "\n",
              "   bow_resume_711  bow_resume_712  \n",
              "0               0               0  \n",
              "1               0               0  \n",
              "2               0               0  \n",
              "\n",
              "[3 rows x 712 columns]"
            ],
            "text/html": [
              "\n",
              "  <div id=\"df-f285250e-4304-477b-9061-59ba9ff149d7\">\n",
              "    <div class=\"colab-df-container\">\n",
              "      <div>\n",
              "<style scoped>\n",
              "    .dataframe tbody tr th:only-of-type {\n",
              "        vertical-align: middle;\n",
              "    }\n",
              "\n",
              "    .dataframe tbody tr th {\n",
              "        vertical-align: top;\n",
              "    }\n",
              "\n",
              "    .dataframe thead th {\n",
              "        text-align: right;\n",
              "    }\n",
              "</style>\n",
              "<table border=\"1\" class=\"dataframe\">\n",
              "  <thead>\n",
              "    <tr style=\"text-align: right;\">\n",
              "      <th></th>\n",
              "      <th>bow_resume_1</th>\n",
              "      <th>bow_resume_2</th>\n",
              "      <th>bow_resume_3</th>\n",
              "      <th>bow_resume_4</th>\n",
              "      <th>bow_resume_5</th>\n",
              "      <th>bow_resume_6</th>\n",
              "      <th>bow_resume_7</th>\n",
              "      <th>bow_resume_8</th>\n",
              "      <th>bow_resume_9</th>\n",
              "      <th>bow_resume_10</th>\n",
              "      <th>...</th>\n",
              "      <th>bow_resume_703</th>\n",
              "      <th>bow_resume_704</th>\n",
              "      <th>bow_resume_705</th>\n",
              "      <th>bow_resume_706</th>\n",
              "      <th>bow_resume_707</th>\n",
              "      <th>bow_resume_708</th>\n",
              "      <th>bow_resume_709</th>\n",
              "      <th>bow_resume_710</th>\n",
              "      <th>bow_resume_711</th>\n",
              "      <th>bow_resume_712</th>\n",
              "    </tr>\n",
              "  </thead>\n",
              "  <tbody>\n",
              "    <tr>\n",
              "      <th>0</th>\n",
              "      <td>0</td>\n",
              "      <td>0</td>\n",
              "      <td>0</td>\n",
              "      <td>0</td>\n",
              "      <td>0</td>\n",
              "      <td>0</td>\n",
              "      <td>0</td>\n",
              "      <td>0</td>\n",
              "      <td>0</td>\n",
              "      <td>1</td>\n",
              "      <td>...</td>\n",
              "      <td>0</td>\n",
              "      <td>1</td>\n",
              "      <td>0</td>\n",
              "      <td>1</td>\n",
              "      <td>0</td>\n",
              "      <td>0</td>\n",
              "      <td>0</td>\n",
              "      <td>0</td>\n",
              "      <td>0</td>\n",
              "      <td>0</td>\n",
              "    </tr>\n",
              "    <tr>\n",
              "      <th>1</th>\n",
              "      <td>0</td>\n",
              "      <td>0</td>\n",
              "      <td>1</td>\n",
              "      <td>0</td>\n",
              "      <td>0</td>\n",
              "      <td>0</td>\n",
              "      <td>0</td>\n",
              "      <td>0</td>\n",
              "      <td>0</td>\n",
              "      <td>1</td>\n",
              "      <td>...</td>\n",
              "      <td>0</td>\n",
              "      <td>1</td>\n",
              "      <td>0</td>\n",
              "      <td>0</td>\n",
              "      <td>0</td>\n",
              "      <td>0</td>\n",
              "      <td>0</td>\n",
              "      <td>0</td>\n",
              "      <td>0</td>\n",
              "      <td>0</td>\n",
              "    </tr>\n",
              "    <tr>\n",
              "      <th>2</th>\n",
              "      <td>1</td>\n",
              "      <td>1</td>\n",
              "      <td>1</td>\n",
              "      <td>0</td>\n",
              "      <td>0</td>\n",
              "      <td>0</td>\n",
              "      <td>0</td>\n",
              "      <td>0</td>\n",
              "      <td>0</td>\n",
              "      <td>0</td>\n",
              "      <td>...</td>\n",
              "      <td>0</td>\n",
              "      <td>1</td>\n",
              "      <td>1</td>\n",
              "      <td>0</td>\n",
              "      <td>0</td>\n",
              "      <td>0</td>\n",
              "      <td>0</td>\n",
              "      <td>0</td>\n",
              "      <td>0</td>\n",
              "      <td>0</td>\n",
              "    </tr>\n",
              "  </tbody>\n",
              "</table>\n",
              "<p>3 rows × 712 columns</p>\n",
              "</div>\n",
              "      <button class=\"colab-df-convert\" onclick=\"convertToInteractive('df-f285250e-4304-477b-9061-59ba9ff149d7')\"\n",
              "              title=\"Convert this dataframe to an interactive table.\"\n",
              "              style=\"display:none;\">\n",
              "        \n",
              "  <svg xmlns=\"http://www.w3.org/2000/svg\" height=\"24px\"viewBox=\"0 0 24 24\"\n",
              "       width=\"24px\">\n",
              "    <path d=\"M0 0h24v24H0V0z\" fill=\"none\"/>\n",
              "    <path d=\"M18.56 5.44l.94 2.06.94-2.06 2.06-.94-2.06-.94-.94-2.06-.94 2.06-2.06.94zm-11 1L8.5 8.5l.94-2.06 2.06-.94-2.06-.94L8.5 2.5l-.94 2.06-2.06.94zm10 10l.94 2.06.94-2.06 2.06-.94-2.06-.94-.94-2.06-.94 2.06-2.06.94z\"/><path d=\"M17.41 7.96l-1.37-1.37c-.4-.4-.92-.59-1.43-.59-.52 0-1.04.2-1.43.59L10.3 9.45l-7.72 7.72c-.78.78-.78 2.05 0 2.83L4 21.41c.39.39.9.59 1.41.59.51 0 1.02-.2 1.41-.59l7.78-7.78 2.81-2.81c.8-.78.8-2.07 0-2.86zM5.41 20L4 18.59l7.72-7.72 1.47 1.35L5.41 20z\"/>\n",
              "  </svg>\n",
              "      </button>\n",
              "      \n",
              "  <style>\n",
              "    .colab-df-container {\n",
              "      display:flex;\n",
              "      flex-wrap:wrap;\n",
              "      gap: 12px;\n",
              "    }\n",
              "\n",
              "    .colab-df-convert {\n",
              "      background-color: #E8F0FE;\n",
              "      border: none;\n",
              "      border-radius: 50%;\n",
              "      cursor: pointer;\n",
              "      display: none;\n",
              "      fill: #1967D2;\n",
              "      height: 32px;\n",
              "      padding: 0 0 0 0;\n",
              "      width: 32px;\n",
              "    }\n",
              "\n",
              "    .colab-df-convert:hover {\n",
              "      background-color: #E2EBFA;\n",
              "      box-shadow: 0px 1px 2px rgba(60, 64, 67, 0.3), 0px 1px 3px 1px rgba(60, 64, 67, 0.15);\n",
              "      fill: #174EA6;\n",
              "    }\n",
              "\n",
              "    [theme=dark] .colab-df-convert {\n",
              "      background-color: #3B4455;\n",
              "      fill: #D2E3FC;\n",
              "    }\n",
              "\n",
              "    [theme=dark] .colab-df-convert:hover {\n",
              "      background-color: #434B5C;\n",
              "      box-shadow: 0px 1px 3px 1px rgba(0, 0, 0, 0.15);\n",
              "      filter: drop-shadow(0px 1px 2px rgba(0, 0, 0, 0.3));\n",
              "      fill: #FFFFFF;\n",
              "    }\n",
              "  </style>\n",
              "\n",
              "      <script>\n",
              "        const buttonEl =\n",
              "          document.querySelector('#df-f285250e-4304-477b-9061-59ba9ff149d7 button.colab-df-convert');\n",
              "        buttonEl.style.display =\n",
              "          google.colab.kernel.accessAllowed ? 'block' : 'none';\n",
              "\n",
              "        async function convertToInteractive(key) {\n",
              "          const element = document.querySelector('#df-f285250e-4304-477b-9061-59ba9ff149d7');\n",
              "          const dataTable =\n",
              "            await google.colab.kernel.invokeFunction('convertToInteractive',\n",
              "                                                     [key], {});\n",
              "          if (!dataTable) return;\n",
              "\n",
              "          const docLinkHtml = 'Like what you see? Visit the ' +\n",
              "            '<a target=\"_blank\" href=https://colab.research.google.com/notebooks/data_table.ipynb>data table notebook</a>'\n",
              "            + ' to learn more about interactive tables.';\n",
              "          element.innerHTML = '';\n",
              "          dataTable['output_type'] = 'display_data';\n",
              "          await google.colab.output.renderOutput(dataTable, element);\n",
              "          const docLink = document.createElement('div');\n",
              "          docLink.innerHTML = docLinkHtml;\n",
              "          element.appendChild(docLink);\n",
              "        }\n",
              "      </script>\n",
              "    </div>\n",
              "  </div>\n",
              "  "
            ]
          },
          "metadata": {},
          "execution_count": 62
        }
      ]
    },
    {
      "cell_type": "code",
      "source": [
        "X_bow = pd.concat([X_bow_1, X_bow_2, X_bow_3], axis=1)\n",
        "print(X_bow.shape)\n",
        "X_bow.head(3)"
      ],
      "metadata": {
        "colab": {
          "base_uri": "https://localhost:8080/",
          "height": 255
        },
        "id": "ggLHOaot6AUS",
        "outputId": "dd0ed558-b86b-47c9-ddaf-d7d6ccb97794"
      },
      "execution_count": 63,
      "outputs": [
        {
          "output_type": "stream",
          "name": "stdout",
          "text": [
            "(90, 1438)\n"
          ]
        },
        {
          "output_type": "execute_result",
          "data": {
            "text/plain": [
              "   resume_word_num  total_unique_word_num  common_word_num  common_word_ratio  \\\n",
              "0               86                    191               13           0.068063   \n",
              "1               84                    180               27           0.150000   \n",
              "2               93                    184               18           0.097826   \n",
              "\n",
              "   common_word_ratio_min  common_word_ratio_max  fuzz_ratio  \\\n",
              "0               0.183099               0.097744          86   \n",
              "1               0.364865               0.203008          86   \n",
              "2               0.260870               0.135338          86   \n",
              "\n",
              "   fuzz_partial_ratio  fuzz_token_set_ratio  fuzz_token_sort_ratio  ...  \\\n",
              "0                   2                    32                      1  ...   \n",
              "1                  13                    55                      3  ...   \n",
              "2                   2                    43                      3  ...   \n",
              "\n",
              "   bow_resume_703  bow_resume_704  bow_resume_705  bow_resume_706  \\\n",
              "0               0               1               0               1   \n",
              "1               0               1               0               0   \n",
              "2               0               1               1               0   \n",
              "\n",
              "   bow_resume_707  bow_resume_708  bow_resume_709  bow_resume_710  \\\n",
              "0               0               0               0               0   \n",
              "1               0               0               0               0   \n",
              "2               0               0               0               0   \n",
              "\n",
              "   bow_resume_711  bow_resume_712  \n",
              "0               0               0  \n",
              "1               0               0  \n",
              "2               0               0  \n",
              "\n",
              "[3 rows x 1438 columns]"
            ],
            "text/html": [
              "\n",
              "  <div id=\"df-d885d271-f77b-4045-845b-096f2cba78d8\">\n",
              "    <div class=\"colab-df-container\">\n",
              "      <div>\n",
              "<style scoped>\n",
              "    .dataframe tbody tr th:only-of-type {\n",
              "        vertical-align: middle;\n",
              "    }\n",
              "\n",
              "    .dataframe tbody tr th {\n",
              "        vertical-align: top;\n",
              "    }\n",
              "\n",
              "    .dataframe thead th {\n",
              "        text-align: right;\n",
              "    }\n",
              "</style>\n",
              "<table border=\"1\" class=\"dataframe\">\n",
              "  <thead>\n",
              "    <tr style=\"text-align: right;\">\n",
              "      <th></th>\n",
              "      <th>resume_word_num</th>\n",
              "      <th>total_unique_word_num</th>\n",
              "      <th>common_word_num</th>\n",
              "      <th>common_word_ratio</th>\n",
              "      <th>common_word_ratio_min</th>\n",
              "      <th>common_word_ratio_max</th>\n",
              "      <th>fuzz_ratio</th>\n",
              "      <th>fuzz_partial_ratio</th>\n",
              "      <th>fuzz_token_set_ratio</th>\n",
              "      <th>fuzz_token_sort_ratio</th>\n",
              "      <th>...</th>\n",
              "      <th>bow_resume_703</th>\n",
              "      <th>bow_resume_704</th>\n",
              "      <th>bow_resume_705</th>\n",
              "      <th>bow_resume_706</th>\n",
              "      <th>bow_resume_707</th>\n",
              "      <th>bow_resume_708</th>\n",
              "      <th>bow_resume_709</th>\n",
              "      <th>bow_resume_710</th>\n",
              "      <th>bow_resume_711</th>\n",
              "      <th>bow_resume_712</th>\n",
              "    </tr>\n",
              "  </thead>\n",
              "  <tbody>\n",
              "    <tr>\n",
              "      <th>0</th>\n",
              "      <td>86</td>\n",
              "      <td>191</td>\n",
              "      <td>13</td>\n",
              "      <td>0.068063</td>\n",
              "      <td>0.183099</td>\n",
              "      <td>0.097744</td>\n",
              "      <td>86</td>\n",
              "      <td>2</td>\n",
              "      <td>32</td>\n",
              "      <td>1</td>\n",
              "      <td>...</td>\n",
              "      <td>0</td>\n",
              "      <td>1</td>\n",
              "      <td>0</td>\n",
              "      <td>1</td>\n",
              "      <td>0</td>\n",
              "      <td>0</td>\n",
              "      <td>0</td>\n",
              "      <td>0</td>\n",
              "      <td>0</td>\n",
              "      <td>0</td>\n",
              "    </tr>\n",
              "    <tr>\n",
              "      <th>1</th>\n",
              "      <td>84</td>\n",
              "      <td>180</td>\n",
              "      <td>27</td>\n",
              "      <td>0.150000</td>\n",
              "      <td>0.364865</td>\n",
              "      <td>0.203008</td>\n",
              "      <td>86</td>\n",
              "      <td>13</td>\n",
              "      <td>55</td>\n",
              "      <td>3</td>\n",
              "      <td>...</td>\n",
              "      <td>0</td>\n",
              "      <td>1</td>\n",
              "      <td>0</td>\n",
              "      <td>0</td>\n",
              "      <td>0</td>\n",
              "      <td>0</td>\n",
              "      <td>0</td>\n",
              "      <td>0</td>\n",
              "      <td>0</td>\n",
              "      <td>0</td>\n",
              "    </tr>\n",
              "    <tr>\n",
              "      <th>2</th>\n",
              "      <td>93</td>\n",
              "      <td>184</td>\n",
              "      <td>18</td>\n",
              "      <td>0.097826</td>\n",
              "      <td>0.260870</td>\n",
              "      <td>0.135338</td>\n",
              "      <td>86</td>\n",
              "      <td>2</td>\n",
              "      <td>43</td>\n",
              "      <td>3</td>\n",
              "      <td>...</td>\n",
              "      <td>0</td>\n",
              "      <td>1</td>\n",
              "      <td>1</td>\n",
              "      <td>0</td>\n",
              "      <td>0</td>\n",
              "      <td>0</td>\n",
              "      <td>0</td>\n",
              "      <td>0</td>\n",
              "      <td>0</td>\n",
              "      <td>0</td>\n",
              "    </tr>\n",
              "  </tbody>\n",
              "</table>\n",
              "<p>3 rows × 1438 columns</p>\n",
              "</div>\n",
              "      <button class=\"colab-df-convert\" onclick=\"convertToInteractive('df-d885d271-f77b-4045-845b-096f2cba78d8')\"\n",
              "              title=\"Convert this dataframe to an interactive table.\"\n",
              "              style=\"display:none;\">\n",
              "        \n",
              "  <svg xmlns=\"http://www.w3.org/2000/svg\" height=\"24px\"viewBox=\"0 0 24 24\"\n",
              "       width=\"24px\">\n",
              "    <path d=\"M0 0h24v24H0V0z\" fill=\"none\"/>\n",
              "    <path d=\"M18.56 5.44l.94 2.06.94-2.06 2.06-.94-2.06-.94-.94-2.06-.94 2.06-2.06.94zm-11 1L8.5 8.5l.94-2.06 2.06-.94-2.06-.94L8.5 2.5l-.94 2.06-2.06.94zm10 10l.94 2.06.94-2.06 2.06-.94-2.06-.94-.94-2.06-.94 2.06-2.06.94z\"/><path d=\"M17.41 7.96l-1.37-1.37c-.4-.4-.92-.59-1.43-.59-.52 0-1.04.2-1.43.59L10.3 9.45l-7.72 7.72c-.78.78-.78 2.05 0 2.83L4 21.41c.39.39.9.59 1.41.59.51 0 1.02-.2 1.41-.59l7.78-7.78 2.81-2.81c.8-.78.8-2.07 0-2.86zM5.41 20L4 18.59l7.72-7.72 1.47 1.35L5.41 20z\"/>\n",
              "  </svg>\n",
              "      </button>\n",
              "      \n",
              "  <style>\n",
              "    .colab-df-container {\n",
              "      display:flex;\n",
              "      flex-wrap:wrap;\n",
              "      gap: 12px;\n",
              "    }\n",
              "\n",
              "    .colab-df-convert {\n",
              "      background-color: #E8F0FE;\n",
              "      border: none;\n",
              "      border-radius: 50%;\n",
              "      cursor: pointer;\n",
              "      display: none;\n",
              "      fill: #1967D2;\n",
              "      height: 32px;\n",
              "      padding: 0 0 0 0;\n",
              "      width: 32px;\n",
              "    }\n",
              "\n",
              "    .colab-df-convert:hover {\n",
              "      background-color: #E2EBFA;\n",
              "      box-shadow: 0px 1px 2px rgba(60, 64, 67, 0.3), 0px 1px 3px 1px rgba(60, 64, 67, 0.15);\n",
              "      fill: #174EA6;\n",
              "    }\n",
              "\n",
              "    [theme=dark] .colab-df-convert {\n",
              "      background-color: #3B4455;\n",
              "      fill: #D2E3FC;\n",
              "    }\n",
              "\n",
              "    [theme=dark] .colab-df-convert:hover {\n",
              "      background-color: #434B5C;\n",
              "      box-shadow: 0px 1px 3px 1px rgba(0, 0, 0, 0.15);\n",
              "      filter: drop-shadow(0px 1px 2px rgba(0, 0, 0, 0.3));\n",
              "      fill: #FFFFFF;\n",
              "    }\n",
              "  </style>\n",
              "\n",
              "      <script>\n",
              "        const buttonEl =\n",
              "          document.querySelector('#df-d885d271-f77b-4045-845b-096f2cba78d8 button.colab-df-convert');\n",
              "        buttonEl.style.display =\n",
              "          google.colab.kernel.accessAllowed ? 'block' : 'none';\n",
              "\n",
              "        async function convertToInteractive(key) {\n",
              "          const element = document.querySelector('#df-d885d271-f77b-4045-845b-096f2cba78d8');\n",
              "          const dataTable =\n",
              "            await google.colab.kernel.invokeFunction('convertToInteractive',\n",
              "                                                     [key], {});\n",
              "          if (!dataTable) return;\n",
              "\n",
              "          const docLinkHtml = 'Like what you see? Visit the ' +\n",
              "            '<a target=\"_blank\" href=https://colab.research.google.com/notebooks/data_table.ipynb>data table notebook</a>'\n",
              "            + ' to learn more about interactive tables.';\n",
              "          element.innerHTML = '';\n",
              "          dataTable['output_type'] = 'display_data';\n",
              "          await google.colab.output.renderOutput(dataTable, element);\n",
              "          const docLink = document.createElement('div');\n",
              "          docLink.innerHTML = docLinkHtml;\n",
              "          element.appendChild(docLink);\n",
              "        }\n",
              "      </script>\n",
              "    </div>\n",
              "  </div>\n",
              "  "
            ]
          },
          "metadata": {},
          "execution_count": 63
        }
      ]
    },
    {
      "cell_type": "code",
      "source": [
        "# column names\n",
        "features = X_bow.columns.to_numpy()"
      ],
      "metadata": {
        "id": "C1qYVOON6G61"
      },
      "execution_count": 64,
      "outputs": []
    },
    {
      "cell_type": "code",
      "source": [
        "y_bow = y_bow.to_numpy()\n",
        "# do train test split\n",
        "X_train_bow, X_test_bow, y_train_bow, y_test_bow = train_test_split(X_bow, y_bow, test_size=0.30, random_state=1)\n",
        "train_indices = X_train_bow.index\n",
        "test_indices = X_test_bow.index\n"
      ],
      "metadata": {
        "id": "6PROXqoz6Mju"
      },
      "execution_count": 65,
      "outputs": []
    },
    {
      "cell_type": "code",
      "source": [
        "plt.title('Distribution of train and test')\n",
        "sns.kdeplot(y_train_bow, label='Train PDF')\n",
        "sns.kdeplot(y_test_bow, label='Test PDF')\n",
        "plt.legend()\n",
        "plt.show()"
      ],
      "metadata": {
        "colab": {
          "base_uri": "https://localhost:8080/",
          "height": 452
        },
        "id": "-dkOqA6-7U5D",
        "outputId": "44e2e564-8c52-45f9-fca0-35d62da7df20"
      },
      "execution_count": 66,
      "outputs": [
        {
          "output_type": "display_data",
          "data": {
            "text/plain": [
              "<Figure size 640x480 with 1 Axes>"
            ],
            "image/png": "[encoded data removed]"
          },
          "metadata": {}
        }
      ]
    },
    {
      "cell_type": "code",
      "source": [
        "scaler = StandardScaler()\n",
        "scaler.fit(X_train_bow)\n",
        "# standardizing train data\n",
        "X_train_bow = scaler.transform(X_train_bow)\n",
        "# standardizing test data\n",
        "X_test_bow = scaler.transform(X_test_bow)"
      ],
      "metadata": {
        "id": "n1wMUdxS7XPl"
      },
      "execution_count": 67,
      "outputs": []
    },
    {
      "cell_type": "markdown",
      "source": [
        "MODEL Support Vector Regression (Linear Kernel)"
      ],
      "metadata": {
        "id": "yULRE1Ix8hp4"
      }
    },
    {
      "cell_type": "code",
      "source": [
        "def objective(space):\n",
        "    '''objective function for hyper param tuning'''\n",
        "    # 3 fold cross validation\n",
        "    kf = KFold(n_splits=3)\n",
        "    mselosses = []\n",
        "    # k fold cross validation\n",
        "    for train_index, cv_index in kf.split(X_train_bow):\n",
        "        # split input data\n",
        "        X_train, X_cv = X_train_bow[train_index], X_train_bow[cv_index]\n",
        "        # split output data\n",
        "        y_train, y_cv = y_train_bow[train_index], y_train_bow[cv_index]\n",
        "        # create SVR RBF\n",
        "        model = SVR(kernel = 'linear', C = space['c'])\n",
        "        # train the model\n",
        "        model.fit(X_train, y_train)\n",
        "        cv_pred = model.predict(X_cv)\n",
        "        tempmseloss = mse(y_cv, cv_pred)\n",
        "        mselosses.append(tempmseloss)\n",
        "        \n",
        "    # calculate mse\n",
        "    mseloss = sum(mselosses)/len(mselosses)\n",
        "    # return params\n",
        "    return {'loss':mseloss, 'status': STATUS_OK, 'params': space }"
      ],
      "metadata": {
        "id": "wBNvYYmn7iJC"
      },
      "execution_count": 68,
      "outputs": []
    },
    {
      "cell_type": "code",
      "source": [
        "space = {\n",
        "    # uniform distribution between 0.001 and 1000\n",
        "    \"c\": hp.quniform(\"c\", 0.001, 1000, 0.001)\n",
        "}"
      ],
      "metadata": {
        "id": "5h1LkvpK8l1g"
      },
      "execution_count": 69,
      "outputs": []
    },
    {
      "cell_type": "code",
      "source": [
        "trials = Trials()\n",
        "# minimise the objective function with max 300 trials\n",
        "best_param = fmin(fn=objective,\n",
        "            space=space,\n",
        "            algo=tpe.suggest,\n",
        "            max_evals=300,\n",
        "            trials=trials)"
      ],
      "metadata": {
        "colab": {
          "base_uri": "https://localhost:8080/"
        },
        "id": "7-C5WjNO8pew",
        "outputId": "2b1b9b48-2703-4e51-bd6f-23824b5be213"
      },
      "execution_count": 70,
      "outputs": [
        {
          "output_type": "stream",
          "name": "stdout",
          "text": [
            "100%|██████████| 300/300 [00:07<00:00, 41.32trial/s, best loss: 167.43628624148707]\n"
          ]
        }
      ]
    },
    {
      "cell_type": "code",
      "source": [
        "print(\"Best Param : \", best_param)"
      ],
      "metadata": {
        "colab": {
          "base_uri": "https://localhost:8080/"
        },
        "id": "HVbxy5LR8si6",
        "outputId": "0064d6ab-6697-439f-88b0-e0617ee5cc36"
      },
      "execution_count": 71,
      "outputs": [
        {
          "output_type": "stream",
          "name": "stdout",
          "text": [
            "Best Param :  {'c': 410.41200000000003}\n"
          ]
        }
      ]
    },
    {
      "cell_type": "code",
      "source": [
        "svr_model_linear = SVR(kernel = 'linear', C = 1.429)"
      ],
      "metadata": {
        "id": "auPicitm8zMa"
      },
      "execution_count": 72,
      "outputs": []
    },
    {
      "cell_type": "code",
      "source": [
        "svr_model_linear.fit(X_train_bow, y_train_bow)"
      ],
      "metadata": {
        "colab": {
          "base_uri": "https://localhost:8080/"
        },
        "id": "i8Vs4d7L9FQe",
        "outputId": "9ae8a6e2-ac0a-41b8-e3e9-254dc2c3cb6d"
      },
      "execution_count": 73,
      "outputs": [
        {
          "output_type": "execute_result",
          "data": {
            "text/plain": [
              "SVR(C=1.429, kernel='linear')"
            ]
          },
          "metadata": {},
          "execution_count": 73
        }
      ]
    },
    {
      "cell_type": "code",
      "source": [
        "def showErrors(model, X_train, y_train, X_test, y_test):\n",
        "    '''show errors for train and test and also return test errors'''\n",
        "    print('\\n','==========','Train Errors','==========','\\n')\n",
        "    # predict for train\n",
        "    y_train_pred = model.predict(X_train)\n",
        "    # get mean squared error for train data\n",
        "    print('MSE on train data =>',mse(y_train, y_train_pred))\n",
        "    # get r squared score for train data\n",
        "    print('R-squared on train data =>',r2_score(y_train, y_train_pred))\n",
        "    # plot histogram \n",
        "    sns.histplot(y_train - y_train_pred)\n",
        "    # set title and show plot\n",
        "    plt.title('PDF of errors')\n",
        "    plt.show()\n",
        "\n",
        "    print('\\n','==========','Test Errors','==========','\\n')\n",
        "    # predict for test\n",
        "    y_test_pred = model.predict(X_test)\n",
        "    # get mean squared error for test data\n",
        "    print('MSE on test data =>',mse(y_test, y_test_pred))\n",
        "    # get r squared score for test data\n",
        "    print('R-squared on test data =>',r2_score(y_test, y_test_pred))\n",
        "    # get errors\n",
        "    test_errors = y_test - y_test_pred\n",
        "    # plot histogram \n",
        "    sns.histplot(test_errors)\n",
        "    # set title and show plot\n",
        "    plt.title('PDF of errors')\n",
        "    plt.show()\n",
        "    return test_errors"
      ],
      "metadata": {
        "id": "R2fEW_kZ965Q"
      },
      "execution_count": 74,
      "outputs": []
    },
    {
      "cell_type": "code",
      "source": [
        "test_errors = showErrors(svr_model_linear, X_train_bow, y_train_bow, X_test_bow, y_test_bow)"
      ],
      "metadata": {
        "colab": {
          "base_uri": "https://localhost:8080/",
          "height": 1000
        },
        "id": "yD6AakwO9Hdv",
        "outputId": "24b9849b-9864-41f3-d49d-fbfc113f582f"
      },
      "execution_count": 75,
      "outputs": [
        {
          "output_type": "stream",
          "name": "stdout",
          "text": [
            "\n",
            " ========== Train Errors ========== \n",
            "\n",
            "MSE on train data => 0.010004223643363994\n",
            "R-squared on train data => 0.9999618474846187\n"
          ]
        },
        {
          "output_type": "display_data",
          "data": {
            "text/plain": [
              "<Figure size 640x480 with 1 Axes>"
            ],
            "image/png": "[encoded data removed]"
          },
          "metadata": {}
        },
        {
          "output_type": "stream",
          "name": "stdout",
          "text": [
            "\n",
            " ========== Test Errors ========== \n",
            "\n",
            "MSE on test data => 93.92765089883254\n",
            "R-squared on test data => 0.6008714418140302\n"
          ]
        },
        {
          "output_type": "display_data",
          "data": {
            "text/plain": [
              "<Figure size 640x480 with 1 Axes>"
            ],
            "image/png": "[encoded data removed]"
          },
          "metadata": {}
        }
      ]
    },
    {
      "cell_type": "markdown",
      "source": [
        "Linear Regression"
      ],
      "metadata": {
        "id": "-gDlfOBU-SEY"
      }
    },
    {
      "cell_type": "code",
      "source": [
        "def objective(space):\n",
        "    '''objective function for hyper param tuning'''\n",
        "    # 3 fold cross validation\n",
        "    kf = KFold(n_splits=3)\n",
        "    mselosses = []\n",
        "    # k fold cross validation\n",
        "    for train_index, cv_index in kf.split(X_train_bow):\n",
        "        # split input data\n",
        "        X_train, X_cv = X_train_bow[train_index], X_train_bow[cv_index]\n",
        "        # split output data\n",
        "        y_train, y_cv = y_train_bow[train_index], y_train_bow[cv_index]\n",
        "        # create Linear Regression model with l2 regularizer\n",
        "        model = Ridge(alpha = space['alpha'], max_iter=3000)\n",
        "        # train the model\n",
        "        model.fit(X_train, y_train)\n",
        "        # predict output for cv\n",
        "        cv_pred = model.predict(X_cv)\n",
        "        # calculate cv loss\n",
        "        tempmseloss = mse(y_cv, cv_pred)\n",
        "        # save cv mse loss\n",
        "        mselosses.append(tempmseloss)\n",
        "        \n",
        "    # calculate mse\n",
        "    mseloss = sum(mselosses)/len(mselosses)\n",
        "    # return params\n",
        "    return {'loss':mseloss, 'status': STATUS_OK, 'params': space }"
      ],
      "metadata": {
        "id": "_DgrGI8T9Ju1"
      },
      "execution_count": 76,
      "outputs": []
    },
    {
      "cell_type": "code",
      "source": [
        "# search space for hyper parameter tuning\n",
        "space = {\n",
        "    # uniform distribution between 0.001 and 1000\n",
        "    \"alpha\": hp.quniform(\"alpha\", 0.001, 1000, 0.001)\n",
        "}"
      ],
      "metadata": {
        "id": "ECy7V2Rz-Yd3"
      },
      "execution_count": 77,
      "outputs": []
    },
    {
      "cell_type": "code",
      "source": [
        "trials = Trials()\n",
        "# minimise the objective function with max 300 trials\n",
        "best_param = fmin(fn=objective,\n",
        "            space=space,\n",
        "            algo=tpe.suggest,\n",
        "            max_evals=300,\n",
        "            trials=trials)"
      ],
      "metadata": {
        "colab": {
          "base_uri": "https://localhost:8080/"
        },
        "id": "PDPJSmXC-a8G",
        "outputId": "dff751d9-0f14-47b2-a85a-0fe798522188"
      },
      "execution_count": 78,
      "outputs": [
        {
          "output_type": "stream",
          "name": "stdout",
          "text": [
            "100%|██████████| 300/300 [00:16<00:00, 18.55trial/s, best loss: 167.1495526214576]\n"
          ]
        }
      ]
    },
    {
      "cell_type": "code",
      "source": [
        "print(\"Best Param : \", best_param)"
      ],
      "metadata": {
        "colab": {
          "base_uri": "https://localhost:8080/"
        },
        "id": "lYT1m5_l-dms",
        "outputId": "588c3f36-4bf6-46bf-b6bc-53e5ca4d8c11"
      },
      "execution_count": 79,
      "outputs": [
        {
          "output_type": "stream",
          "name": "stdout",
          "text": [
            "Best Param :  {'alpha': 0.056}\n"
          ]
        }
      ]
    },
    {
      "cell_type": "code",
      "source": [
        "lr_model = Ridge(alpha = 0.013000000000000001, max_iter=3000)\n",
        "# fit model on train data\n",
        "lr_model.fit(X_train_bow, y_train_bow)"
      ],
      "metadata": {
        "colab": {
          "base_uri": "https://localhost:8080/"
        },
        "id": "xSWJiJEe_AI1",
        "outputId": "43333f00-c073-47cd-ece1-d3d7e5b757ec"
      },
      "execution_count": 80,
      "outputs": [
        {
          "output_type": "execute_result",
          "data": {
            "text/plain": [
              "Ridge(alpha=0.013000000000000001, max_iter=3000)"
            ]
          },
          "metadata": {},
          "execution_count": 80
        }
      ]
    },
    {
      "cell_type": "code",
      "source": [
        "test_errors = showErrors(lr_model, X_train_bow, y_train_bow, X_test_bow, y_test_bow)"
      ],
      "metadata": {
        "colab": {
          "base_uri": "https://localhost:8080/",
          "height": 1000
        },
        "id": "JuiLJLaV_DR2",
        "outputId": "be2de9c0-4776-48ec-d850-3bd66321317c"
      },
      "execution_count": 81,
      "outputs": [
        {
          "output_type": "stream",
          "name": "stdout",
          "text": [
            "\n",
            " ========== Train Errors ========== \n",
            "\n",
            "MSE on train data => 6.537574654413747e-08\n",
            "R-squared on train data => 0.9999999997506804\n"
          ]
        },
        {
          "output_type": "display_data",
          "data": {
            "text/plain": [
              "<Figure size 640x480 with 1 Axes>"
            ],
            "image/png": "[encoded data removed]"
          },
          "metadata": {}
        },
        {
          "output_type": "stream",
          "name": "stdout",
          "text": [
            "\n",
            " ========== Test Errors ========== \n",
            "\n",
            "MSE on test data => 93.51381724016092\n",
            "R-squared on test data => 0.602629953071725\n"
          ]
        },
        {
          "output_type": "display_data",
          "data": {
            "text/plain": [
              "<Figure size 640x480 with 1 Axes>"
            ],
            "image/png": "[encoded data removed]"
          },
          "metadata": {}
        }
      ]
    },
    {
      "cell_type": "code",
      "source": [
        "alphas = [1e-5, 1e-4, 1e-3, 1e-2, 1e-1, 1e0, 1e1, 1e2, .5e3, 1e3, .5e4, 1e4, 1e5, 1e6]\n",
        "\n",
        "train_mse = []\n",
        "cv_mse = []\n",
        "for i in alphas:\n",
        "    # create l2 linear regerssion model\n",
        "    model = Ridge(alpha = i, max_iter=3000)\n",
        "    # fit model on train data\n",
        "    model.fit(X_train_bow, y_train_bow)\n",
        "    # get train loss\n",
        "    train_mse.append(mse(y_train_bow, model.predict(X_train_bow)))\n",
        "    # get test loss\n",
        "    cv_mse.append(mse(y_test_bow, model.predict(X_test_bow)))\n",
        "\n",
        "# create x axis values\n",
        "x_axis = list(range(len(alphas)))\n",
        "# set fig size\n",
        "plt.figure(figsize=(12, 6))\n",
        "# title for the plot\n",
        "plt.title('Train and Test loss for different alphas')\n",
        "# plot a line plot for train mse\n",
        "plt.plot(train_mse, 'o-', color='green', label='Train')\n",
        "# plot a line plot for cv mse\n",
        "plt.plot(cv_mse, 'o-', color='blue', label='Test')\n",
        "# change x ticks\n",
        "plt.xticks(ticks=x_axis, labels=alphas)\n",
        "plt.xlabel('alpha')\n",
        "plt.ylabel('loss')\n",
        "plt.legend()\n",
        "plt.show()"
      ],
      "metadata": {
        "colab": {
          "base_uri": "https://localhost:8080/",
          "height": 561
        },
        "id": "-ZLUXlUL_GOv",
        "outputId": "ade09978-3bc3-48d4-8a6c-9944ddf7f56a"
      },
      "execution_count": 90,
      "outputs": [
        {
          "output_type": "display_data",
          "data": {
            "text/plain": [
              "<Figure size 1200x600 with 1 Axes>"
            ],
            "image/png": "[encoded data removed]"
          },
          "metadata": {}
        }
      ]
    },
    {
      "cell_type": "code",
      "source": [
        "csvData.loc[test_indices[np.abs(test_errors)>15]]"
      ],
      "metadata": {
        "colab": {
          "base_uri": "https://localhost:8080/",
          "height": 206
        },
        "id": "qSzb3PQd_beg",
        "outputId": "55f8ce2b-20ed-4790-d829-b86ddbdd9065"
      },
      "execution_count": 91,
      "outputs": [
        {
          "output_type": "execute_result",
          "data": {
            "text/plain": [
              "      CandidateID  Match Percentage\n",
              "87  candidate_072             44.94\n",
              "74  candidate_086              7.81\n",
              "60  candidate_047             11.30\n",
              "40  candidate_015              8.01\n",
              "89  candidate_037             56.70"
            ],
            "text/html": [
              "\n",
              "  <div id=\"df-f17feb9d-189b-4c5b-ba3e-7524141a75ce\">\n",
              "    <div class=\"colab-df-container\">\n",
              "      <div>\n",
              "<style scoped>\n",
              "    .dataframe tbody tr th:only-of-type {\n",
              "        vertical-align: middle;\n",
              "    }\n",
              "\n",
              "    .dataframe tbody tr th {\n",
              "        vertical-align: top;\n",
              "    }\n",
              "\n",
              "    .dataframe thead th {\n",
              "        text-align: right;\n",
              "    }\n",
              "</style>\n",
              "<table border=\"1\" class=\"dataframe\">\n",
              "  <thead>\n",
              "    <tr style=\"text-align: right;\">\n",
              "      <th></th>\n",
              "      <th>CandidateID</th>\n",
              "      <th>Match Percentage</th>\n",
              "    </tr>\n",
              "  </thead>\n",
              "  <tbody>\n",
              "    <tr>\n",
              "      <th>87</th>\n",
              "      <td>candidate_072</td>\n",
              "      <td>44.94</td>\n",
              "    </tr>\n",
              "    <tr>\n",
              "      <th>74</th>\n",
              "      <td>candidate_086</td>\n",
              "      <td>7.81</td>\n",
              "    </tr>\n",
              "    <tr>\n",
              "      <th>60</th>\n",
              "      <td>candidate_047</td>\n",
              "      <td>11.30</td>\n",
              "    </tr>\n",
              "    <tr>\n",
              "      <th>40</th>\n",
              "      <td>candidate_015</td>\n",
              "      <td>8.01</td>\n",
              "    </tr>\n",
              "    <tr>\n",
              "      <th>89</th>\n",
              "      <td>candidate_037</td>\n",
              "      <td>56.70</td>\n",
              "    </tr>\n",
              "  </tbody>\n",
              "</table>\n",
              "</div>\n",
              "      <button class=\"colab-df-convert\" onclick=\"convertToInteractive('df-f17feb9d-189b-4c5b-ba3e-7524141a75ce')\"\n",
              "              title=\"Convert this dataframe to an interactive table.\"\n",
              "              style=\"display:none;\">\n",
              "        \n",
              "  <svg xmlns=\"http://www.w3.org/2000/svg\" height=\"24px\"viewBox=\"0 0 24 24\"\n",
              "       width=\"24px\">\n",
              "    <path d=\"M0 0h24v24H0V0z\" fill=\"none\"/>\n",
              "    <path d=\"M18.56 5.44l.94 2.06.94-2.06 2.06-.94-2.06-.94-.94-2.06-.94 2.06-2.06.94zm-11 1L8.5 8.5l.94-2.06 2.06-.94-2.06-.94L8.5 2.5l-.94 2.06-2.06.94zm10 10l.94 2.06.94-2.06 2.06-.94-2.06-.94-.94-2.06-.94 2.06-2.06.94z\"/><path d=\"M17.41 7.96l-1.37-1.37c-.4-.4-.92-.59-1.43-.59-.52 0-1.04.2-1.43.59L10.3 9.45l-7.72 7.72c-.78.78-.78 2.05 0 2.83L4 21.41c.39.39.9.59 1.41.59.51 0 1.02-.2 1.41-.59l7.78-7.78 2.81-2.81c.8-.78.8-2.07 0-2.86zM5.41 20L4 18.59l7.72-7.72 1.47 1.35L5.41 20z\"/>\n",
              "  </svg>\n",
              "      </button>\n",
              "      \n",
              "  <style>\n",
              "    .colab-df-container {\n",
              "      display:flex;\n",
              "      flex-wrap:wrap;\n",
              "      gap: 12px;\n",
              "    }\n",
              "\n",
              "    .colab-df-convert {\n",
              "      background-color: #E8F0FE;\n",
              "      border: none;\n",
              "      border-radius: 50%;\n",
              "      cursor: pointer;\n",
              "      display: none;\n",
              "      fill: #1967D2;\n",
              "      height: 32px;\n",
              "      padding: 0 0 0 0;\n",
              "      width: 32px;\n",
              "    }\n",
              "\n",
              "    .colab-df-convert:hover {\n",
              "      background-color: #E2EBFA;\n",
              "      box-shadow: 0px 1px 2px rgba(60, 64, 67, 0.3), 0px 1px 3px 1px rgba(60, 64, 67, 0.15);\n",
              "      fill: #174EA6;\n",
              "    }\n",
              "\n",
              "    [theme=dark] .colab-df-convert {\n",
              "      background-color: #3B4455;\n",
              "      fill: #D2E3FC;\n",
              "    }\n",
              "\n",
              "    [theme=dark] .colab-df-convert:hover {\n",
              "      background-color: #434B5C;\n",
              "      box-shadow: 0px 1px 3px 1px rgba(0, 0, 0, 0.15);\n",
              "      filter: drop-shadow(0px 1px 2px rgba(0, 0, 0, 0.3));\n",
              "      fill: #FFFFFF;\n",
              "    }\n",
              "  </style>\n",
              "\n",
              "      <script>\n",
              "        const buttonEl =\n",
              "          document.querySelector('#df-f17feb9d-189b-4c5b-ba3e-7524141a75ce button.colab-df-convert');\n",
              "        buttonEl.style.display =\n",
              "          google.colab.kernel.accessAllowed ? 'block' : 'none';\n",
              "\n",
              "        async function convertToInteractive(key) {\n",
              "          const element = document.querySelector('#df-f17feb9d-189b-4c5b-ba3e-7524141a75ce');\n",
              "          const dataTable =\n",
              "            await google.colab.kernel.invokeFunction('convertToInteractive',\n",
              "                                                     [key], {});\n",
              "          if (!dataTable) return;\n",
              "\n",
              "          const docLinkHtml = 'Like what you see? Visit the ' +\n",
              "            '<a target=\"_blank\" href=https://colab.research.google.com/notebooks/data_table.ipynb>data table notebook</a>'\n",
              "            + ' to learn more about interactive tables.';\n",
              "          element.innerHTML = '';\n",
              "          dataTable['output_type'] = 'display_data';\n",
              "          await google.colab.output.renderOutput(dataTable, element);\n",
              "          const docLink = document.createElement('div');\n",
              "          docLink.innerHTML = docLinkHtml;\n",
              "          element.appendChild(docLink);\n",
              "        }\n",
              "      </script>\n",
              "    </div>\n",
              "  </div>\n",
              "  "
            ]
          },
          "metadata": {},
          "execution_count": 91
        }
      ]
    },
    {
      "cell_type": "markdown",
      "source": [
        "KNN regression"
      ],
      "metadata": {
        "id": "1vFxhzp46P2h"
      }
    },
    {
      "cell_type": "code",
      "source": [
        "csvData = pd.read_csv('/content/drive/MyDrive/Colab Notebooks/DATASET/dataset/train.csv')"
      ],
      "metadata": {
        "id": "CMCqGTFm-Qca"
      },
      "execution_count": 92,
      "outputs": []
    },
    {
      "cell_type": "code",
      "source": [
        "type(data_feature)"
      ],
      "metadata": {
        "colab": {
          "base_uri": "https://localhost:8080/"
        },
        "id": "4VgN5DvY-akY",
        "outputId": "23b2ec64-2d92-4b48-91e6-744c0de970d2"
      },
      "execution_count": 93,
      "outputs": [
        {
          "output_type": "execute_result",
          "data": {
            "text/plain": [
              "pandas.core.frame.DataFrame"
            ]
          },
          "metadata": {},
          "execution_count": 93
        }
      ]
    },
    {
      "cell_type": "code",
      "source": [
        "data_feature.head(2)"
      ],
      "metadata": {
        "colab": {
          "base_uri": "https://localhost:8080/",
          "height": 280
        },
        "id": "lqu8kfMk-h8r",
        "outputId": "d95f0702-9266-446d-f323-354a5d5d4fd4"
      },
      "execution_count": 94,
      "outputs": [
        {
          "output_type": "execute_result",
          "data": {
            "text/plain": [
              "                                     job_description  \\\n",
              "0  machine learning engineering 13585abc knowledg...   \n",
              "1  machine learning engineering 13585abc knowledg...   \n",
              "\n",
              "                                    processed_resume  match_percentage  \\\n",
              "0  liamandrews fresher executive work experience ...             13.60   \n",
              "1  ellie mackey fresher intern executive profile ...             36.63   \n",
              "\n",
              "   resume_word_num  total_unique_word_num  common_word_num  common_word_ratio  \\\n",
              "0               86                    191               13           0.068063   \n",
              "1               84                    180               27           0.150000   \n",
              "\n",
              "   common_word_ratio_min  common_word_ratio_max  fuzz_ratio  \\\n",
              "0               0.183099               0.097744          86   \n",
              "1               0.364865               0.203008          86   \n",
              "\n",
              "   fuzz_partial_ratio  fuzz_token_set_ratio  fuzz_token_sort_ratio  \\\n",
              "0                   2                    32                      1   \n",
              "1                  13                    55                      3   \n",
              "\n",
              "   is_fresher  from_reputed_college  cosine_similarity  euclidean_distance  \n",
              "0           1                     1           0.136678           13.416408  \n",
              "1           1                     0           0.318471           12.288206  "
            ],
            "text/html": [
              "\n",
              "  <div id=\"df-5e2b46c9-9fe3-4139-8515-c850924abdeb\">\n",
              "    <div class=\"colab-df-container\">\n",
              "      <div>\n",
              "<style scoped>\n",
              "    .dataframe tbody tr th:only-of-type {\n",
              "        vertical-align: middle;\n",
              "    }\n",
              "\n",
              "    .dataframe tbody tr th {\n",
              "        vertical-align: top;\n",
              "    }\n",
              "\n",
              "    .dataframe thead th {\n",
              "        text-align: right;\n",
              "    }\n",
              "</style>\n",
              "<table border=\"1\" class=\"dataframe\">\n",
              "  <thead>\n",
              "    <tr style=\"text-align: right;\">\n",
              "      <th></th>\n",
              "      <th>job_description</th>\n",
              "      <th>processed_resume</th>\n",
              "      <th>match_percentage</th>\n",
              "      <th>resume_word_num</th>\n",
              "      <th>total_unique_word_num</th>\n",
              "      <th>common_word_num</th>\n",
              "      <th>common_word_ratio</th>\n",
              "      <th>common_word_ratio_min</th>\n",
              "      <th>common_word_ratio_max</th>\n",
              "      <th>fuzz_ratio</th>\n",
              "      <th>fuzz_partial_ratio</th>\n",
              "      <th>fuzz_token_set_ratio</th>\n",
              "      <th>fuzz_token_sort_ratio</th>\n",
              "      <th>is_fresher</th>\n",
              "      <th>from_reputed_college</th>\n",
              "      <th>cosine_similarity</th>\n",
              "      <th>euclidean_distance</th>\n",
              "    </tr>\n",
              "  </thead>\n",
              "  <tbody>\n",
              "    <tr>\n",
              "      <th>0</th>\n",
              "      <td>machine learning engineering 13585abc knowledg...</td>\n",
              "      <td>liamandrews fresher executive work experience ...</td>\n",
              "      <td>13.60</td>\n",
              "      <td>86</td>\n",
              "      <td>191</td>\n",
              "      <td>13</td>\n",
              "      <td>0.068063</td>\n",
              "      <td>0.183099</td>\n",
              "      <td>0.097744</td>\n",
              "      <td>86</td>\n",
              "      <td>2</td>\n",
              "      <td>32</td>\n",
              "      <td>1</td>\n",
              "      <td>1</td>\n",
              "      <td>1</td>\n",
              "      <td>0.136678</td>\n",
              "      <td>13.416408</td>\n",
              "    </tr>\n",
              "    <tr>\n",
              "      <th>1</th>\n",
              "      <td>machine learning engineering 13585abc knowledg...</td>\n",
              "      <td>ellie mackey fresher intern executive profile ...</td>\n",
              "      <td>36.63</td>\n",
              "      <td>84</td>\n",
              "      <td>180</td>\n",
              "      <td>27</td>\n",
              "      <td>0.150000</td>\n",
              "      <td>0.364865</td>\n",
              "      <td>0.203008</td>\n",
              "      <td>86</td>\n",
              "      <td>13</td>\n",
              "      <td>55</td>\n",
              "      <td>3</td>\n",
              "      <td>1</td>\n",
              "      <td>0</td>\n",
              "      <td>0.318471</td>\n",
              "      <td>12.288206</td>\n",
              "    </tr>\n",
              "  </tbody>\n",
              "</table>\n",
              "</div>\n",
              "      <button class=\"colab-df-convert\" onclick=\"convertToInteractive('df-5e2b46c9-9fe3-4139-8515-c850924abdeb')\"\n",
              "              title=\"Convert this dataframe to an interactive table.\"\n",
              "              style=\"display:none;\">\n",
              "        \n",
              "  <svg xmlns=\"http://www.w3.org/2000/svg\" height=\"24px\"viewBox=\"0 0 24 24\"\n",
              "       width=\"24px\">\n",
              "    <path d=\"M0 0h24v24H0V0z\" fill=\"none\"/>\n",
              "    <path d=\"M18.56 5.44l.94 2.06.94-2.06 2.06-.94-2.06-.94-.94-2.06-.94 2.06-2.06.94zm-11 1L8.5 8.5l.94-2.06 2.06-.94-2.06-.94L8.5 2.5l-.94 2.06-2.06.94zm10 10l.94 2.06.94-2.06 2.06-.94-2.06-.94-.94-2.06-.94 2.06-2.06.94z\"/><path d=\"M17.41 7.96l-1.37-1.37c-.4-.4-.92-.59-1.43-.59-.52 0-1.04.2-1.43.59L10.3 9.45l-7.72 7.72c-.78.78-.78 2.05 0 2.83L4 21.41c.39.39.9.59 1.41.59.51 0 1.02-.2 1.41-.59l7.78-7.78 2.81-2.81c.8-.78.8-2.07 0-2.86zM5.41 20L4 18.59l7.72-7.72 1.47 1.35L5.41 20z\"/>\n",
              "  </svg>\n",
              "      </button>\n",
              "      \n",
              "  <style>\n",
              "    .colab-df-container {\n",
              "      display:flex;\n",
              "      flex-wrap:wrap;\n",
              "      gap: 12px;\n",
              "    }\n",
              "\n",
              "    .colab-df-convert {\n",
              "      background-color: #E8F0FE;\n",
              "      border: none;\n",
              "      border-radius: 50%;\n",
              "      cursor: pointer;\n",
              "      display: none;\n",
              "      fill: #1967D2;\n",
              "      height: 32px;\n",
              "      padding: 0 0 0 0;\n",
              "      width: 32px;\n",
              "    }\n",
              "\n",
              "    .colab-df-convert:hover {\n",
              "      background-color: #E2EBFA;\n",
              "      box-shadow: 0px 1px 2px rgba(60, 64, 67, 0.3), 0px 1px 3px 1px rgba(60, 64, 67, 0.15);\n",
              "      fill: #174EA6;\n",
              "    }\n",
              "\n",
              "    [theme=dark] .colab-df-convert {\n",
              "      background-color: #3B4455;\n",
              "      fill: #D2E3FC;\n",
              "    }\n",
              "\n",
              "    [theme=dark] .colab-df-convert:hover {\n",
              "      background-color: #434B5C;\n",
              "      box-shadow: 0px 1px 3px 1px rgba(0, 0, 0, 0.15);\n",
              "      filter: drop-shadow(0px 1px 2px rgba(0, 0, 0, 0.3));\n",
              "      fill: #FFFFFF;\n",
              "    }\n",
              "  </style>\n",
              "\n",
              "      <script>\n",
              "        const buttonEl =\n",
              "          document.querySelector('#df-5e2b46c9-9fe3-4139-8515-c850924abdeb button.colab-df-convert');\n",
              "        buttonEl.style.display =\n",
              "          google.colab.kernel.accessAllowed ? 'block' : 'none';\n",
              "\n",
              "        async function convertToInteractive(key) {\n",
              "          const element = document.querySelector('#df-5e2b46c9-9fe3-4139-8515-c850924abdeb');\n",
              "          const dataTable =\n",
              "            await google.colab.kernel.invokeFunction('convertToInteractive',\n",
              "                                                     [key], {});\n",
              "          if (!dataTable) return;\n",
              "\n",
              "          const docLinkHtml = 'Like what you see? Visit the ' +\n",
              "            '<a target=\"_blank\" href=https://colab.research.google.com/notebooks/data_table.ipynb>data table notebook</a>'\n",
              "            + ' to learn more about interactive tables.';\n",
              "          element.innerHTML = '';\n",
              "          dataTable['output_type'] = 'display_data';\n",
              "          await google.colab.output.renderOutput(dataTable, element);\n",
              "          const docLink = document.createElement('div');\n",
              "          docLink.innerHTML = docLinkHtml;\n",
              "          element.appendChild(docLink);\n",
              "        }\n",
              "      </script>\n",
              "    </div>\n",
              "  </div>\n",
              "  "
            ]
          },
          "metadata": {},
          "execution_count": 94
        }
      ]
    },
    {
      "cell_type": "code",
      "source": [
        "w2v_model=load('/content/drive/MyDrive/Colab Notebooks/DATASET/w2v_model.joblib')"
      ],
      "metadata": {
        "id": "wnE9xdlo_WhP"
      },
      "execution_count": 95,
      "outputs": []
    },
    {
      "cell_type": "code",
      "source": [
        "w2v_words = list(w2v_model.key_to_index)"
      ],
      "metadata": {
        "id": "xBgbRbIM_iJw"
      },
      "execution_count": 96,
      "outputs": []
    },
    {
      "cell_type": "code",
      "source": [
        "def getAverageWord2Vec(sentence):\n",
        "    ''' get Average Word2Vec given a sentence'''\n",
        "    # initialize sentence_vector to zeros\n",
        "    sentence_vector = np.zeros(300)\n",
        "    # count words in sentence\n",
        "    count_words = 0\n",
        "    # loop over each word\n",
        "    for word in sentence.split():\n",
        "        # if there is a vector for given word\n",
        "        if word in w2v_words:\n",
        "            # get the vector\n",
        "            vector = w2v_model[word]\n",
        "            # add the vectors\n",
        "            sentence_vector = sentence_vector + vector\n",
        "            # increment count\n",
        "            count_words = count_words + 1\n",
        "    if count_words != 0:\n",
        "        # if the word count is not zero then divide by it to get the average\n",
        "        sentence_vector /= count_words\n",
        "    # return the avg word2vec\n",
        "    return sentence_vector"
      ],
      "metadata": {
        "id": "nFoNRKuF_mYU"
      },
      "execution_count": 97,
      "outputs": []
    },
    {
      "cell_type": "code",
      "source": [
        "w2v_resume = []\n",
        "# used tqdm to print progress bar\n",
        "for sentence in tqdm(data_feature2.processed_resume.values):\n",
        "    # get and append sentence vectors\n",
        "    w2v_resume.append(getAverageWord2Vec(sentence))\n",
        "# convert to numpy array\n",
        "w2v_resume = np.array(w2v_resume)"
      ],
      "metadata": {
        "colab": {
          "base_uri": "https://localhost:8080/"
        },
        "id": "4H6Ue4Z9_pct",
        "outputId": "dece55db-8722-44dc-9945-c7b3abf223e4"
      },
      "execution_count": 98,
      "outputs": [
        {
          "output_type": "stream",
          "name": "stderr",
          "text": [
            "100%|██████████| 90/90 [00:09<00:00,  9.03it/s]\n"
          ]
        }
      ]
    },
    {
      "cell_type": "code",
      "source": [
        "print(w2v_resume.shape)"
      ],
      "metadata": {
        "colab": {
          "base_uri": "https://localhost:8080/"
        },
        "id": "vlxaQw1z_x47",
        "outputId": "7000ec42-695b-4a1a-9a07-e710867357f3"
      },
      "execution_count": 99,
      "outputs": [
        {
          "output_type": "stream",
          "name": "stdout",
          "text": [
            "(90, 300)\n"
          ]
        }
      ]
    },
    {
      "cell_type": "code",
      "source": [
        "with open('w2v_resume.npy', 'wb') as f:\n",
        "    np.save(f, w2v_resume, allow_pickle=True)"
      ],
      "metadata": {
        "id": "tFpGaSGt_2bJ"
      },
      "execution_count": 100,
      "outputs": []
    },
    {
      "cell_type": "code",
      "source": [
        "w2v_jd = []\n",
        "for sentence in tqdm(data_feature2.job_description.values):\n",
        "    # get and append sentence vectors\n",
        "    w2v_jd.append(getAverageWord2Vec(sentence))\n",
        "# convert to numpy array\n",
        "w2v_jd = np.array(w2v_jd)"
      ],
      "metadata": {
        "colab": {
          "base_uri": "https://localhost:8080/"
        },
        "id": "FjxABwqC_53g",
        "outputId": "a7de8ff1-daa6-40fd-991c-69dfdf6944cd"
      },
      "execution_count": 101,
      "outputs": [
        {
          "output_type": "stream",
          "name": "stderr",
          "text": [
            "100%|██████████| 90/90 [00:14<00:00,  6.25it/s]\n"
          ]
        }
      ]
    },
    {
      "cell_type": "code",
      "source": [
        "print(w2v_jd.shape)"
      ],
      "metadata": {
        "colab": {
          "base_uri": "https://localhost:8080/"
        },
        "id": "bMILYUG5AEyI",
        "outputId": "1e5d798b-3086-4889-fcb6-698399b069de"
      },
      "execution_count": 102,
      "outputs": [
        {
          "output_type": "stream",
          "name": "stdout",
          "text": [
            "(90, 300)\n"
          ]
        }
      ]
    },
    {
      "cell_type": "code",
      "source": [
        "# save w2v_resume to file\n",
        "with open('w2v_resume.npy', 'wb') as f:\n",
        "    np.save(f, w2v_resume, allow_pickle=True)"
      ],
      "metadata": {
        "id": "fbF7p0ngAGvP"
      },
      "execution_count": 103,
      "outputs": []
    },
    {
      "cell_type": "code",
      "source": [
        "w2v_jd = []\n",
        "for sentence in tqdm(data_feature2.job_description.values):\n",
        "    # get and append sentence vectors\n",
        "    w2v_jd.append(getAverageWord2Vec(sentence))\n",
        "# convert to numpy array\n",
        "w2v_jd = np.array(w2v_jd)"
      ],
      "metadata": {
        "colab": {
          "base_uri": "https://localhost:8080/"
        },
        "id": "R3aPSq5CAKIM",
        "outputId": "dc68b89d-6061-4518-e10f-7c5f3d431373"
      },
      "execution_count": 104,
      "outputs": [
        {
          "output_type": "stream",
          "name": "stderr",
          "text": [
            "100%|██████████| 90/90 [00:14<00:00,  6.05it/s]\n"
          ]
        }
      ]
    },
    {
      "cell_type": "code",
      "source": [
        "with open('w2v_jd.npy', 'wb') as f:\n",
        "    np.save(f, w2v_jd, allow_pickle=True)"
      ],
      "metadata": {
        "id": "NCDzlPvwAOTP"
      },
      "execution_count": 105,
      "outputs": []
    },
    {
      "cell_type": "code",
      "source": [
        "cosine_euclidean_data = np.array([cosine_euclidean(w2v_jd[i], w2v_resume[i]) for i in range(len(w2v_resume))])\n",
        "data_feature2[[\"cosine_similarity\", \"euclidean_distance\"]] = cosine_euclidean_data"
      ],
      "metadata": {
        "id": "WuZlOK--ARJY"
      },
      "execution_count": 106,
      "outputs": []
    },
    {
      "cell_type": "code",
      "source": [
        "data_feature2.to_csv('data_feature2.csv', index=False)"
      ],
      "metadata": {
        "id": "D0PR-6_QAVno"
      },
      "execution_count": 107,
      "outputs": []
    },
    {
      "cell_type": "code",
      "source": [
        "data_feature = pd.read_csv('/content/data_feature2.csv')"
      ],
      "metadata": {
        "id": "fUKKab6rAbA8"
      },
      "execution_count": 108,
      "outputs": []
    },
    {
      "cell_type": "code",
      "source": [
        "data_feature.head(2)"
      ],
      "metadata": {
        "colab": {
          "base_uri": "https://localhost:8080/",
          "height": 280
        },
        "id": "q_QjEBjWAqNp",
        "outputId": "ede493bf-24b7-4b1e-fe09-e51ade17ad67"
      },
      "execution_count": 109,
      "outputs": [
        {
          "output_type": "execute_result",
          "data": {
            "text/plain": [
              "                                     job_description  \\\n",
              "0  machine learning engineering 13585abc knowledg...   \n",
              "1  machine learning engineering 13585abc knowledg...   \n",
              "\n",
              "                                    processed_resume  match_percentage  \\\n",
              "0  liamandrews fresher executive work experience ...             13.60   \n",
              "1  ellie mackey fresher intern executive profile ...             36.63   \n",
              "\n",
              "   resume_word_num  total_unique_word_num  common_word_num  common_word_ratio  \\\n",
              "0               86                    191               13           0.068063   \n",
              "1               84                    180               27           0.150000   \n",
              "\n",
              "   common_word_ratio_min  common_word_ratio_max  fuzz_ratio  \\\n",
              "0               0.183099               0.097744          86   \n",
              "1               0.364865               0.203008          86   \n",
              "\n",
              "   fuzz_partial_ratio  fuzz_token_set_ratio  fuzz_token_sort_ratio  \\\n",
              "0                   2                    32                      1   \n",
              "1                  13                    55                      3   \n",
              "\n",
              "   is_fresher  from_reputed_college  cosine_similarity  euclidean_distance  \n",
              "0           1                     1           0.894413            0.441374  \n",
              "1           1                     0           0.901773            0.422274  "
            ],
            "text/html": [
              "\n",
              "  <div id=\"df-557ec54a-8553-4b03-9002-e4347929391a\">\n",
              "    <div class=\"colab-df-container\">\n",
              "      <div>\n",
              "<style scoped>\n",
              "    .dataframe tbody tr th:only-of-type {\n",
              "        vertical-align: middle;\n",
              "    }\n",
              "\n",
              "    .dataframe tbody tr th {\n",
              "        vertical-align: top;\n",
              "    }\n",
              "\n",
              "    .dataframe thead th {\n",
              "        text-align: right;\n",
              "    }\n",
              "</style>\n",
              "<table border=\"1\" class=\"dataframe\">\n",
              "  <thead>\n",
              "    <tr style=\"text-align: right;\">\n",
              "      <th></th>\n",
              "      <th>job_description</th>\n",
              "      <th>processed_resume</th>\n",
              "      <th>match_percentage</th>\n",
              "      <th>resume_word_num</th>\n",
              "      <th>total_unique_word_num</th>\n",
              "      <th>common_word_num</th>\n",
              "      <th>common_word_ratio</th>\n",
              "      <th>common_word_ratio_min</th>\n",
              "      <th>common_word_ratio_max</th>\n",
              "      <th>fuzz_ratio</th>\n",
              "      <th>fuzz_partial_ratio</th>\n",
              "      <th>fuzz_token_set_ratio</th>\n",
              "      <th>fuzz_token_sort_ratio</th>\n",
              "      <th>is_fresher</th>\n",
              "      <th>from_reputed_college</th>\n",
              "      <th>cosine_similarity</th>\n",
              "      <th>euclidean_distance</th>\n",
              "    </tr>\n",
              "  </thead>\n",
              "  <tbody>\n",
              "    <tr>\n",
              "      <th>0</th>\n",
              "      <td>machine learning engineering 13585abc knowledg...</td>\n",
              "      <td>liamandrews fresher executive work experience ...</td>\n",
              "      <td>13.60</td>\n",
              "      <td>86</td>\n",
              "      <td>191</td>\n",
              "      <td>13</td>\n",
              "      <td>0.068063</td>\n",
              "      <td>0.183099</td>\n",
              "      <td>0.097744</td>\n",
              "      <td>86</td>\n",
              "      <td>2</td>\n",
              "      <td>32</td>\n",
              "      <td>1</td>\n",
              "      <td>1</td>\n",
              "      <td>1</td>\n",
              "      <td>0.894413</td>\n",
              "      <td>0.441374</td>\n",
              "    </tr>\n",
              "    <tr>\n",
              "      <th>1</th>\n",
              "      <td>machine learning engineering 13585abc knowledg...</td>\n",
              "      <td>ellie mackey fresher intern executive profile ...</td>\n",
              "      <td>36.63</td>\n",
              "      <td>84</td>\n",
              "      <td>180</td>\n",
              "      <td>27</td>\n",
              "      <td>0.150000</td>\n",
              "      <td>0.364865</td>\n",
              "      <td>0.203008</td>\n",
              "      <td>86</td>\n",
              "      <td>13</td>\n",
              "      <td>55</td>\n",
              "      <td>3</td>\n",
              "      <td>1</td>\n",
              "      <td>0</td>\n",
              "      <td>0.901773</td>\n",
              "      <td>0.422274</td>\n",
              "    </tr>\n",
              "  </tbody>\n",
              "</table>\n",
              "</div>\n",
              "      <button class=\"colab-df-convert\" onclick=\"convertToInteractive('df-557ec54a-8553-4b03-9002-e4347929391a')\"\n",
              "              title=\"Convert this dataframe to an interactive table.\"\n",
              "              style=\"display:none;\">\n",
              "        \n",
              "  <svg xmlns=\"http://www.w3.org/2000/svg\" height=\"24px\"viewBox=\"0 0 24 24\"\n",
              "       width=\"24px\">\n",
              "    <path d=\"M0 0h24v24H0V0z\" fill=\"none\"/>\n",
              "    <path d=\"M18.56 5.44l.94 2.06.94-2.06 2.06-.94-2.06-.94-.94-2.06-.94 2.06-2.06.94zm-11 1L8.5 8.5l.94-2.06 2.06-.94-2.06-.94L8.5 2.5l-.94 2.06-2.06.94zm10 10l.94 2.06.94-2.06 2.06-.94-2.06-.94-.94-2.06-.94 2.06-2.06.94z\"/><path d=\"M17.41 7.96l-1.37-1.37c-.4-.4-.92-.59-1.43-.59-.52 0-1.04.2-1.43.59L10.3 9.45l-7.72 7.72c-.78.78-.78 2.05 0 2.83L4 21.41c.39.39.9.59 1.41.59.51 0 1.02-.2 1.41-.59l7.78-7.78 2.81-2.81c.8-.78.8-2.07 0-2.86zM5.41 20L4 18.59l7.72-7.72 1.47 1.35L5.41 20z\"/>\n",
              "  </svg>\n",
              "      </button>\n",
              "      \n",
              "  <style>\n",
              "    .colab-df-container {\n",
              "      display:flex;\n",
              "      flex-wrap:wrap;\n",
              "      gap: 12px;\n",
              "    }\n",
              "\n",
              "    .colab-df-convert {\n",
              "      background-color: #E8F0FE;\n",
              "      border: none;\n",
              "      border-radius: 50%;\n",
              "      cursor: pointer;\n",
              "      display: none;\n",
              "      fill: #1967D2;\n",
              "      height: 32px;\n",
              "      padding: 0 0 0 0;\n",
              "      width: 32px;\n",
              "    }\n",
              "\n",
              "    .colab-df-convert:hover {\n",
              "      background-color: #E2EBFA;\n",
              "      box-shadow: 0px 1px 2px rgba(60, 64, 67, 0.3), 0px 1px 3px 1px rgba(60, 64, 67, 0.15);\n",
              "      fill: #174EA6;\n",
              "    }\n",
              "\n",
              "    [theme=dark] .colab-df-convert {\n",
              "      background-color: #3B4455;\n",
              "      fill: #D2E3FC;\n",
              "    }\n",
              "\n",
              "    [theme=dark] .colab-df-convert:hover {\n",
              "      background-color: #434B5C;\n",
              "      box-shadow: 0px 1px 3px 1px rgba(0, 0, 0, 0.15);\n",
              "      filter: drop-shadow(0px 1px 2px rgba(0, 0, 0, 0.3));\n",
              "      fill: #FFFFFF;\n",
              "    }\n",
              "  </style>\n",
              "\n",
              "      <script>\n",
              "        const buttonEl =\n",
              "          document.querySelector('#df-557ec54a-8553-4b03-9002-e4347929391a button.colab-df-convert');\n",
              "        buttonEl.style.display =\n",
              "          google.colab.kernel.accessAllowed ? 'block' : 'none';\n",
              "\n",
              "        async function convertToInteractive(key) {\n",
              "          const element = document.querySelector('#df-557ec54a-8553-4b03-9002-e4347929391a');\n",
              "          const dataTable =\n",
              "            await google.colab.kernel.invokeFunction('convertToInteractive',\n",
              "                                                     [key], {});\n",
              "          if (!dataTable) return;\n",
              "\n",
              "          const docLinkHtml = 'Like what you see? Visit the ' +\n",
              "            '<a target=\"_blank\" href=https://colab.research.google.com/notebooks/data_table.ipynb>data table notebook</a>'\n",
              "            + ' to learn more about interactive tables.';\n",
              "          element.innerHTML = '';\n",
              "          dataTable['output_type'] = 'display_data';\n",
              "          await google.colab.output.renderOutput(dataTable, element);\n",
              "          const docLink = document.createElement('div');\n",
              "          docLink.innerHTML = docLinkHtml;\n",
              "          element.appendChild(docLink);\n",
              "        }\n",
              "      </script>\n",
              "    </div>\n",
              "  </div>\n",
              "  "
            ]
          },
          "metadata": {},
          "execution_count": 109
        }
      ]
    },
    {
      "cell_type": "code",
      "source": [
        "with open('w2v_resume.npy', 'rb') as f:\n",
        "    w2v_resume = np.load(f, allow_pickle=True)"
      ],
      "metadata": {
        "id": "5UFIhVQV-pPX"
      },
      "execution_count": 110,
      "outputs": []
    },
    {
      "cell_type": "code",
      "source": [
        "with open('w2v_jd.npy', 'rb') as f:\n",
        "    w2v_jd = np.load(f, allow_pickle=True)"
      ],
      "metadata": {
        "id": "09SacNR_At-m"
      },
      "execution_count": 111,
      "outputs": []
    },
    {
      "cell_type": "code",
      "source": [
        "# create output variable\n",
        "y_w2v = data_feature.match_percentage"
      ],
      "metadata": {
        "id": "Fq45ITvsAwJP"
      },
      "execution_count": 112,
      "outputs": []
    },
    {
      "cell_type": "code",
      "source": [
        "y_w2v = data_feature.match_percentage"
      ],
      "metadata": {
        "id": "8BHyxWu0-zNF"
      },
      "execution_count": 113,
      "outputs": []
    },
    {
      "cell_type": "code",
      "source": [
        "X_w2v_1 = data_feature.drop(columns=['job_description', 'processed_resume', 'match_percentage'])\n",
        "X_w2v_1.head(3)\n",
        "X_w2v_2 = pd.DataFrame(w2v_jd, columns=['w2v_jd_'+str(i) for i in range(1, w2v_jd.shape[1]+1)])\n",
        "X_w2v_2.head(3)"
      ],
      "metadata": {
        "colab": {
          "base_uri": "https://localhost:8080/",
          "height": 236
        },
        "id": "ceQ-V5zA-09t",
        "outputId": "7a27763b-13e0-433e-c40a-b91ab32ec3c5"
      },
      "execution_count": 114,
      "outputs": [
        {
          "output_type": "execute_result",
          "data": {
            "text/plain": [
              "   w2v_jd_1  w2v_jd_2  w2v_jd_3  w2v_jd_4  w2v_jd_5  w2v_jd_6  w2v_jd_7  \\\n",
              "0  0.004312  0.015603  0.020006  0.078683 -0.039103  0.039506  0.065293   \n",
              "1  0.004312  0.015603  0.020006  0.078683 -0.039103  0.039506  0.065293   \n",
              "2  0.004312  0.015603  0.020006  0.078683 -0.039103  0.039506  0.065293   \n",
              "\n",
              "   w2v_jd_8  w2v_jd_9  w2v_jd_10  ...  w2v_jd_291  w2v_jd_292  w2v_jd_293  \\\n",
              "0 -0.099928  0.061366    0.03046  ...   -0.134396    0.054946   -0.084404   \n",
              "1 -0.099928  0.061366    0.03046  ...   -0.134396    0.054946   -0.084404   \n",
              "2 -0.099928  0.061366    0.03046  ...   -0.134396    0.054946   -0.084404   \n",
              "\n",
              "   w2v_jd_294  w2v_jd_295  w2v_jd_296  w2v_jd_297  w2v_jd_298  w2v_jd_299  \\\n",
              "0    0.014459   -0.023068    0.005727    0.041744   -0.032325    -0.01288   \n",
              "1    0.014459   -0.023068    0.005727    0.041744   -0.032325    -0.01288   \n",
              "2    0.014459   -0.023068    0.005727    0.041744   -0.032325    -0.01288   \n",
              "\n",
              "   w2v_jd_300  \n",
              "0    0.018934  \n",
              "1    0.018934  \n",
              "2    0.018934  \n",
              "\n",
              "[3 rows x 300 columns]"
            ],
            "text/html": [
              "\n",
              "  <div id=\"df-89fb22d1-37fc-4abe-b51e-d2f796c0e354\">\n",
              "    <div class=\"colab-df-container\">\n",
              "      <div>\n",
              "<style scoped>\n",
              "    .dataframe tbody tr th:only-of-type {\n",
              "        vertical-align: middle;\n",
              "    }\n",
              "\n",
              "    .dataframe tbody tr th {\n",
              "        vertical-align: top;\n",
              "    }\n",
              "\n",
              "    .dataframe thead th {\n",
              "        text-align: right;\n",
              "    }\n",
              "</style>\n",
              "<table border=\"1\" class=\"dataframe\">\n",
              "  <thead>\n",
              "    <tr style=\"text-align: right;\">\n",
              "      <th></th>\n",
              "      <th>w2v_jd_1</th>\n",
              "      <th>w2v_jd_2</th>\n",
              "      <th>w2v_jd_3</th>\n",
              "      <th>w2v_jd_4</th>\n",
              "      <th>w2v_jd_5</th>\n",
              "      <th>w2v_jd_6</th>\n",
              "      <th>w2v_jd_7</th>\n",
              "      <th>w2v_jd_8</th>\n",
              "      <th>w2v_jd_9</th>\n",
              "      <th>w2v_jd_10</th>\n",
              "      <th>...</th>\n",
              "      <th>w2v_jd_291</th>\n",
              "      <th>w2v_jd_292</th>\n",
              "      <th>w2v_jd_293</th>\n",
              "      <th>w2v_jd_294</th>\n",
              "      <th>w2v_jd_295</th>\n",
              "      <th>w2v_jd_296</th>\n",
              "      <th>w2v_jd_297</th>\n",
              "      <th>w2v_jd_298</th>\n",
              "      <th>w2v_jd_299</th>\n",
              "      <th>w2v_jd_300</th>\n",
              "    </tr>\n",
              "  </thead>\n",
              "  <tbody>\n",
              "    <tr>\n",
              "      <th>0</th>\n",
              "      <td>0.004312</td>\n",
              "      <td>0.015603</td>\n",
              "      <td>0.020006</td>\n",
              "      <td>0.078683</td>\n",
              "      <td>-0.039103</td>\n",
              "      <td>0.039506</td>\n",
              "      <td>0.065293</td>\n",
              "      <td>-0.099928</td>\n",
              "      <td>0.061366</td>\n",
              "      <td>0.03046</td>\n",
              "      <td>...</td>\n",
              "      <td>-0.134396</td>\n",
              "      <td>0.054946</td>\n",
              "      <td>-0.084404</td>\n",
              "      <td>0.014459</td>\n",
              "      <td>-0.023068</td>\n",
              "      <td>0.005727</td>\n",
              "      <td>0.041744</td>\n",
              "      <td>-0.032325</td>\n",
              "      <td>-0.01288</td>\n",
              "      <td>0.018934</td>\n",
              "    </tr>\n",
              "    <tr>\n",
              "      <th>1</th>\n",
              "      <td>0.004312</td>\n",
              "      <td>0.015603</td>\n",
              "      <td>0.020006</td>\n",
              "      <td>0.078683</td>\n",
              "      <td>-0.039103</td>\n",
              "      <td>0.039506</td>\n",
              "      <td>0.065293</td>\n",
              "      <td>-0.099928</td>\n",
              "      <td>0.061366</td>\n",
              "      <td>0.03046</td>\n",
              "      <td>...</td>\n",
              "      <td>-0.134396</td>\n",
              "      <td>0.054946</td>\n",
              "      <td>-0.084404</td>\n",
              "      <td>0.014459</td>\n",
              "      <td>-0.023068</td>\n",
              "      <td>0.005727</td>\n",
              "      <td>0.041744</td>\n",
              "      <td>-0.032325</td>\n",
              "      <td>-0.01288</td>\n",
              "      <td>0.018934</td>\n",
              "    </tr>\n",
              "    <tr>\n",
              "      <th>2</th>\n",
              "      <td>0.004312</td>\n",
              "      <td>0.015603</td>\n",
              "      <td>0.020006</td>\n",
              "      <td>0.078683</td>\n",
              "      <td>-0.039103</td>\n",
              "      <td>0.039506</td>\n",
              "      <td>0.065293</td>\n",
              "      <td>-0.099928</td>\n",
              "      <td>0.061366</td>\n",
              "      <td>0.03046</td>\n",
              "      <td>...</td>\n",
              "      <td>-0.134396</td>\n",
              "      <td>0.054946</td>\n",
              "      <td>-0.084404</td>\n",
              "      <td>0.014459</td>\n",
              "      <td>-0.023068</td>\n",
              "      <td>0.005727</td>\n",
              "      <td>0.041744</td>\n",
              "      <td>-0.032325</td>\n",
              "      <td>-0.01288</td>\n",
              "      <td>0.018934</td>\n",
              "    </tr>\n",
              "  </tbody>\n",
              "</table>\n",
              "<p>3 rows × 300 columns</p>\n",
              "</div>\n",
              "      <button class=\"colab-df-convert\" onclick=\"convertToInteractive('df-89fb22d1-37fc-4abe-b51e-d2f796c0e354')\"\n",
              "              title=\"Convert this dataframe to an interactive table.\"\n",
              "              style=\"display:none;\">\n",
              "        \n",
              "  <svg xmlns=\"http://www.w3.org/2000/svg\" height=\"24px\"viewBox=\"0 0 24 24\"\n",
              "       width=\"24px\">\n",
              "    <path d=\"M0 0h24v24H0V0z\" fill=\"none\"/>\n",
              "    <path d=\"M18.56 5.44l.94 2.06.94-2.06 2.06-.94-2.06-.94-.94-2.06-.94 2.06-2.06.94zm-11 1L8.5 8.5l.94-2.06 2.06-.94-2.06-.94L8.5 2.5l-.94 2.06-2.06.94zm10 10l.94 2.06.94-2.06 2.06-.94-2.06-.94-.94-2.06-.94 2.06-2.06.94z\"/><path d=\"M17.41 7.96l-1.37-1.37c-.4-.4-.92-.59-1.43-.59-.52 0-1.04.2-1.43.59L10.3 9.45l-7.72 7.72c-.78.78-.78 2.05 0 2.83L4 21.41c.39.39.9.59 1.41.59.51 0 1.02-.2 1.41-.59l7.78-7.78 2.81-2.81c.8-.78.8-2.07 0-2.86zM5.41 20L4 18.59l7.72-7.72 1.47 1.35L5.41 20z\"/>\n",
              "  </svg>\n",
              "      </button>\n",
              "      \n",
              "  <style>\n",
              "    .colab-df-container {\n",
              "      display:flex;\n",
              "      flex-wrap:wrap;\n",
              "      gap: 12px;\n",
              "    }\n",
              "\n",
              "    .colab-df-convert {\n",
              "      background-color: #E8F0FE;\n",
              "      border: none;\n",
              "      border-radius: 50%;\n",
              "      cursor: pointer;\n",
              "      display: none;\n",
              "      fill: #1967D2;\n",
              "      height: 32px;\n",
              "      padding: 0 0 0 0;\n",
              "      width: 32px;\n",
              "    }\n",
              "\n",
              "    .colab-df-convert:hover {\n",
              "      background-color: #E2EBFA;\n",
              "      box-shadow: 0px 1px 2px rgba(60, 64, 67, 0.3), 0px 1px 3px 1px rgba(60, 64, 67, 0.15);\n",
              "      fill: #174EA6;\n",
              "    }\n",
              "\n",
              "    [theme=dark] .colab-df-convert {\n",
              "      background-color: #3B4455;\n",
              "      fill: #D2E3FC;\n",
              "    }\n",
              "\n",
              "    [theme=dark] .colab-df-convert:hover {\n",
              "      background-color: #434B5C;\n",
              "      box-shadow: 0px 1px 3px 1px rgba(0, 0, 0, 0.15);\n",
              "      filter: drop-shadow(0px 1px 2px rgba(0, 0, 0, 0.3));\n",
              "      fill: #FFFFFF;\n",
              "    }\n",
              "  </style>\n",
              "\n",
              "      <script>\n",
              "        const buttonEl =\n",
              "          document.querySelector('#df-89fb22d1-37fc-4abe-b51e-d2f796c0e354 button.colab-df-convert');\n",
              "        buttonEl.style.display =\n",
              "          google.colab.kernel.accessAllowed ? 'block' : 'none';\n",
              "\n",
              "        async function convertToInteractive(key) {\n",
              "          const element = document.querySelector('#df-89fb22d1-37fc-4abe-b51e-d2f796c0e354');\n",
              "          const dataTable =\n",
              "            await google.colab.kernel.invokeFunction('convertToInteractive',\n",
              "                                                     [key], {});\n",
              "          if (!dataTable) return;\n",
              "\n",
              "          const docLinkHtml = 'Like what you see? Visit the ' +\n",
              "            '<a target=\"_blank\" href=https://colab.research.google.com/notebooks/data_table.ipynb>data table notebook</a>'\n",
              "            + ' to learn more about interactive tables.';\n",
              "          element.innerHTML = '';\n",
              "          dataTable['output_type'] = 'display_data';\n",
              "          await google.colab.output.renderOutput(dataTable, element);\n",
              "          const docLink = document.createElement('div');\n",
              "          docLink.innerHTML = docLinkHtml;\n",
              "          element.appendChild(docLink);\n",
              "        }\n",
              "      </script>\n",
              "    </div>\n",
              "  </div>\n",
              "  "
            ]
          },
          "metadata": {},
          "execution_count": 114
        }
      ]
    },
    {
      "cell_type": "code",
      "source": [
        "X_w2v_3 = pd.DataFrame(w2v_resume, columns=['w2v_resume_'+str(i) for i in range(1, w2v_resume.shape[1]+1)])"
      ],
      "metadata": {
        "id": "hfX_sCVAA_ju"
      },
      "execution_count": 115,
      "outputs": []
    },
    {
      "cell_type": "code",
      "source": [
        "X_w2v = pd.concat([X_w2v_1, X_w2v_2, X_w2v_3], axis=1)"
      ],
      "metadata": {
        "id": "noohCGts-3ha"
      },
      "execution_count": 116,
      "outputs": []
    },
    {
      "cell_type": "code",
      "source": [
        "y_w2v = y_w2v.to_numpy()\n",
        "X_train_w2v, X_test_w2v, y_train_w2v, y_test_w2v = train_test_split(X_w2v, y_w2v, test_size=0.30, random_state=1)"
      ],
      "metadata": {
        "id": "Mk_GSKpu-8ul"
      },
      "execution_count": 117,
      "outputs": []
    },
    {
      "cell_type": "code",
      "source": [
        "train_indices = X_train_w2v.index\n",
        "test_indices = X_test_w2v.index"
      ],
      "metadata": {
        "id": "syDbvsT5BHYH"
      },
      "execution_count": 118,
      "outputs": []
    },
    {
      "cell_type": "code",
      "source": [
        "with open('selected_features2.npy', 'rb') as f:\n",
        "    features = np.load(f, allow_pickle=True)"
      ],
      "metadata": {
        "id": "fjwEX53LDYDm"
      },
      "execution_count": 119,
      "outputs": []
    },
    {
      "cell_type": "code",
      "source": [
        "X_w2v = X_w2v[features]"
      ],
      "metadata": {
        "id": "PjshkyDzDbGW"
      },
      "execution_count": 120,
      "outputs": []
    },
    {
      "cell_type": "code",
      "source": [
        "X_train_w2v, X_test_w2v, y_train_w2v, y_test_w2v = train_test_split(X_w2v, y_w2v, test_size=0.30, random_state=1)"
      ],
      "metadata": {
        "id": "lwIfZRKoDelE"
      },
      "execution_count": 121,
      "outputs": []
    },
    {
      "cell_type": "code",
      "source": [
        "scaler3.fit(X_train_w2v)\n",
        "X_train_w2v = scaler3.transform(X_train_w2v)\n",
        "X_test_w2v = scaler3.transform(X_test_w2v)"
      ],
      "metadata": {
        "id": "dLu093zKBJ7l"
      },
      "execution_count": 127,
      "outputs": []
    },
    {
      "cell_type": "code",
      "source": [
        "y_train_w2v.shape"
      ],
      "metadata": {
        "colab": {
          "base_uri": "https://localhost:8080/"
        },
        "id": "ja_R4JlpDnn5",
        "outputId": "a755767e-2893-4fb5-f5bc-0bfe61460b5e"
      },
      "execution_count": 128,
      "outputs": [
        {
          "output_type": "execute_result",
          "data": {
            "text/plain": [
              "(63,)"
            ]
          },
          "metadata": {},
          "execution_count": 128
        }
      ]
    },
    {
      "cell_type": "code",
      "source": [
        "def objective(space):\n",
        "    '''objective function for hyper param tuning'''\n",
        "    # 3 fold cross validation\n",
        "    kf = KFold(n_splits=3)\n",
        "    mselosses = []\n",
        "    # k fold cross validation\n",
        "    for train_index, cv_index in kf.split(X_train_w2v):\n",
        "        # split input data\n",
        "        X_train, X_cv = X_train_w2v[train_index], X_train_w2v[cv_index]\n",
        "        # split output data\n",
        "        y_train, y_cv = y_train_w2v[train_index], y_train_w2v[cv_index]\n",
        "        # create KNeighborsRegressor\n",
        "        model = KNeighborsRegressor(n_neighbors=space['n_neighbors'], metric=space['metric'])\n",
        "        # train the model\n",
        "        model.fit(X_train, y_train)\n",
        "        cv_pred = model.predict(X_cv)\n",
        "        tempmseloss = mse(y_cv, cv_pred)\n",
        "        mselosses.append(tempmseloss)\n",
        "        \n",
        "    # calculate mse\n",
        "    mseloss = sum(mselosses)/len(mselosses)\n",
        "    # return params\n",
        "    return {'loss':mseloss, 'status': STATUS_OK, 'params': space }"
      ],
      "metadata": {
        "id": "_VvJYN2v6TLt"
      },
      "execution_count": 129,
      "outputs": []
    },
    {
      "cell_type": "code",
      "source": [
        "space = {\n",
        "    \"n_neighbors\": hp.choice(\"n_neighbors\", [3, 5, 7]),\n",
        "    \"metric\": hp.choice(\"metric\", ['euclidean', 'cosine'])\n",
        "}"
      ],
      "metadata": {
        "id": "7TpBQR0A3dXe"
      },
      "execution_count": 131,
      "outputs": []
    },
    {
      "cell_type": "code",
      "source": [
        "from hyperopt import hp, tpe, fmin, Trials\n",
        "from sklearn.model_selection import KFold\n",
        "\n",
        "trials = Trials()\n",
        "# minimise the objective function with max 300 trials\n",
        "best_param = fmin(fn=objective,\n",
        "            space=space,\n",
        "            algo=tpe.suggest,\n",
        "            max_evals=300,\n",
        "            trials=trials)\n"
      ],
      "metadata": {
        "colab": {
          "base_uri": "https://localhost:8080/"
        },
        "id": "xA8ibuVv3heW",
        "outputId": "48f62697-1ce1-4d14-e9a6-559d945be179"
      },
      "execution_count": 132,
      "outputs": [
        {
          "output_type": "stream",
          "name": "stdout",
          "text": [
            "100%|██████████| 300/300 [00:02<00:00, 127.09trial/s, best loss: 160.41720260317462]\n"
          ]
        }
      ]
    },
    {
      "cell_type": "code",
      "source": [
        "print(best_param)"
      ],
      "metadata": {
        "colab": {
          "base_uri": "https://localhost:8080/"
        },
        "id": "Od0QdhAc3oWK",
        "outputId": "f6925a89-b2e6-433a-8a7d-4c65dc0de98e"
      },
      "execution_count": 133,
      "outputs": [
        {
          "output_type": "stream",
          "name": "stdout",
          "text": [
            "{'metric': 1, 'n_neighbors': 1}\n"
          ]
        }
      ]
    },
    {
      "cell_type": "code",
      "source": [
        "knn_model = KNeighborsRegressor(n_neighbors=7, metric='cosine')"
      ],
      "metadata": {
        "id": "VVQLnRqO74VR"
      },
      "execution_count": 134,
      "outputs": []
    },
    {
      "cell_type": "code",
      "source": [
        "knn_model.fit(X_train_w2v, y_train_w2v)"
      ],
      "metadata": {
        "colab": {
          "base_uri": "https://localhost:8080/"
        },
        "id": "aUCwY1St77MR",
        "outputId": "b952a61b-4533-4abc-933d-00047b796f5c"
      },
      "execution_count": 135,
      "outputs": [
        {
          "output_type": "execute_result",
          "data": {
            "text/plain": [
              "KNeighborsRegressor(metric='cosine', n_neighbors=7)"
            ]
          },
          "metadata": {},
          "execution_count": 135
        }
      ]
    },
    {
      "cell_type": "code",
      "source": [
        "test_errors = showErrors(knn_model, X_train_w2v, y_train_w2v, X_test_w2v, y_test_w2v)"
      ],
      "metadata": {
        "colab": {
          "base_uri": "https://localhost:8080/",
          "height": 1000
        },
        "id": "ZbELx8D9791q",
        "outputId": "e0a98e7f-3ee2-4ba6-c683-d3f8d50186fe"
      },
      "execution_count": 136,
      "outputs": [
        {
          "output_type": "stream",
          "name": "stdout",
          "text": [
            "\n",
            " ========== Train Errors ========== \n",
            "\n",
            "MSE on train data => 83.54998671849692\n",
            "R-squared on train data => 0.6813703624566436\n"
          ]
        },
        {
          "output_type": "display_data",
          "data": {
            "text/plain": [
              "<Figure size 640x480 with 1 Axes>"
            ],
            "image/png": "[encoded data removed]"
          },
          "metadata": {}
        },
        {
          "output_type": "stream",
          "name": "stdout",
          "text": [
            "\n",
            " ========== Test Errors ========== \n",
            "\n",
            "MSE on test data => 71.26504142101287\n",
            "R-squared on test data => 0.6971721004492211\n"
          ]
        },
        {
          "output_type": "display_data",
          "data": {
            "text/plain": [
              "<Figure size 640x480 with 1 Axes>"
            ],
            "image/png": "[encoded data removed]"
          },
          "metadata": {}
        }
      ]
    },
    {
      "cell_type": "code",
      "source": [
        "res= pdf2Text('/content/drive/MyDrive/Colab Notebooks/DATASET/dataset/trainResumes/candidate_015.pdf')\n",
        "print(res)"
      ],
      "metadata": {
        "colab": {
          "base_uri": "https://localhost:8080/"
        },
        "id": "4V9NLh_jB-9G",
        "outputId": "b269202a-69c9-4dc3-b1c4-203f03424667"
      },
      "execution_count": 224,
      "outputs": [
        {
          "output_type": "stream",
          "name": "stdout",
          "text": [
            "John Allen\n",
            "BUSINESS ANALYST\n",
            "Executive Profile Work Experience\n",
            "I am a business analytics fresher with a JVV IT Solutions\n",
            "background in management and Business Analyst, Feb 2020 - till date\n",
            "corporate analysis. I am currently looking\n",
            "for an opportunity as a Data Science or Using Strategic Business Approach to enhance the quality of service\n",
            "Machine Learning Engineer. between different vendors for an easier transition and product\n",
            "exchanges for bigger projects.\n",
            "Skills\n",
            "Education\n",
            "Business analyst, Data modeling, Business\n",
            "intelligence, ERP implementation, html, :BBA (Management) from SP University in 2018\n",
            "Requirement Gathering, Power Bi, Project MBA(Information Technology) from SP UNIVERSITY in 2020\n",
            "Management.\n",
            "Other Activities\n",
            "Business Intelligence Contribution Award\n",
            "BBA Injunction Award for Best Performer\n",
            "Projects\n",
            "Intelligent Liaison Methods for Future\n",
            "Business and Production Ready\n",
            "Environments.\n"
          ]
        }
      ]
    },
    {
      "cell_type": "code",
      "source": [
        "res_processed = preprocess_text(res, removeStopWords=True)"
      ],
      "metadata": {
        "id": "fyccv6oA_ik1"
      },
      "execution_count": 225,
      "outputs": []
    },
    {
      "cell_type": "code",
      "source": [
        "data = pd.DataFrame({'job_description': [jd_processed], 'processed_resume': [res_processed]})"
      ],
      "metadata": {
        "id": "-yuC3tmCl5Cp"
      },
      "execution_count": 226,
      "outputs": []
    },
    {
      "cell_type": "code",
      "source": [
        "data_feature = feature_extract(data)\n",
        "data_feature1 = data_feature.copy()\n",
        "data_feature2 = data_feature.copy()"
      ],
      "metadata": {
        "id": "b6Z03jEYs7V3"
      },
      "execution_count": 228,
      "outputs": []
    },
    {
      "cell_type": "code",
      "source": [
        "bow_resume = vectorizer.transform(data_feature.processed_resume.values).toarray()\n",
        "cosine_euclidean_data = np.array([cosine_euclidean(bow_jd[i].astype(float), bow_resume[i].astype(float)) for i in range(len(bow_resume))])\n",
        "data_feature1[[\"cosine_similarity\", \"euclidean_distance\"]] = cosine_euclidean_data"
      ],
      "metadata": {
        "id": "vbZjeaIsl_9k"
      },
      "execution_count": 229,
      "outputs": []
    },
    {
      "cell_type": "code",
      "source": [
        "res_data = pd.DataFrame({'job_description': [res_processed]*len(csvData), 'processed_resume': resumes, 'match_percentage': csvData['Match Percentage']})"
      ],
      "metadata": {
        "id": "udqdAmCwEG3D"
      },
      "execution_count": 230,
      "outputs": []
    },
    {
      "cell_type": "code",
      "source": [
        "data_feature= feature_extract(res_data)\n",
        "data_feature1 = data_feature.copy()\n",
        "data_feature2 = data_feature.copy()\n"
      ],
      "metadata": {
        "id": "ftVg_tr0BcYI"
      },
      "execution_count": 231,
      "outputs": []
    },
    {
      "cell_type": "code",
      "source": [
        "bow_resume = vectorizer.transform(data_feature.processed_resume.values).toarray()"
      ],
      "metadata": {
        "id": "ZWIiZVSWCZ1x"
      },
      "execution_count": 232,
      "outputs": []
    },
    {
      "cell_type": "code",
      "source": [
        "cosine_euclidean_data = np.array([cosine_euclidean(bow_jd[i], bow_resume[i]) for i in range(len(bow_resume))])\n",
        "data_feature1[[\"cosine_similarity\", \"euclidean_distance\"]] = cosine_euclidean_data"
      ],
      "metadata": {
        "id": "10LIyrlfFq2N"
      },
      "execution_count": 233,
      "outputs": []
    },
    {
      "cell_type": "code",
      "source": [
        "bow_resume = vectorizer.transform(data_feature.processed_resume.values).toarray()\n",
        "    # get cosine similarity and euclidean distance features\n",
        "cosine_euclidean_data = np.array([cosine_euclidean(bow_jd[i], bow_resume[i]) for i in range(len(bow_resume))])\n",
        "data_feature1[[\"cosine_similarity\", \"euclidean_distance\"]] = cosine_euclidean_data"
      ],
      "metadata": {
        "id": "2fjmtbWOtV7r"
      },
      "execution_count": 234,
      "outputs": []
    },
    {
      "cell_type": "code",
      "source": [
        "from joblib import load\n",
        "from sklearn.neighbors import DistanceMetric\n",
        "import numpy as np\n",
        "\n",
        "#jd_processed = load('/content/jd_processed.joblib')\n",
        "#bow_jd = np.load('/content/bow_vocab.npy', allow_pickle=True)\n",
        "#vectorizer = load('/content/vectorizer.joblib')\n",
        "w2v_model = load('/content/drive/MyDrive/Colab Notebooks/DATASET/w2v_model.joblib')\n",
        "with open('/content/selected_features1.npy', 'rb') as f:\n",
        "    features1 = np.load(f, allow_pickle=True)\n",
        "\n",
        "w2v_jd = load('/content/w2v_jd.joblib')\n",
        "\n",
        "with open('/content/selected_features2.npy', 'rb') as f:\n",
        "    features2 = np.load(f, allow_pickle=True)\n",
        "\n",
        "scaler1 = load('/content/scaler1.joblib')\n",
        "scaler2 = load('/content/scaler2.joblib')\n",
        "svr_model_linear_1 = load('/content/svr_model_linear_1.joblib')\n",
        "lr_model_2=load('/content/lr_model_2.joblib')\n",
        "#lr_model_2 = load('/content/lr_model_2.joblib')\n"
      ],
      "metadata": {
        "colab": {
          "base_uri": "https://localhost:8080/"
        },
        "id": "1iy7-3I8uhuX",
        "outputId": "7f171381-7511-4ed1-991b-d1869d0277b2"
      },
      "execution_count": 235,
      "outputs": [
        {
          "output_type": "stream",
          "name": "stderr",
          "text": [
            "/usr/local/lib/python3.10/dist-packages/sklearn/base.py:324: UserWarning: Trying to unpickle estimator StandardScaler from version 0.24.2 when using version 1.0. This might lead to breaking code or invalid results. Use at your own risk. For more info please refer to:\n",
            "https://scikit-learn.org/stable/modules/model_persistence.html#security-maintainability-limitations\n",
            "  warnings.warn(\n",
            "/usr/local/lib/python3.10/dist-packages/sklearn/base.py:324: UserWarning: Trying to unpickle estimator SVR from version 0.24.2 when using version 1.0. This might lead to breaking code or invalid results. Use at your own risk. For more info please refer to:\n",
            "https://scikit-learn.org/stable/modules/model_persistence.html#security-maintainability-limitations\n",
            "  warnings.warn(\n",
            "/usr/local/lib/python3.10/dist-packages/sklearn/base.py:324: UserWarning: Trying to unpickle estimator Ridge from version 0.24.2 when using version 1.0. This might lead to breaking code or invalid results. Use at your own risk. For more info please refer to:\n",
            "https://scikit-learn.org/stable/modules/model_persistence.html#security-maintainability-limitations\n",
            "  warnings.warn(\n"
          ]
        }
      ]
    },
    {
      "cell_type": "code",
      "source": [
        "def getAverageWord2Vec(sentence):\n",
        "    w2v_words = list(w2v_model.key_to_index)\n",
        "      # initialize sentence_vector to zeros\n",
        "    sentence_vector = np.zeros(300)\n",
        "    # count words in sentence\n",
        "    count_words = 0\n",
        "    # loop over each word\n",
        "    for word in sentence.split():\n",
        "        # if there is a vector for given word\n",
        "        if word in w2v_words:\n",
        "            # get the vector\n",
        "            vector = w2v_model[word]\n",
        "            # add the vectors\n",
        "            sentence_vector = sentence_vector + vector\n",
        "            # increment count\n",
        "            count_words = count_words + 1\n",
        "    if count_words != 0:\n",
        "        # if the word count is not zero then divide by it to get the average\n",
        "        sentence_vector /= count_words\n",
        "    # return the avg word2vec\n",
        "    return sentence_vector"
      ],
      "metadata": {
        "id": "RaMcq-6lu-b6"
      },
      "execution_count": 238,
      "outputs": []
    },
    {
      "cell_type": "code",
      "source": [
        "def cosine_euclidean(u, v):\n",
        "    return np.array([np.dot(u, v) / (np.linalg.norm(u) * np.linalg.norm(v)), np.linalg.norm(u - v)])"
      ],
      "metadata": {
        "id": "g8EDtfoIwKVh"
      },
      "execution_count": 239,
      "outputs": []
    },
    {
      "cell_type": "code",
      "source": [
        "bow_resume = vectorizer.transform(data_feature.processed_resume.values).toarray()\n",
        "# get cosine similarity and euclidean distance features\n",
        "cosine_euclidean_data = np.array([cosine_euclidean(bow_jd[i], bow_resume[i]) for i in range(len(bow_resume))])\n",
        "data_feature1[[\"cosine_similarity\", \"euclidean_distance\"]] = cosine_euclidean_data"
      ],
      "metadata": {
        "id": "XEwORHKSxaXE"
      },
      "execution_count": 240,
      "outputs": []
    },
    {
      "cell_type": "code",
      "source": [
        "X_bow_1 = data_feature1.drop(columns=['job_description', 'processed_resume'])\n",
        "X_bow_2 = pd.DataFrame(bow_jd, columns=['bow_jd_'+str(i) for i in range(1, bow_jd.shape[1]+1)])\n",
        "X_bow_3 = pd.DataFrame(bow_resume, columns=['bow_resume_'+str(i) for i in range(1, bow_resume.shape[1]+1)])\n",
        "X_bow = pd.concat([X_bow_1, X_bow_2, X_bow_3], axis=1)"
      ],
      "metadata": {
        "id": "uRqghzAzF5yU"
      },
      "execution_count": 241,
      "outputs": []
    },
    {
      "cell_type": "code",
      "source": [
        "X_bow = X_bow[features1]"
      ],
      "metadata": {
        "id": "K_6TifvWwuHi"
      },
      "execution_count": 242,
      "outputs": []
    },
    {
      "cell_type": "code",
      "source": [
        "w2v_resume = np.array([getAverageWord2Vec(data_feature2.processed_resume.values[0])])\n",
        "    # get cosine similarity and euclidean distance features\n",
        "cosine_euclidean_data = np.array([cosine_euclidean(bow_jd[i], bow_resume[i]) for i in range(len(bow_resume))])\n",
        "data_feature2[[\"cosine_similarity\", \"euclidean_distance\"]] = cosine_euclidean_data"
      ],
      "metadata": {
        "id": "IgEQotY-ur_7"
      },
      "execution_count": 243,
      "outputs": []
    },
    {
      "cell_type": "code",
      "source": [
        "X_w2v_1 = data_feature2.drop(columns=['job_description', 'processed_resume'])\n",
        "X_w2v_2 = pd.DataFrame(w2v_jd, columns=['w2v_jd_'+str(i) for i in range(1, w2v_jd.shape[1]+1)])\n",
        "X_w2v_3 = pd.DataFrame(w2v_resume, columns=['w2v_resume_'+str(i) for i in range(1, w2v_resume.shape[1]+1)])\n",
        "X_w2v = pd.concat([X_w2v_1, X_w2v_2, X_w2v_3], axis=1)"
      ],
      "metadata": {
        "id": "hhRecjLWwyeR"
      },
      "execution_count": 244,
      "outputs": []
    },
    {
      "cell_type": "code",
      "source": [
        "X_w2v = X_w2v[features2]"
      ],
      "metadata": {
        "id": "CNccEcbDIfXk"
      },
      "execution_count": 245,
      "outputs": []
    },
    {
      "cell_type": "code",
      "source": [
        "X_bow = scaler1.transform(X_bow)\n",
        "X_w2v = scaler2.transform(X_w2v)"
      ],
      "metadata": {
        "colab": {
          "base_uri": "https://localhost:8080/"
        },
        "id": "5xJHd4ZbKF7Q",
        "outputId": "378fe37e-5a10-40e9-9db0-c18acb4640b4"
      },
      "execution_count": 246,
      "outputs": [
        {
          "output_type": "stream",
          "name": "stderr",
          "text": [
            "/usr/local/lib/python3.10/dist-packages/sklearn/base.py:434: UserWarning: X has feature names, but StandardScaler was fitted without feature names\n",
            "  warnings.warn(\n",
            "/usr/local/lib/python3.10/dist-packages/sklearn/base.py:434: UserWarning: X has feature names, but StandardScaler was fitted without feature names\n",
            "  warnings.warn(\n"
          ]
        }
      ]
    },
    {
      "cell_type": "code",
      "source": [
        "X_bow[np.isnan(X_bow)] = 0\n",
        "X_w2v[np.isnan(X_w2v)] = 0\n"
      ],
      "metadata": {
        "id": "E5sxkBRay6M6"
      },
      "execution_count": 247,
      "outputs": []
    },
    {
      "cell_type": "code",
      "source": [
        "X_ensemble = pd.DataFrame({'svr_linear_bow':svr_model_linear_1.predict(X_bow), \n",
        "                                'linear_reg_w2v':lr_model_2.predict(X_w2v)})"
      ],
      "metadata": {
        "id": "eKvVwAaeKsNi"
      },
      "execution_count": 248,
      "outputs": []
    },
    {
      "cell_type": "code",
      "source": [
        "scaler3 = load('/content/scaler3.joblib')\n",
        "#X_ensemble = scaler3.transform(X_ensemble)"
      ],
      "metadata": {
        "colab": {
          "base_uri": "https://localhost:8080/"
        },
        "id": "0JC4DkaH0vZE",
        "outputId": "1c927673-b3bb-4739-dfe6-53e59b0366de"
      },
      "execution_count": 249,
      "outputs": [
        {
          "output_type": "stream",
          "name": "stderr",
          "text": [
            "/usr/local/lib/python3.10/dist-packages/sklearn/base.py:324: UserWarning: Trying to unpickle estimator StandardScaler from version 0.24.2 when using version 1.0. This might lead to breaking code or invalid results. Use at your own risk. For more info please refer to:\n",
            "https://scikit-learn.org/stable/modules/model_persistence.html#security-maintainability-limitations\n",
            "  warnings.warn(\n"
          ]
        }
      ]
    },
    {
      "cell_type": "code",
      "source": [
        "X_ensemble.shape"
      ],
      "metadata": {
        "colab": {
          "base_uri": "https://localhost:8080/"
        },
        "id": "wBwlXi858uUM",
        "outputId": "0982d55f-ad9d-4406-a877-0e26a46ff9fa"
      },
      "execution_count": 217,
      "outputs": [
        {
          "output_type": "execute_result",
          "data": {
            "text/plain": [
              "(90, 2)"
            ]
          },
          "metadata": {},
          "execution_count": 217
        }
      ]
    },
    {
      "cell_type": "code",
      "source": [
        "import sklearn\n",
        "print(sklearn.__version__)\n"
      ],
      "metadata": {
        "colab": {
          "base_uri": "https://localhost:8080/"
        },
        "id": "slBAsKE_FIFT",
        "outputId": "d3c5e714-ae82-48b9-b9b3-19bb35364f91"
      },
      "execution_count": 218,
      "outputs": [
        {
          "output_type": "stream",
          "name": "stdout",
          "text": [
            "1.0\n"
          ]
        }
      ]
    },
    {
      "cell_type": "code",
      "source": [
        "from sklearn.neighbors import _dist_metrics"
      ],
      "metadata": {
        "id": "YvfaaRV_E7qs"
      },
      "execution_count": 219,
      "outputs": []
    },
    {
      "cell_type": "code",
      "source": [
        "knn_model_meta = load('/content/knn_model_meta.joblib')\n",
        "\n",
        "    # predict the o/p\n",
        "prediction = np.round(knn_model_meta.predict(X_ensemble), 2)"
      ],
      "metadata": {
        "colab": {
          "base_uri": "https://localhost:8080/"
        },
        "id": "6RMmdcq41Fb8",
        "outputId": "232d1b8b-6f9c-4987-877f-2b874857b5c3"
      },
      "execution_count": 250,
      "outputs": [
        {
          "output_type": "stream",
          "name": "stderr",
          "text": [
            "/usr/local/lib/python3.10/dist-packages/sklearn/base.py:324: UserWarning: Trying to unpickle estimator KNeighborsRegressor from version 0.24.2 when using version 1.0. This might lead to breaking code or invalid results. Use at your own risk. For more info please refer to:\n",
            "https://scikit-learn.org/stable/modules/model_persistence.html#security-maintainability-limitations\n",
            "  warnings.warn(\n",
            "/usr/local/lib/python3.10/dist-packages/sklearn/base.py:434: UserWarning: X has feature names, but KNeighborsRegressor was fitted without feature names\n",
            "  warnings.warn(\n"
          ]
        }
      ]
    },
    {
      "cell_type": "code",
      "source": [
        " prediction1=(str(prediction[0])+'%')\n",
        " print(prediction1)"
      ],
      "metadata": {
        "colab": {
          "base_uri": "https://localhost:8080/"
        },
        "id": "pKCLW-JBK1Ob",
        "outputId": "1572008f-4511-4e95-aaab-017613818035"
      },
      "execution_count": 251,
      "outputs": [
        {
          "output_type": "stream",
          "name": "stdout",
          "text": [
            "6.23%\n"
          ]
        }
      ]
    },
    {
      "cell_type": "code",
      "source": [],
      "metadata": {
        "id": "aQcNgRux-AMY"
      },
      "execution_count": null,
      "outputs": []
    }
  ]
}